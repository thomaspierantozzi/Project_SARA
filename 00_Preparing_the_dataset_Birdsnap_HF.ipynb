{
 "cells": [
  {
   "metadata": {},
   "cell_type": "markdown",
   "source": "# 0. Importing the libraries needed for the dataset preparation task",
   "id": "7235ee65351c7137"
  },
  {
   "metadata": {
    "ExecuteTime": {
     "end_time": "2025-05-25T20:37:50.692851Z",
     "start_time": "2025-05-25T20:37:49.210834Z"
    }
   },
   "cell_type": "code",
   "source": [
    "import os\n",
    "import pathlib\n",
    "import shutil\n",
    "import pandas as pd\n",
    "import random\n",
    "import requests\n",
    "import time\n",
    "import os\n",
    "from tqdm import tqdm\n",
    "from torchvision.datasets import ImageFolder\n",
    "from torch.utils.data import DataLoader\n",
    "import json\n",
    "\n",
    "#this is the library \n",
    "try:\n",
    "    from scripts import model_setup\n",
    "    from scripts import utilities\n",
    "except ImportError:\n",
    "    !git clone https://github.com/thomaspierantozzi/PyTorch_Course_by_Daniel_Bourke\n",
    "    !mv PyTorch_Course_by_Daniel_Bourke/05_PyTorch_Food101/scripts/ .\n",
    "    !rm -rf ./PyTorch_Course_by_Daniel_Bourke\n",
    "    from scripts import model_setup\n",
    "    from scripts import utilities\n",
    "\n"
   ],
   "id": "2259c3df631a1444",
   "outputs": [],
   "execution_count": 1
  },
  {
   "metadata": {},
   "cell_type": "markdown",
   "source": [
    "####Here under we create an ImageFolder folder, and we base its structure on the DataSetFolder from Torchvision documentation: [here](https://docs.pytorch.org/vision/main/generated/torchvision.datasets.DatasetFolder.html)\n",
    "\n",
    "![Folder structure]("
   ],
   "id": "a4851219855009fd"
  },
  {
   "metadata": {
    "ExecuteTime": {
     "end_time": "2025-05-25T20:37:50.696415Z",
     "start_time": "2025-05-25T20:37:50.693821Z"
    }
   },
   "cell_type": "code",
   "source": [
    "#CONSTANTS AND GENERAL CONFIGURATION FOR THE SCRIPT\n",
    "IMAGEFOLDER = pathlib.Path('./ImageFolder') #a folder which will be used as a base for the DataSet at training time\n",
    "DATASET_TRAIN_FOLDER = IMAGEFOLDER / 'train'\n",
    "DATASET_TEST_FOLDER = IMAGEFOLDER / 'cv'\n",
    "\n",
    "if not IMAGEFOLDER.exists():\n",
    "    os.mkdir(IMAGEFOLDER)\n",
    "    os.makedirs(DATASET_TRAIN_FOLDER, exist_ok=True)\n",
    "    os.makedirs(DATASET_TEST_FOLDER, exist_ok=True)\n",
    "    print('Created the base folders for the ImageFolder requested tree...')"
   ],
   "id": "450fffbaf0751fbd",
   "outputs": [
    {
     "name": "stdout",
     "output_type": "stream",
     "text": [
      "Created the base folders for the ImageFolder requested tree...\n",
      "Dataset path exists:\n",
      "\t /Users/thomaspierantozzi/PycharmProjects/Project_Birds/Datasets\n",
      "\n",
      "Dataset_ready path exists:\n",
      "\t /Users/thomaspierantozzi/PycharmProjects/Project_Birds/Datasets_ready\n"
     ]
    }
   ],
   "execution_count": 2
  },
  {
   "metadata": {},
   "cell_type": "markdown",
   "source": "#### Now let's define a list of most commonly spotted birds in Italy, since the final app is meant to be use by Italian birdwatchers.",
   "id": "6ba2438bdeda5672"
  },
  {
   "metadata": {
    "ExecuteTime": {
     "end_time": "2025-05-25T20:37:50.699021Z",
     "start_time": "2025-05-25T20:37:50.696869Z"
    }
   },
   "cell_type": "code",
   "source": [
    "def create_italian_birds_list():\n",
    "    #extracting a list of birds most likely to be spotted in Italy from wikipedia\n",
    "    import requests\n",
    "    from bs4 import BeautifulSoup\n",
    "\n",
    "    url = \"https://en.wikipedia.org/wiki/List_of_birds_of_Italy\" #the web page from witch we will basically scrap the info\n",
    "    response = requests.get(url)\n",
    "    soup = BeautifulSoup(response.content, \"html.parser\")\n",
    "\n",
    "    birds = []\n",
    "\n",
    "    for bird in soup.select(\"div div div main div div div div ul li i\"):\n",
    "        bird_name = bird.get_text(strip=True)\n",
    "        birds.append(bird_name)\n",
    "\n",
    "    #adding the birds of the orders represented by fewer species, which are formatted differently in the webpage\n",
    "    for bird in soup.select(\"div div div main div div div ul li i\"):\n",
    "        bird_name = bird.get_text(strip=True)\n",
    "        birds.append(bird_name)\n",
    "\n",
    "    # Save to file\n",
    "    with open(\"birds_of_italy.txt\", \"w\", encoding=\"utf-8\") as f:\n",
    "        for bird in sorted(set(birds)):\n",
    "            f.write(bird + \"\\n\")\n",
    "        print(f'A list of the italian birds has been exported in: {os.getcwd()}/birds_of_italy.txt')\n",
    "    \n",
    "    print('The variable now holds a list of the scientific names for the birds most likely to spot in Italy...')\n",
    "    return birds"
   ],
   "id": "6a66bdaa83453c0",
   "outputs": [],
   "execution_count": 3
  },
  {
   "metadata": {
    "ExecuteTime": {
     "end_time": "2025-05-25T20:37:50.990343Z",
     "start_time": "2025-05-25T20:37:50.699548Z"
    }
   },
   "cell_type": "code",
   "source": "italian_birds_list = create_italian_birds_list() #this will be a list loaded in memory with all the italian birds. A *.txt file is available as well.",
   "id": "6d7b78a9594e3bc7",
   "outputs": [
    {
     "name": "stdout",
     "output_type": "stream",
     "text": [
      "A list of the italian birds has been exported in: /Users/thomaspierantozzi/PycharmProjects/Project_Birds/birds_of_italy.txt\n",
      "The variable now holds a list of the scientific names for the birds most likely to spot in Italy...\n"
     ]
    }
   ],
   "execution_count": 4
  },
  {
   "metadata": {},
   "cell_type": "markdown",
   "source": "# 1. BirdSnap Dataset",
   "id": "fdc514e3aebec95f"
  },
  {
   "metadata": {},
   "cell_type": "markdown",
   "source": [
    "### 1. Sorting the dataset content\n",
    "#### The dataset found on huggingface reports just a couple of *.txt file which list only the species and the links to collect the 50,000 and counting pictures. The best way to deal with that is to set some lines of code with the aid of multithreading module"
   ],
   "id": "927a577c840865dd"
  },
  {
   "metadata": {
    "ExecuteTime": {
     "end_time": "2025-05-25T20:37:51.045597Z",
     "start_time": "2025-05-25T20:37:50.991638Z"
    }
   },
   "cell_type": "code",
   "source": [
    "BIRDSNAP_DATASET_PATH = pathlib.Path('./Datasets/BirdSnap')\n",
    "\n",
    "birdsnap_file_name = []\n",
    "birdsnap_links = []\n",
    "\n",
    "counter = 0\n",
    "with open(f'{BIRDSNAP_DATASET_PATH}/images.txt', 'r') as images_text_file:\n",
    "    for line in images_text_file.readlines():\n",
    "        words = line.split()\n",
    "        birdsnap_links.append(words[0])\n",
    "        birdsnap_file_name.append(words[2])\n",
    "\n",
    "birdsnap_file_name.pop(0) #removing the values found in the first line which are only representing the header of the file\n",
    "birdsnap_links.pop(0)\n",
    "        \n",
    "print(f'The system found {len(birdsnap_file_name)} birdsnap examples and {len(birdsnap_links)} birdsnap links.')"
   ],
   "id": "b91b6f37ba166ea",
   "outputs": [
    {
     "name": "stdout",
     "output_type": "stream",
     "text": [
      "The system found 49829 birdsnap examples and 49829 birdsnap links.\n"
     ]
    }
   ],
   "execution_count": 5
  },
  {
   "metadata": {},
   "cell_type": "markdown",
   "source": "#### To turn the ommon names reported in the dataset, we need to leverage an API. The documentation can be find [here](https://nuthatch.lastelm.software/swagger.html)",
   "id": "bedd03ce6430b6c8"
  },
  {
   "metadata": {
    "ExecuteTime": {
     "end_time": "2025-05-25T20:37:51.050378Z",
     "start_time": "2025-05-25T20:37:51.046245Z"
    }
   },
   "cell_type": "code",
   "source": [
    "#API key for the Nuthatch enddpoint. Needed to turn the common names of birds into the scientific ones\n",
    "API_KEY='0587f3d3-b727-4a97-89d7-d3d27a850ff5'\n",
    "API_ENDPOINT = 'https://nuthatch.lastelm.software/v2/birds'\n",
    "COMMON_TO_SCI_NAME_FILE = pathlib.Path(BIRDSNAP_DATASET_PATH / 'Common_to_sci_name_NUTHATCH.json')\n",
    "\n",
    "headers = {\n",
    "    'accept': 'application/json',\n",
    "    'API-Key': API_KEY,\n",
    "}\n",
    "\n",
    "#birds_commons_names = list(birdsnap_df['species'].unique())\n",
    "birds_sci_names = {} \n",
    "ok_counter = 0 #a counter to plot how many ok and ok results we gather, while downloading\n",
    "nok_counter = 0\n",
    "\n",
    "if not COMMON_TO_SCI_NAME_FILE.exists():\n",
    "    for name in birds_commons_names:\n",
    "        response_bird = requests.get(API_ENDPOINT, headers=headers, params={'name': name.replace('_', ' ')})\n",
    "        response_bird.raise_for_status()\n",
    "        response_bird_json = response_bird.json()\n",
    "        try:\n",
    "            birds_sci_names.update({name:response_bird_json['entities'][0]['sciName']})\n",
    "            ok_counter += 1\n",
    "        except IndexError:\n",
    "            birds_sci_names.update({name:f'{name}**'}) #where a sci_name is not found then i mark the common name with ** to highlight that fact\n",
    "            nok_counter += 1\n",
    "            print(f'Results gathered: {ok_counter:0>3} OK / {nok_counter:0>3} NOK - {ok_counter + nok_counter:0>3} / 500', end='\\r')\n",
    "        time.sleep(0.3)\n",
    "    \n",
    "    with open(COMMON_TO_SCI_NAME_FILE, 'a') as file:\n",
    "        json.dump(birds_sci_names, file, indent=4)\n",
    "        \n",
    "else:\n",
    "    with open(COMMON_TO_SCI_NAME_FILE, 'r') as file:\n",
    "        birds_sci_names=json.load(file)"
   ],
   "id": "93bf82a45c92786b",
   "outputs": [],
   "execution_count": 6
  },
  {
   "metadata": {},
   "cell_type": "markdown",
   "source": "#### Now we have to match what we have in our dataset and whose scientific name is available, with the list of the most common birds of Italy. First off, let's push the list of the scientific names just collected, into our dataframe",
   "id": "fb1fa9303a40990f"
  },
  {
   "metadata": {
    "ExecuteTime": {
     "end_time": "2025-05-25T20:37:51.070655Z",
     "start_time": "2025-05-25T20:37:51.054202Z"
    }
   },
   "cell_type": "code",
   "source": [
    "birds_for_training = [bird for bird in birds_sci_names.values() if bird.replace('_', ' ').lower() in [bird.lower() for bird in italian_birds_list]]\n",
    "print(f'Found {len(birds_for_training)} classes for training which are both in the \\'italian birds\\' and in the \\'Birdsnap\\' dataset...')"
   ],
   "id": "396f6fc7f7eab232",
   "outputs": [
    {
     "name": "stdout",
     "output_type": "stream",
     "text": [
      "Found 71 classes for training which are both in the 'italian birds' and in the 'Birdsnap' dataset...\n"
     ]
    }
   ],
   "execution_count": 8
  },
  {
   "metadata": {},
   "cell_type": "markdown",
   "source": "#### The result is quite disappointing. Only 71 birds match the fact of being in the Birdsnap and being commonly spottable in Italy.",
   "id": "5716a675dbffdddf"
  },
  {
   "metadata": {},
   "cell_type": "markdown",
   "source": "## 2. Downloading the dataset content for italian species",
   "id": "a49e9977103a2d85"
  },
  {
   "metadata": {},
   "cell_type": "markdown",
   "source": [
    "#### it seems that downloading the dataset via Flickr URLs creates lots of non-valid files. Let's try finding a repository where the pictures are already available ready-to-use.\n",
    "#### The following one ([here](https://huggingface.co/datasets/HuggingFaceM4/Birdsnap/tree/main)) seems promising"
   ],
   "id": "63df293ee84ed8fd"
  },
  {
   "metadata": {
    "ExecuteTime": {
     "end_time": "2025-05-25T20:43:36.059764Z",
     "start_time": "2025-05-25T20:37:51.071140Z"
    }
   },
   "cell_type": "code",
   "source": [
    "#let's import hugging face hub. a library to manage hugging_face repos\n",
    "from huggingface_hub import hf_hub_download\n",
    "\n",
    "#inverting the birds_sci_name dictionary: the keys and values must be swapped for the purpose of the next loop\n",
    "birds_sci_names_inverted = {value: key for key, value in birds_sci_names.items()}\n",
    "\n",
    "#having the dictionary inverted we can draw a name from birds_for_training (which contains sc_names) and get the file downloaded from HF (where the files are stored labelled with their common name)\n",
    "for class_for_training in birds_for_training: #TODO 1: QUI DEVI INSERIRE IL NOME COMUNE E NON QUELLO SCIENTIFICO. USA IL DICT BIRDS_SCI_NAME PER AIUTARTI\n",
    "    class_for_training = birds_sci_names_inverted[class_for_training]\n",
    "    hf_hub_download(\n",
    "        repo_id='HuggingFaceM4/Birdsnap',\n",
    "        filename=f'images/{class_for_training}.tar',\n",
    "        repo_type='dataset',\n",
    "        local_dir=BIRDSNAP_DATASET_PATH / 'download',\n",
    "    )"
   ],
   "id": "4e7aa99f876f2d67",
   "outputs": [
    {
     "data": {
      "text/plain": [
       "Northern_Goshawk.tar:   0%|          | 0.00/198M [00:00<?, ?B/s]"
      ],
      "application/vnd.jupyter.widget-view+json": {
       "version_major": 2,
       "version_minor": 0,
       "model_id": "c54168347f2f4e5eaa8cd09b974d35a1"
      }
     },
     "metadata": {},
     "output_type": "display_data"
    },
    {
     "data": {
      "text/plain": [
       "Golden_Eagle.tar:   0%|          | 0.00/260M [00:00<?, ?B/s]"
      ],
      "application/vnd.jupyter.widget-view+json": {
       "version_major": 2,
       "version_minor": 0,
       "model_id": "7533ee6a99804c8c9d8ffd35296a3571"
      }
     },
     "metadata": {},
     "output_type": "display_data"
    },
    {
     "data": {
      "text/plain": [
       "Horned_Lark.tar:   0%|          | 0.00/159M [00:00<?, ?B/s]"
      ],
      "application/vnd.jupyter.widget-view+json": {
       "version_major": 2,
       "version_minor": 0,
       "model_id": "da2e0b919b024f3ab3d78869aa93db4b"
      }
     },
     "metadata": {},
     "output_type": "display_data"
    },
    {
     "data": {
      "text/plain": [
       "Common_Murre.tar:   0%|          | 0.00/94.5M [00:00<?, ?B/s]"
      ],
      "application/vnd.jupyter.widget-view+json": {
       "version_major": 2,
       "version_minor": 0,
       "model_id": "c0ccbd1e324a4e0b9e1b3fa743fe0ffd"
      }
     },
     "metadata": {},
     "output_type": "display_data"
    },
    {
     "data": {
      "text/plain": [
       "Northern_Pintail.tar:   0%|          | 0.00/264M [00:00<?, ?B/s]"
      ],
      "application/vnd.jupyter.widget-view+json": {
       "version_major": 2,
       "version_minor": 0,
       "model_id": "28e891b0fd54420eb77cdefb5db64f0d"
      }
     },
     "metadata": {},
     "output_type": "display_data"
    },
    {
     "data": {
      "text/plain": [
       "Eurasian_Wigeon.tar:   0%|          | 0.00/93.1M [00:00<?, ?B/s]"
      ],
      "application/vnd.jupyter.widget-view+json": {
       "version_major": 2,
       "version_minor": 0,
       "model_id": "43235b14e8ca4b4a936a801c9456bbea"
      }
     },
     "metadata": {},
     "output_type": "display_data"
    },
    {
     "data": {
      "text/plain": [
       "Mallard.tar:   0%|          | 0.00/169M [00:00<?, ?B/s]"
      ],
      "application/vnd.jupyter.widget-view+json": {
       "version_major": 2,
       "version_minor": 0,
       "model_id": "d19fe207ffa74d83910b42ab0179a329"
      }
     },
     "metadata": {},
     "output_type": "display_data"
    },
    {
     "data": {
      "text/plain": [
       "Gadwall.tar:   0%|          | 0.00/157M [00:00<?, ?B/s]"
      ],
      "application/vnd.jupyter.widget-view+json": {
       "version_major": 2,
       "version_minor": 0,
       "model_id": "bbc300be123d44c48ffbfbacacb44c75"
      }
     },
     "metadata": {},
     "output_type": "display_data"
    },
    {
     "data": {
      "text/plain": [
       "Greater_Scaup.tar:   0%|          | 0.00/121M [00:00<?, ?B/s]"
      ],
      "application/vnd.jupyter.widget-view+json": {
       "version_major": 2,
       "version_minor": 0,
       "model_id": "652c030b8ab0431bad65fccd934ecd9b"
      }
     },
     "metadata": {},
     "output_type": "display_data"
    },
    {
     "data": {
      "text/plain": [
       "Common_Goldeneye.tar:   0%|          | 0.00/131M [00:00<?, ?B/s]"
      ],
      "application/vnd.jupyter.widget-view+json": {
       "version_major": 2,
       "version_minor": 0,
       "model_id": "d2343d0b5fae448e99c67ce1849addf7"
      }
     },
     "metadata": {},
     "output_type": "display_data"
    },
    {
     "data": {
      "text/plain": [
       "Harlequin_Duck.tar:   0%|          | 0.00/129M [00:00<?, ?B/s]"
      ],
      "application/vnd.jupyter.widget-view+json": {
       "version_major": 2,
       "version_minor": 0,
       "model_id": "dfb0ff946ca64530a73ada415f01cfca"
      }
     },
     "metadata": {},
     "output_type": "display_data"
    },
    {
     "data": {
      "text/plain": [
       "Common_Merganser.tar:   0%|          | 0.00/146M [00:00<?, ?B/s]"
      ],
      "application/vnd.jupyter.widget-view+json": {
       "version_major": 2,
       "version_minor": 0,
       "model_id": "d61f9f955c034b73bc0049f550b1037e"
      }
     },
     "metadata": {},
     "output_type": "display_data"
    },
    {
     "data": {
      "text/plain": [
       "Ruddy_Duck.tar:   0%|          | 0.00/161M [00:00<?, ?B/s]"
      ],
      "application/vnd.jupyter.widget-view+json": {
       "version_major": 2,
       "version_minor": 0,
       "model_id": "4c2db42c1a3c40baa6d420b58049b0e4"
      }
     },
     "metadata": {},
     "output_type": "display_data"
    },
    {
     "data": {
      "text/plain": [
       "Common_Eider.tar:   0%|          | 0.00/205M [00:00<?, ?B/s]"
      ],
      "application/vnd.jupyter.widget-view+json": {
       "version_major": 2,
       "version_minor": 0,
       "model_id": "5f0b1a7ed2ec4ab1abdd6cfdd5792743"
      }
     },
     "metadata": {},
     "output_type": "display_data"
    },
    {
     "data": {
      "text/plain": [
       "Brant.tar:   0%|          | 0.00/136M [00:00<?, ?B/s]"
      ],
      "application/vnd.jupyter.widget-view+json": {
       "version_major": 2,
       "version_minor": 0,
       "model_id": "06a353ba7aca48d8834474a6b430cdfd"
      }
     },
     "metadata": {},
     "output_type": "display_data"
    },
    {
     "data": {
      "text/plain": [
       "Canada_Goose.tar:   0%|          | 0.00/219M [00:00<?, ?B/s]"
      ],
      "application/vnd.jupyter.widget-view+json": {
       "version_major": 2,
       "version_minor": 0,
       "model_id": "48bf7b9e7df342db82a9a98bd7b50c19"
      }
     },
     "metadata": {},
     "output_type": "display_data"
    },
    {
     "data": {
      "text/plain": [
       "Snow_Goose.tar:   0%|          | 0.00/79.0M [00:00<?, ?B/s]"
      ],
      "application/vnd.jupyter.widget-view+json": {
       "version_major": 2,
       "version_minor": 0,
       "model_id": "e6591bf3515647028e51afc2e6a40418"
      }
     },
     "metadata": {},
     "output_type": "display_data"
    },
    {
     "data": {
      "text/plain": [
       "Tundra_Swan.tar:   0%|          | 0.00/107M [00:00<?, ?B/s]"
      ],
      "application/vnd.jupyter.widget-view+json": {
       "version_major": 2,
       "version_minor": 0,
       "model_id": "26d07de26180436887c1ea1114b70915"
      }
     },
     "metadata": {},
     "output_type": "display_data"
    },
    {
     "data": {
      "text/plain": [
       "Mute_Swan.tar:   0%|          | 0.00/155M [00:00<?, ?B/s]"
      ],
      "application/vnd.jupyter.widget-view+json": {
       "version_major": 2,
       "version_minor": 0,
       "model_id": "162cb0b5cdf34600946e43da2fbd2da8"
      }
     },
     "metadata": {},
     "output_type": "display_data"
    },
    {
     "data": {
      "text/plain": [
       "Great_Egret.tar:   0%|          | 0.00/217M [00:00<?, ?B/s]"
      ],
      "application/vnd.jupyter.widget-view+json": {
       "version_major": 2,
       "version_minor": 0,
       "model_id": "b53d27e2155d4323a54cbcb97cc03464"
      }
     },
     "metadata": {},
     "output_type": "display_data"
    },
    {
     "data": {
      "text/plain": [
       "Cattle_Egret.tar:   0%|          | 0.00/169M [00:00<?, ?B/s]"
      ],
      "application/vnd.jupyter.widget-view+json": {
       "version_major": 2,
       "version_minor": 0,
       "model_id": "29fea64b058a4ebfae5b89c524a5f787"
      }
     },
     "metadata": {},
     "output_type": "display_data"
    },
    {
     "data": {
      "text/plain": [
       "Bohemian_Waxwing.tar:   0%|          | 0.00/123M [00:00<?, ?B/s]"
      ],
      "application/vnd.jupyter.widget-view+json": {
       "version_major": 2,
       "version_minor": 0,
       "model_id": "4be3f6b538104d54a50420da1b3843bc"
      }
     },
     "metadata": {},
     "output_type": "display_data"
    },
    {
     "data": {
      "text/plain": [
       "Lapland_Longspur.tar:   0%|          | 0.00/160M [00:00<?, ?B/s]"
      ],
      "application/vnd.jupyter.widget-view+json": {
       "version_major": 2,
       "version_minor": 0,
       "model_id": "18cd7f5ed0b342c3ba718fdea2f4fc0a"
      }
     },
     "metadata": {},
     "output_type": "display_data"
    },
    {
     "data": {
      "text/plain": [
       "Snow_Bunting.tar:   0%|          | 0.00/118M [00:00<?, ?B/s]"
      ],
      "application/vnd.jupyter.widget-view+json": {
       "version_major": 2,
       "version_minor": 0,
       "model_id": "ba7338aa0a6a4232b632a06bfd4878ba"
      }
     },
     "metadata": {},
     "output_type": "display_data"
    },
    {
     "data": {
      "text/plain": [
       "Rock_Pigeon.tar:   0%|          | 0.00/209M [00:00<?, ?B/s]"
      ],
      "application/vnd.jupyter.widget-view+json": {
       "version_major": 2,
       "version_minor": 0,
       "model_id": "e087af8f4eb741aeb7c1962238bcbf04"
      }
     },
     "metadata": {},
     "output_type": "display_data"
    },
    {
     "data": {
      "text/plain": [
       "Common_Raven.tar:   0%|          | 0.00/168M [00:00<?, ?B/s]"
      ],
      "application/vnd.jupyter.widget-view+json": {
       "version_major": 2,
       "version_minor": 0,
       "model_id": "a736e7db3cae4593a8bec4ec9247456a"
      }
     },
     "metadata": {},
     "output_type": "display_data"
    },
    {
     "data": {
      "text/plain": [
       "Merlin.tar:   0%|          | 0.00/146M [00:00<?, ?B/s]"
      ],
      "application/vnd.jupyter.widget-view+json": {
       "version_major": 2,
       "version_minor": 0,
       "model_id": "d02c3f069ff6474f969b8675f6c2ee51"
      }
     },
     "metadata": {},
     "output_type": "display_data"
    },
    {
     "data": {
      "text/plain": [
       "Peregrine_Falcon.tar:   0%|          | 0.00/65.3M [00:00<?, ?B/s]"
      ],
      "application/vnd.jupyter.widget-view+json": {
       "version_major": 2,
       "version_minor": 0,
       "model_id": "28de8647a16c421785e6f4b4ebd68287"
      }
     },
     "metadata": {},
     "output_type": "display_data"
    },
    {
     "data": {
      "text/plain": [
       "Common_Redpoll.tar:   0%|          | 0.00/124M [00:00<?, ?B/s]"
      ],
      "application/vnd.jupyter.widget-view+json": {
       "version_major": 2,
       "version_minor": 0,
       "model_id": "5d228c0f11bb48c280996fb639540d39"
      }
     },
     "metadata": {},
     "output_type": "display_data"
    },
    {
     "data": {
      "text/plain": [
       "Red_Crossbill.tar:   0%|          | 0.00/85.1M [00:00<?, ?B/s]"
      ],
      "application/vnd.jupyter.widget-view+json": {
       "version_major": 2,
       "version_minor": 0,
       "model_id": "ae7ee3a91b0046cb86b8ad7899145ab0"
      }
     },
     "metadata": {},
     "output_type": "display_data"
    },
    {
     "data": {
      "text/plain": [
       "Pine_Grosbeak.tar:   0%|          | 0.00/233M [00:00<?, ?B/s]"
      ],
      "application/vnd.jupyter.widget-view+json": {
       "version_major": 2,
       "version_minor": 0,
       "model_id": "cf3e3bc08f1c4f5890052c129b3527ef"
      }
     },
     "metadata": {},
     "output_type": "display_data"
    },
    {
     "data": {
      "text/plain": [
       "Common_Loon.tar:   0%|          | 0.00/194M [00:00<?, ?B/s]"
      ],
      "application/vnd.jupyter.widget-view+json": {
       "version_major": 2,
       "version_minor": 0,
       "model_id": "3ea208a7b83a403582e58a368b354be8"
      }
     },
     "metadata": {},
     "output_type": "display_data"
    },
    {
     "data": {
      "text/plain": [
       "Barn_Swallow.tar:   0%|          | 0.00/95.7M [00:00<?, ?B/s]"
      ],
      "application/vnd.jupyter.widget-view+json": {
       "version_major": 2,
       "version_minor": 0,
       "model_id": "364b7f767d1a48f4a1e50d376fe05253"
      }
     },
     "metadata": {},
     "output_type": "display_data"
    },
    {
     "data": {
      "text/plain": [
       "Bobolink.tar:   0%|          | 0.00/129M [00:00<?, ?B/s]"
      ],
      "application/vnd.jupyter.widget-view+json": {
       "version_major": 2,
       "version_minor": 0,
       "model_id": "d5884ae454174024a8f2cc8fe8353d38"
      }
     },
     "metadata": {},
     "output_type": "display_data"
    },
    {
     "data": {
      "text/plain": [
       "Herring_Gull.tar:   0%|          | 0.00/204M [00:00<?, ?B/s]"
      ],
      "application/vnd.jupyter.widget-view+json": {
       "version_major": 2,
       "version_minor": 0,
       "model_id": "3f2fedb219714cadb2327f38037a11ec"
      }
     },
     "metadata": {},
     "output_type": "display_data"
    },
    {
     "data": {
      "text/plain": [
       "Mew_Gull.tar:   0%|          | 0.00/205M [00:00<?, ?B/s]"
      ],
      "application/vnd.jupyter.widget-view+json": {
       "version_major": 2,
       "version_minor": 0,
       "model_id": "8f992560b83a42339fed305772e21552"
      }
     },
     "metadata": {},
     "output_type": "display_data"
    },
    {
     "data": {
      "text/plain": [
       "Iceland_Gull.tar:   0%|          | 0.00/89.8M [00:00<?, ?B/s]"
      ],
      "application/vnd.jupyter.widget-view+json": {
       "version_major": 2,
       "version_minor": 0,
       "model_id": "4f60df4b3bb4491da98d895523e4c7fd"
      }
     },
     "metadata": {},
     "output_type": "display_data"
    },
    {
     "data": {
      "text/plain": [
       "Glaucous_Gull.tar:   0%|          | 0.00/163M [00:00<?, ?B/s]"
      ],
      "application/vnd.jupyter.widget-view+json": {
       "version_major": 2,
       "version_minor": 0,
       "model_id": "ffead7bf170a411f88c75f35716560b2"
      }
     },
     "metadata": {},
     "output_type": "display_data"
    },
    {
     "data": {
      "text/plain": [
       "Laughing_Gull.tar:   0%|          | 0.00/186M [00:00<?, ?B/s]"
      ],
      "application/vnd.jupyter.widget-view+json": {
       "version_major": 2,
       "version_minor": 0,
       "model_id": "d60428ef6e7d41beae9ae534340229a5"
      }
     },
     "metadata": {},
     "output_type": "display_data"
    },
    {
     "data": {
      "text/plain": [
       "Black_Tern.tar:   0%|          | 0.00/65.9M [00:00<?, ?B/s]"
      ],
      "application/vnd.jupyter.widget-view+json": {
       "version_major": 2,
       "version_minor": 0,
       "model_id": "c5f9eb1c5d1e4793a7caaeee5005b3cb"
      }
     },
     "metadata": {},
     "output_type": "display_data"
    },
    {
     "data": {
      "text/plain": [
       "Caspian_Tern.tar:   0%|          | 0.00/106M [00:00<?, ?B/s]"
      ],
      "application/vnd.jupyter.widget-view+json": {
       "version_major": 2,
       "version_minor": 0,
       "model_id": "1a0ba02c4fab4d89ac9b9538f7828054"
      }
     },
     "metadata": {},
     "output_type": "display_data"
    },
    {
     "data": {
      "text/plain": [
       "Roseate_Tern.tar:   0%|          | 0.00/84.5M [00:00<?, ?B/s]"
      ],
      "application/vnd.jupyter.widget-view+json": {
       "version_major": 2,
       "version_minor": 0,
       "model_id": "eab2577d717f42d29a04c620dcb0b561"
      }
     },
     "metadata": {},
     "output_type": "display_data"
    },
    {
     "data": {
      "text/plain": [
       "Common_Tern.tar:   0%|          | 0.00/98.1M [00:00<?, ?B/s]"
      ],
      "application/vnd.jupyter.widget-view+json": {
       "version_major": 2,
       "version_minor": 0,
       "model_id": "89ffa4a5e5a346aa96006dc589b65fa2"
      }
     },
     "metadata": {},
     "output_type": "display_data"
    },
    {
     "data": {
      "text/plain": [
       "Arctic_Tern.tar:   0%|          | 0.00/224M [00:00<?, ?B/s]"
      ],
      "application/vnd.jupyter.widget-view+json": {
       "version_major": 2,
       "version_minor": 0,
       "model_id": "6619db39b5c241bab916f917fb9929b1"
      }
     },
     "metadata": {},
     "output_type": "display_data"
    },
    {
     "data": {
      "text/plain": [
       "Sandwich_Tern.tar:   0%|          | 0.00/115M [00:00<?, ?B/s]"
      ],
      "application/vnd.jupyter.widget-view+json": {
       "version_major": 2,
       "version_minor": 0,
       "model_id": "1023a49ecba34586a6db56f578d0af83"
      }
     },
     "metadata": {},
     "output_type": "display_data"
    },
    {
     "data": {
      "text/plain": [
       "American_Pipit.tar:   0%|          | 0.00/162M [00:00<?, ?B/s]"
      ],
      "application/vnd.jupyter.widget-view+json": {
       "version_major": 2,
       "version_minor": 0,
       "model_id": "02b20b8730bf48bf9295703b3a84d859"
      }
     },
     "metadata": {},
     "output_type": "display_data"
    },
    {
     "data": {
      "text/plain": [
       "Northern_Bobwhite.tar:   0%|          | 0.00/101M [00:00<?, ?B/s]"
      ],
      "application/vnd.jupyter.widget-view+json": {
       "version_major": 2,
       "version_minor": 0,
       "model_id": "17e1cd9043e1461ea023f3e433b00f61"
      }
     },
     "metadata": {},
     "output_type": "display_data"
    },
    {
     "data": {
      "text/plain": [
       "Osprey.tar:   0%|          | 0.00/146M [00:00<?, ?B/s]"
      ],
      "application/vnd.jupyter.widget-view+json": {
       "version_major": 2,
       "version_minor": 0,
       "model_id": "c1683d862de84e47a738048440d95ae4"
      }
     },
     "metadata": {},
     "output_type": "display_data"
    },
    {
     "data": {
      "text/plain": [
       "House_Sparrow.tar:   0%|          | 0.00/124M [00:00<?, ?B/s]"
      ],
      "application/vnd.jupyter.widget-view+json": {
       "version_major": 2,
       "version_minor": 0,
       "model_id": "4974e5e92e584ca7a3d24cf7752296d0"
      }
     },
     "metadata": {},
     "output_type": "display_data"
    },
    {
     "data": {
      "text/plain": [
       "Great_Cormorant.tar:   0%|          | 0.00/98.9M [00:00<?, ?B/s]"
      ],
      "application/vnd.jupyter.widget-view+json": {
       "version_major": 2,
       "version_minor": 0,
       "model_id": "1615061ac0d3405cb70dfc6c778ec7ea"
      }
     },
     "metadata": {},
     "output_type": "display_data"
    },
    {
     "data": {
      "text/plain": [
       "Rock_Ptarmigan.tar:   0%|          | 0.00/150M [00:00<?, ?B/s]"
      ],
      "application/vnd.jupyter.widget-view+json": {
       "version_major": 2,
       "version_minor": 0,
       "model_id": "8d833b8742d24a9e81842df51d6b9f90"
      }
     },
     "metadata": {},
     "output_type": "display_data"
    },
    {
     "data": {
      "text/plain": [
       "Horned_Grebe.tar:   0%|          | 0.00/90.0M [00:00<?, ?B/s]"
      ],
      "application/vnd.jupyter.widget-view+json": {
       "version_major": 2,
       "version_minor": 0,
       "model_id": "e1e108c19ee442f187a611109310d78d"
      }
     },
     "metadata": {},
     "output_type": "display_data"
    },
    {
     "data": {
      "text/plain": [
       "Eared_Grebe.tar:   0%|          | 0.00/89.3M [00:00<?, ?B/s]"
      ],
      "application/vnd.jupyter.widget-view+json": {
       "version_major": 2,
       "version_minor": 0,
       "model_id": "deee98fa0f4f4e9182cafe161c95ad20"
      }
     },
     "metadata": {},
     "output_type": "display_data"
    },
    {
     "data": {
      "text/plain": [
       "Monk_Parakeet.tar:   0%|          | 0.00/208M [00:00<?, ?B/s]"
      ],
      "application/vnd.jupyter.widget-view+json": {
       "version_major": 2,
       "version_minor": 0,
       "model_id": "bc00b24cedc34fe8a20e1e3ae17c7c06"
      }
     },
     "metadata": {},
     "output_type": "display_data"
    },
    {
     "data": {
      "text/plain": [
       "Purple_Gallinule.tar:   0%|          | 0.00/167M [00:00<?, ?B/s]"
      ],
      "application/vnd.jupyter.widget-view+json": {
       "version_major": 2,
       "version_minor": 0,
       "model_id": "49937359e5fc48c3890fed2398de88b0"
      }
     },
     "metadata": {},
     "output_type": "display_data"
    },
    {
     "data": {
      "text/plain": [
       "Red_Phalarope.tar:   0%|          | 0.00/117M [00:00<?, ?B/s]"
      ],
      "application/vnd.jupyter.widget-view+json": {
       "version_major": 2,
       "version_minor": 0,
       "model_id": "a14b23d16dd8480194663b6cbc1bba63"
      }
     },
     "metadata": {},
     "output_type": "display_data"
    },
    {
     "data": {
      "text/plain": [
       "Ruddy_Turnstone.tar:   0%|          | 0.00/176M [00:00<?, ?B/s]"
      ],
      "application/vnd.jupyter.widget-view+json": {
       "version_major": 2,
       "version_minor": 0,
       "model_id": "9c1a9af76aab4b9e8096215dbc873004"
      }
     },
     "metadata": {},
     "output_type": "display_data"
    },
    {
     "data": {
      "text/plain": [
       "Upland_Sandpiper.tar:   0%|          | 0.00/80.8M [00:00<?, ?B/s]"
      ],
      "application/vnd.jupyter.widget-view+json": {
       "version_major": 2,
       "version_minor": 0,
       "model_id": "d9e7a89a10964cd0b4942d1f0665c72f"
      }
     },
     "metadata": {},
     "output_type": "display_data"
    },
    {
     "data": {
      "text/plain": [
       "Sanderling.tar:   0%|          | 0.00/103M [00:00<?, ?B/s]"
      ],
      "application/vnd.jupyter.widget-view+json": {
       "version_major": 2,
       "version_minor": 0,
       "model_id": "19ff0f4f57b943fdbac5ad548a880666"
      }
     },
     "metadata": {},
     "output_type": "display_data"
    },
    {
     "data": {
      "text/plain": [
       "Dunlin.tar:   0%|          | 0.00/92.7M [00:00<?, ?B/s]"
      ],
      "application/vnd.jupyter.widget-view+json": {
       "version_major": 2,
       "version_minor": 0,
       "model_id": "b6d82eac155d496c872e0ad496f0839d"
      }
     },
     "metadata": {},
     "output_type": "display_data"
    },
    {
     "data": {
      "text/plain": [
       "Red_Knot.tar:   0%|          | 0.00/86.8M [00:00<?, ?B/s]"
      ],
      "application/vnd.jupyter.widget-view+json": {
       "version_major": 2,
       "version_minor": 0,
       "model_id": "2f208042e0334e3692a5787879a7a233"
      }
     },
     "metadata": {},
     "output_type": "display_data"
    },
    {
     "data": {
      "text/plain": [
       "Purple_Sandpiper.tar:   0%|          | 0.00/216M [00:00<?, ?B/s]"
      ],
      "application/vnd.jupyter.widget-view+json": {
       "version_major": 2,
       "version_minor": 0,
       "model_id": "a9105eff54bc4dd39abed67be3256128"
      }
     },
     "metadata": {},
     "output_type": "display_data"
    },
    {
     "data": {
      "text/plain": [
       "Pectoral_Sandpiper.tar:   0%|          | 0.00/117M [00:00<?, ?B/s]"
      ],
      "application/vnd.jupyter.widget-view+json": {
       "version_major": 2,
       "version_minor": 0,
       "model_id": "5e3640407ce0497d9a1f5368ef12dc32"
      }
     },
     "metadata": {},
     "output_type": "display_data"
    },
    {
     "data": {
      "text/plain": [
       "Least_Sandpiper.tar:   0%|          | 0.00/165M [00:00<?, ?B/s]"
      ],
      "application/vnd.jupyter.widget-view+json": {
       "version_major": 2,
       "version_minor": 0,
       "model_id": "c32870194df4435e9a61944bc4952a7c"
      }
     },
     "metadata": {},
     "output_type": "display_data"
    },
    {
     "data": {
      "text/plain": [
       "Whimbrel.tar:   0%|          | 0.00/162M [00:00<?, ?B/s]"
      ],
      "application/vnd.jupyter.widget-view+json": {
       "version_major": 2,
       "version_minor": 0,
       "model_id": "b149578ba4e049d69986ba096e643163"
      }
     },
     "metadata": {},
     "output_type": "display_data"
    },
    {
     "data": {
      "text/plain": [
       "Lesser_Yellowlegs.tar:   0%|          | 0.00/211M [00:00<?, ?B/s]"
      ],
      "application/vnd.jupyter.widget-view+json": {
       "version_major": 2,
       "version_minor": 0,
       "model_id": "40e4cf296d4e47579dfd63382045b255"
      }
     },
     "metadata": {},
     "output_type": "display_data"
    },
    {
     "data": {
      "text/plain": [
       "Willet.tar:   0%|          | 0.00/223M [00:00<?, ?B/s]"
      ],
      "application/vnd.jupyter.widget-view+json": {
       "version_major": 2,
       "version_minor": 0,
       "model_id": "310ed342ce564f0897ce122aed0fa3d6"
      }
     },
     "metadata": {},
     "output_type": "display_data"
    },
    {
     "data": {
      "text/plain": [
       "European_Starling.tar:   0%|          | 0.00/176M [00:00<?, ?B/s]"
      ],
      "application/vnd.jupyter.widget-view+json": {
       "version_major": 2,
       "version_minor": 0,
       "model_id": "5d21c500f127490f9bc9f4001c038033"
      }
     },
     "metadata": {},
     "output_type": "display_data"
    },
    {
     "data": {
      "text/plain": [
       "Northern_Gannet.tar:   0%|          | 0.00/158M [00:00<?, ?B/s]"
      ],
      "application/vnd.jupyter.widget-view+json": {
       "version_major": 2,
       "version_minor": 0,
       "model_id": "3074181415914e59870666772036186e"
      }
     },
     "metadata": {},
     "output_type": "display_data"
    },
    {
     "data": {
      "text/plain": [
       "Glossy_Ibis.tar:   0%|          | 0.00/167M [00:00<?, ?B/s]"
      ],
      "application/vnd.jupyter.widget-view+json": {
       "version_major": 2,
       "version_minor": 0,
       "model_id": "daf72c1c3b0c4fed81036bc4fcd5ec02"
      }
     },
     "metadata": {},
     "output_type": "display_data"
    },
    {
     "data": {
      "text/plain": [
       "Hermit_Thrush.tar:   0%|          | 0.00/183M [00:00<?, ?B/s]"
      ],
      "application/vnd.jupyter.widget-view+json": {
       "version_major": 2,
       "version_minor": 0,
       "model_id": "34dc016a4ee04a8ea933cccf0827ef9a"
      }
     },
     "metadata": {},
     "output_type": "display_data"
    }
   ],
   "execution_count": 9
  },
  {
   "metadata": {
    "ExecuteTime": {
     "end_time": "2025-05-25T20:43:43.037773Z",
     "start_time": "2025-05-25T20:43:36.062462Z"
    }
   },
   "cell_type": "code",
   "source": [
    "import tarfile\n",
    "\n",
    "for dirpath, dirnames, filenames in os.walk(BIRDSNAP_DATASET_PATH / 'download/images'):\n",
    "    for tar_file in filenames:\n",
    "        with tarfile.open(os.path.join(dirpath, tar_file)) as tar_file_opened:\n",
    "            tar_file_opened.extractall(path=BIRDSNAP_DATASET_PATH / 'download/images')\n",
    "        os.remove(os.path.join(dirpath, tar_file))"
   ],
   "id": "edb1392b7f660fb7",
   "outputs": [],
   "execution_count": 10
  },
  {
   "metadata": {
    "ExecuteTime": {
     "end_time": "2025-05-25T20:43:43.468803Z",
     "start_time": "2025-05-25T20:43:43.038595Z"
    }
   },
   "cell_type": "code",
   "source": [
    "utilities.create_train_cv_from_folder(\n",
    "    root=BIRDSNAP_DATASET_PATH/'download/images',\n",
    "    train_cv_perc=0.9,\n",
    "    train_folder=DATASET_TRAIN_FOLDER,\n",
    "    cv_folder=DATASET_TEST_FOLDER,\n",
    "    \n",
    ")"
   ],
   "id": "92be9d46eb1e6260",
   "outputs": [
    {
     "name": "stdout",
     "output_type": "stream",
     "text": [
      "Working on images | Moving 0 pictures\n",
      "Working on Pectoral_Sandpiper | Moving 78 pictures\n",
      "Working on Herring_Gull | Moving 82 pictures\n",
      "Working on Greater_Scaup | Moving 85 pictures\n",
      "Working on Pine_Grosbeak | Moving 86 pictures\n",
      "Working on Black_Tern | Moving 74 pictures\n",
      "Working on Barn_Swallow | Moving 84 pictures\n",
      "Working on Lesser_Yellowlegs | Moving 90 pictures\n",
      "Working on Mute_Swan | Moving 74 pictures\n",
      "Working on Merlin | Moving 94 pictures\n",
      "Working on Laughing_Gull | Moving 88 pictures\n",
      "Working on Harlequin_Duck | Moving 64 pictures\n",
      "Working on Purple_Gallinule | Moving 67 pictures\n",
      "Working on Hermit_Thrush | Moving 94 pictures\n",
      "Working on Bohemian_Waxwing | Moving 69 pictures\n",
      "Working on Northern_Pintail | Moving 91 pictures\n",
      "Working on Sanderling | Moving 77 pictures\n",
      "Working on Monk_Parakeet | Moving 91 pictures\n",
      "Working on Common_Eider | Moving 87 pictures\n",
      "Working on Lapland_Longspur | Moving 80 pictures\n",
      "Working on Arctic_Tern | Moving 84 pictures\n",
      "Working on Ruddy_Duck | Moving 89 pictures\n",
      "Working on Canada_Goose | Moving 81 pictures\n",
      "Working on Mew_Gull | Moving 89 pictures\n",
      "Working on Common_Redpoll | Moving 76 pictures\n",
      "Working on Cattle_Egret | Moving 87 pictures\n",
      "Working on Tundra_Swan | Moving 67 pictures\n",
      "Working on Great_Cormorant | Moving 73 pictures\n",
      "Working on Peregrine_Falcon | Moving 61 pictures\n",
      "Working on Rock_Pigeon | Moving 90 pictures\n",
      "Working on Common_Tern | Moving 86 pictures\n",
      "Working on Eurasian_Wigeon | Moving 76 pictures\n",
      "Working on Willet | Moving 90 pictures\n",
      "Working on Eared_Grebe | Moving 82 pictures\n",
      "Working on House_Sparrow | Moving 87 pictures\n",
      "Working on Whimbrel | Moving 91 pictures\n",
      "Working on Roseate_Tern | Moving 67 pictures\n",
      "Working on Upland_Sandpiper | Moving 73 pictures\n",
      "Working on Red_Knot | Moving 67 pictures\n",
      "Working on Osprey | Moving 85 pictures\n",
      "Working on Mallard | Moving 80 pictures\n",
      "Working on Great_Egret | Moving 89 pictures\n",
      "Working on Common_Murre | Moving 74 pictures\n",
      "Working on Red_Crossbill | Moving 70 pictures\n",
      "Working on Glossy_Ibis | Moving 88 pictures\n",
      "Working on Dunlin | Moving 94 pictures\n",
      "Working on American_Pipit | Moving 92 pictures\n",
      "Working on Horned_Lark | Moving 92 pictures\n",
      "Working on Common_Merganser | Moving 91 pictures\n",
      "Working on Sandwich_Tern | Moving 83 pictures\n",
      "Working on Horned_Grebe | Moving 92 pictures\n",
      "Working on Northern_Gannet | Moving 83 pictures\n",
      "Working on Gadwall | Moving 85 pictures\n",
      "Working on Brant | Moving 81 pictures\n",
      "Working on Common_Loon | Moving 92 pictures\n",
      "Working on Bobolink | Moving 87 pictures\n",
      "Working on Purple_Sandpiper | Moving 86 pictures\n",
      "Working on Golden_Eagle | Moving 88 pictures\n",
      "Working on Northern_Bobwhite | Moving 74 pictures\n",
      "Working on Ruddy_Turnstone | Moving 88 pictures\n",
      "Working on Snow_Goose | Moving 61 pictures\n",
      "Working on European_Starling | Moving 87 pictures\n",
      "Working on Red_Phalarope | Moving 81 pictures\n",
      "Working on Rock_Ptarmigan | Moving 79 pictures\n",
      "Working on Common_Raven | Moving 81 pictures\n",
      "Working on Common_Goldeneye | Moving 88 pictures\n",
      "Working on Iceland_Gull | Moving 73 pictures\n",
      "Working on Glaucous_Gull | Moving 85 pictures\n",
      "Working on Snow_Bunting | Moving 78 pictures\n",
      "Working on Least_Sandpiper | Moving 97 pictures\n",
      "Working on Northern_Goshawk | Moving 91 pictures\n",
      "Working on Caspian_Tern | Moving 73 pictures\n"
     ]
    }
   ],
   "execution_count": 11
  },
  {
   "metadata": {
    "ExecuteTime": {
     "end_time": "2025-05-25T20:43:43.470836Z",
     "start_time": "2025-05-25T20:43:43.469602Z"
    }
   },
   "cell_type": "code",
   "source": "\n",
   "id": "e274e706bea05c4a",
   "outputs": [],
   "execution_count": 11
  }
 ],
 "metadata": {
  "kernelspec": {
   "display_name": "Python 3",
   "language": "python",
   "name": "python3"
  },
  "language_info": {
   "codemirror_mode": {
    "name": "ipython",
    "version": 2
   },
   "file_extension": ".py",
   "mimetype": "text/x-python",
   "name": "python",
   "nbconvert_exporter": "python",
   "pygments_lexer": "ipython2",
   "version": "2.7.6"
  }
 },
 "nbformat": 4,
 "nbformat_minor": 5
}
