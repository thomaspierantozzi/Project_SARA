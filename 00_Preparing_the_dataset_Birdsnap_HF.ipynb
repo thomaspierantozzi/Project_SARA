{
 "cells": [
  {
   "metadata": {},
   "cell_type": "markdown",
   "source": "# 0. Importing the libraries needed for the dataset preparation task",
   "id": "7235ee65351c7137"
  },
  {
   "metadata": {
    "ExecuteTime": {
     "end_time": "2025-06-04T12:34:09.033198Z",
     "start_time": "2025-06-04T12:34:09.030439Z"
    }
   },
   "cell_type": "code",
   "source": [
    "import os\n",
    "import pathlib\n",
    "import shutil\n",
    "import pandas as pd\n",
    "import random\n",
    "import requests\n",
    "import time\n",
    "import os\n",
    "from tqdm import tqdm\n",
    "from torchvision.datasets import ImageFolder\n",
    "from torch.utils.data import DataLoader\n",
    "import json\n",
    "\n",
    "#this is the library \n",
    "try:\n",
    "    from scripts import model_setup\n",
    "    from scripts import utilities\n",
    "except ImportError:\n",
    "    !git clone https://github.com/thomaspierantozzi/PyTorch_Course_by_Daniel_Bourke\n",
    "    !mv PyTorch_Course_by_Daniel_Bourke/05_PyTorch_Food101/scripts/ .\n",
    "    !rm -rf ./PyTorch_Course_by_Daniel_Bourke\n",
    "    from scripts import model_setup\n",
    "    from scripts import utilities\n",
    "\n"
   ],
   "id": "2259c3df631a1444",
   "outputs": [],
   "execution_count": 2
  },
  {
   "metadata": {},
   "cell_type": "markdown",
   "source": [
    "####Here under we create an ImageFolder folder, and we base its structure on the DataSetFolder from Torchvision documentation: [here](https://docs.pytorch.org/vision/main/generated/torchvision.datasets.DatasetFolder.html)\n",
    "\n",
    "![Folder structure](https://github.com/thomaspierantozzi/Project_SARA/raw/main/Notebook_pictures/DataSetFolder_Structure.png)"
   ],
   "id": "a4851219855009fd"
  },
  {
   "metadata": {
    "ExecuteTime": {
     "end_time": "2025-06-04T12:34:09.059619Z",
     "start_time": "2025-06-04T12:34:09.057192Z"
    }
   },
   "cell_type": "code",
   "source": [
    "#CONSTANTS AND GENERAL CONFIGURATION FOR THE SCRIPT\n",
    "IMAGEFOLDER = pathlib.Path('./ImageFolder') #a folder which will be used as a base for the DataSet at training time\n",
    "DATASET_TRAIN_FOLDER = IMAGEFOLDER / 'train'\n",
    "DATASET_TEST_FOLDER = IMAGEFOLDER / 'cv'\n",
    "ENG_ITA_NAMES = './eng_ita_scientific_names.json'\n",
    "\n",
    "if not IMAGEFOLDER.exists():\n",
    "    os.mkdir(IMAGEFOLDER)\n",
    "    os.makedirs(DATASET_TRAIN_FOLDER, exist_ok=True)\n",
    "    os.makedirs(DATASET_TEST_FOLDER, exist_ok=True)\n",
    "    print('Created the base folders for the ImageFolder requested tree...')"
   ],
   "id": "450fffbaf0751fbd",
   "outputs": [
    {
     "name": "stdout",
     "output_type": "stream",
     "text": [
      "Created the base folders for the ImageFolder requested tree...\n"
     ]
    }
   ],
   "execution_count": 3
  },
  {
   "metadata": {},
   "cell_type": "markdown",
   "source": [
    "# 1. BirdSnap Dataset\n",
    "<img src='https://github.com/thomaspierantozzi/Project_SARA/raw/main/Notebook_pictures/Dataset_Flusso.png' height=400>"
   ],
   "id": "fdc514e3aebec95f"
  },
  {
   "metadata": {},
   "cell_type": "markdown",
   "source": [
    "### 1.a Sorting the dataset content\n",
    "#### HuggingFace holds a repo of the dataset called Birdsnap, which can be a great resource for our goal. \n",
    "#### We will use this repo [here](https://huggingface.co/datasets/HuggingFaceM4/Birdsnap/tree/main) by SaulLu to download the data later on\n",
    "#### Anyway a good resource to start collecting the species in the dataset is this file [here](https://huggingface.co/datasets/sasha/birdsnap/blob/main/species.txt) found in [this](https://huggingface.co/datasets/sasha/birdsnap) repo"
   ],
   "id": "927a577c840865dd"
  },
  {
   "metadata": {
    "ExecuteTime": {
     "end_time": "2025-06-04T12:34:09.065139Z",
     "start_time": "2025-06-04T12:34:09.060701Z"
    }
   },
   "cell_type": "code",
   "source": [
    "BIRDSNAP_DATASET_PATH = pathlib.Path('./Datasets/BirdSnap')\n",
    "\n",
    "birdsnap_species = {} #initializing a dict to hold the common and scientific names of the Birdsnap classes\n",
    "\n",
    "list_of_lowercase = [\n",
    "    'Necked',\n",
    "    'Winged',\n",
    "    'Breasted',\n",
    "    'Legged',\n",
    "    'Tailed',\n",
    "    'Fronted',\n",
    "    'Crowned',\n",
    "    'Bellied',\n",
    "    'Billed',\n",
    "    'Throated',\n",
    "    'Backed',\n",
    "    'Rumped',\n",
    "    'Eared',\n",
    "    'Cheeked',\n",
    "    'Eyed'\n",
    "]\n",
    "\n",
    "counter = 0\n",
    "with open(f'{BIRDSNAP_DATASET_PATH}/species.txt', 'r') as images_text_file:\n",
    "    for line in images_text_file.readlines():\n",
    "        words = line.split(sep='\\t')\n",
    "        common_name_formatted = words[1].title()\n",
    "        common_name_formatted = common_name_formatted.replace(\"\\'S\", \"s\").replace(' ', '_').replace('-', '_')\n",
    "        for word_to_lowercase in list_of_lowercase:\n",
    "            if word_to_lowercase in common_name_formatted:\n",
    "                print(common_name_formatted, end=' -> ')\n",
    "                common_name_formatted = common_name_formatted.replace(word_to_lowercase, word_to_lowercase.lower())\n",
    "                print(common_name_formatted)\n",
    "            \n",
    "#        common_name_formatted = common_name_formatted.lower()\n",
    "        birdsnap_species[words[2]] = common_name_formatted\n",
    "\n",
    "birdsnap_species.pop('scientific') #to remove the data collected in the header of the csv\n",
    "\n",
    "print(f'The system found {len(birdsnap_species)} birdsnap classes')"
   ],
   "id": "b91b6f37ba166ea",
   "outputs": [
    {
     "name": "stdout",
     "output_type": "stream",
     "text": [
      "White_Tailed_Hawk -> White_tailed_Hawk\n",
      "Zone_Tailed_Hawk -> Zone_tailed_Hawk\n",
      "Red_Tailed_Hawk -> Red_tailed_Hawk\n",
      "Rough_Legged_Hawk -> Rough_legged_Hawk\n",
      "Broad_Winged_Hawk -> Broad_winged_Hawk\n",
      "Swallow_Tailed_Kite -> Swallow_tailed_Kite\n",
      "White_Tailed_Kite -> White_tailed_Kite\n",
      "Green_Winged_Teal -> Green_winged_Teal\n",
      "Blue_Winged_Teal -> Blue_winged_Teal\n",
      "Ring_Necked_Duck -> Ring_necked_Duck\n",
      "Long_Tailed_Duck -> Long_tailed_Duck\n",
      "White_Winged_Scoter -> White_winged_Scoter\n",
      "Red_Breasted_Merganser -> Red_breasted_Merganser\n",
      "Greater_White_Fronted_Goose -> Greater_White_fronted_Goose\n",
      "White_Throated_Swift -> White_throated_Swift\n",
      "Yellow_Crowned_Night_Heron -> Yellow_crowned_Night_Heron\n",
      "Black_Crowned_Night_Heron -> Black_crowned_Night_Heron\n",
      "Rose_Breasted_Grosbeak -> Rose_breasted_Grosbeak\n",
      "Black_Bellied_Plover -> Black_bellied_Plover\n",
      "Band_Tailed_Pigeon -> Band_tailed_Pigeon\n",
      "White_Winged_Dove -> White_winged_Dove\n",
      "Black_Billed_Magpie -> Black_billed_Magpie\n",
      "Yellow_Billed_Magpie -> Yellow_billed_Magpie\n",
      "Groove_Billed_Ani -> Groove_billed_Ani\n",
      "Yellow_Billed_Cuckoo -> Yellow_billed_Cuckoo\n",
      "Black_Billed_Cuckoo -> Black_billed_Cuckoo\n",
      "Rufous_Crowned_Sparrow -> Rufous_crowned_Sparrow\n",
      "Black_Throated_Sparrow -> Black_throated_Sparrow\n",
      "Dark_Eyed_Junco -> Dark_eyed_Junco\n",
      "Yellow_Eyed_Junco -> Yellow_eyed_Junco\n",
      "Green_Tailed_Towhee -> Green_tailed_Towhee\n",
      "White_Throated_Sparrow -> White_throated_Sparrow\n",
      "Golden_Crowned_Sparrow -> Golden_crowned_Sparrow\n",
      "White_Crowned_Sparrow -> White_crowned_Sparrow\n",
      "Gray_Crowned_Rosy_Finch -> Gray_crowned_Rosy_Finch\n",
      "White_Winged_Crossbill -> White_winged_Crossbill\n",
      "Red_Throated_Loon -> Red_throated_Loon\n",
      "Northern_Rough_Winged_Swallow -> Northern_Rough_winged_Swallow\n",
      "Red_Winged_Blackbird -> Red_winged_Blackbird\n",
      "Boat_Tailed_Grackle -> Boat_tailed_Grackle\n",
      "Great_Tailed_Grackle -> Great_tailed_Grackle\n",
      "Ring_Billed_Gull -> Ring_billed_Gull\n",
      "Glaucous_Winged_Gull -> Glaucous_winged_Gull\n",
      "Great_Black_Backed_Gull -> Great_Black_backed_Gull\n",
      "Black_Legged_Kittiwake -> Black_legged_Kittiwake\n",
      "Gull_Billed_Tern -> Gull_billed_Tern\n",
      "Curve_Billed_Thrasher -> Curve_billed_Thrasher\n",
      "Long_Billed_Thrasher -> Long_billed_Thrasher\n",
      "Chestnut_Backed_Chickadee -> Chestnut_backed_Chickadee\n",
      "Yellow_Breasted_Chat -> Yellow_breasted_Chat\n",
      "Orange_Crowned_Warbler -> Orange_crowned_Warbler\n",
      "Black_Throated_Blue_Warbler -> Black_throated_Blue_Warbler\n",
      "Bay_Breasted_Warbler -> Bay_breasted_Warbler\n",
      "Yellow_Rumped_Warbler -> Yellow_rumped_Warbler\n",
      "Yellow_Throated_Warbler -> Yellow_throated_Warbler\n",
      "Black_Throated_Gray_Warbler -> Black_throated_Gray_Warbler\n",
      "Black_Throated_Green_Warbler -> Black_throated_Green_Warbler\n",
      "Golden_Winged_Warbler -> Golden_winged_Warbler\n",
      "Blue_Winged_Warbler -> Blue_winged_Warbler\n",
      "Ring_Necked_Pheasant -> Ring_necked_Pheasant\n",
      "White_Tailed_Ptarmigan -> White_tailed_Ptarmigan\n",
      "Sharp_Tailed_Grouse -> Sharp_tailed_Grouse\n",
      "Golden_Fronted_Woodpecker -> Golden_fronted_Woodpecker\n",
      "Red_Bellied_Woodpecker -> Red_bellied_Woodpecker\n",
      "Black_Backed_Woodpecker -> Black_backed_Woodpecker\n",
      "Ladder_Backed_Woodpecker -> Ladder_backed_Woodpecker\n",
      "Red_Breasted_Sapsucker -> Red_breasted_Sapsucker\n",
      "Yellow_Bellied_Sapsucker -> Yellow_bellied_Sapsucker\n",
      "Red_Necked_Grebe -> Red_necked_Grebe\n",
      "Eared_Grebe -> eared_Grebe\n",
      "Pied_Billed_Grebe -> Pied_billed_Grebe\n",
      "Black_Necked_Stilt -> Black_necked_Stilt\n",
      "Ruby_Crowned_Kinglet -> Ruby_crowned_Kinglet\n",
      "Golden_Crowned_Kinglet -> Golden_crowned_Kinglet\n",
      "Red_Necked_Phalarope -> Red_necked_Phalarope\n",
      "White_Rumped_Sandpiper -> White_rumped_Sandpiper\n",
      "Short_Billed_Dowitcher -> Short_billed_Dowitcher\n",
      "Long_Billed_Dowitcher -> Long_billed_Dowitcher\n",
      "Long_Billed_Curlew -> Long_billed_Curlew\n",
      "Red_Breasted_Nuthatch -> Red_breasted_Nuthatch\n",
      "White_Breasted_Nuthatch -> White_breasted_Nuthatch\n",
      "Short_Eared_Owl -> Short_eared_Owl\n",
      "Long_Eared_Owl -> Long_eared_Owl\n",
      "Ruby_Throated_Hummingbird -> Ruby_throated_Hummingbird\n",
      "Broad_Billed_Hummingbird -> Broad_billed_Hummingbird\n",
      "Broad_Tailed_Hummingbird -> Broad_tailed_Hummingbird\n",
      "Gray_Cheeked_Thrush -> Gray_cheeked_Thrush\n",
      "Yellow_Bellied_Flycatcher -> Yellow_bellied_Flycatcher\n",
      "Ash_Throated_Flycatcher -> Ash_throated_Flycatcher\n",
      "Scissor_Tailed_Flycatcher -> Scissor_tailed_Flycatcher\n",
      "Yellow_Throated_Vireo -> Yellow_throated_Vireo\n",
      "White_Eyed_Vireo -> White_eyed_Vireo\n",
      "Red_Eyed_Vireo -> Red_eyed_Vireo\n",
      "The system found 500 birdsnap classes\n"
     ]
    }
   ],
   "execution_count": 4
  },
  {
   "metadata": {
    "ExecuteTime": {
     "end_time": "2025-06-04T12:34:09.074127Z",
     "start_time": "2025-06-04T12:34:09.068537Z"
    }
   },
   "cell_type": "code",
   "source": "birdsnap_species",
   "id": "bdfc551d3f62f5b6",
   "outputs": [
    {
     "data": {
      "text/plain": [
       "{'Accipiter cooperii': 'Coopers_Hawk',\n",
       " 'Accipiter gentilis': 'Northern_Goshawk',\n",
       " 'Accipiter striatus': 'Sharp_Shinned_Hawk',\n",
       " 'Aquila chrysaetos': 'Golden_Eagle',\n",
       " 'Buteo albicaudatus': 'White_tailed_Hawk',\n",
       " 'Buteo albonotatus': 'Zone_tailed_Hawk',\n",
       " 'Buteo jamaicensis': 'Red_tailed_Hawk',\n",
       " 'Buteo lagopus': 'Rough_legged_Hawk',\n",
       " 'Buteo lineatus': 'Red_Shouldered_Hawk',\n",
       " 'Buteo platypterus': 'Broad_winged_Hawk',\n",
       " 'Buteo regalis': 'Ferruginous_Hawk',\n",
       " 'Buteo swainsoni': 'Swainsons_Hawk',\n",
       " 'Buteogallus anthracinus': 'Common_Black_Hawk',\n",
       " 'Circus cyaneus': 'Northern_Harrier',\n",
       " 'Elanoides forficatus': 'Swallow_tailed_Kite',\n",
       " 'Elanus leucurus': 'White_tailed_Kite',\n",
       " 'Haliaeetus leucocephalus': 'Bald_Eagle',\n",
       " 'Ictinia mississippiensis': 'Mississippi_Kite',\n",
       " 'Parabuteo unicinctus': 'Harriss_Hawk',\n",
       " 'Rostrhamus sociabilis': 'Snail_Kite',\n",
       " 'Psaltriparus minimus': 'Bushtit',\n",
       " 'Eremophila alpestris': 'Horned_Lark',\n",
       " 'Megaceryle alcyon': 'Belted_Kingfisher',\n",
       " 'Cepphus columba': 'Pigeon_Guillemot',\n",
       " 'Cepphus grylle': 'Black_Guillemot',\n",
       " 'Uria aalge': 'Common_Murre',\n",
       " 'Anas acuta': 'Northern_Pintail',\n",
       " 'Anas americana': 'American_Wigeon',\n",
       " 'Anas crecca': 'Green_winged_Teal',\n",
       " 'Anas cyanoptera': 'Cinnamon_Teal',\n",
       " 'Anas discors': 'Blue_winged_Teal',\n",
       " 'Anas fulvigula': 'Mottled_Duck',\n",
       " 'Anas penelope': 'Eurasian_Wigeon',\n",
       " 'Anas platyrhynchos': 'Mallard',\n",
       " 'Anas rubripes': 'American_Black_Duck',\n",
       " 'Anas strepera': 'Gadwall',\n",
       " 'Aythya affinis': 'Lesser_Scaup',\n",
       " 'Aythya americana': 'Redhead',\n",
       " 'Aythya collaris': 'Ring_necked_Duck',\n",
       " 'Aythya marila': 'Greater_Scaup',\n",
       " 'Aythya valisineria': 'Canvasback',\n",
       " 'Bucephala albeola': 'Bufflehead',\n",
       " 'Bucephala clangula': 'Common_Goldeneye',\n",
       " 'Bucephala islandica': 'Barrows_Goldeneye',\n",
       " 'Cairina moschata': 'Muscovy_Duck',\n",
       " 'Clangula hyemalis': 'Long_tailed_Duck',\n",
       " 'Histrionicus histrionicus': 'Harlequin_Duck',\n",
       " 'Lophodytes cucullatus': 'Hooded_Merganser',\n",
       " 'Melanitta americana': 'Black_Scoter',\n",
       " 'Melanitta fusca': 'White_winged_Scoter',\n",
       " 'Melanitta perspicillata': 'Surf_Scoter',\n",
       " 'Mergus merganser': 'Common_Merganser',\n",
       " 'Mergus serrator': 'Red_breasted_Merganser',\n",
       " 'Oxyura jamaicensis': 'Ruddy_Duck',\n",
       " 'Somateria mollissima': 'Common_Eider',\n",
       " 'Anser albifrons': 'Greater_White_fronted_Goose',\n",
       " 'Branta bernicla': 'Brant',\n",
       " 'Branta canadensis': 'Canada_Goose',\n",
       " 'Branta hutchinsii': 'Cackling_Goose',\n",
       " 'Chen caerulescens': 'Snow_Goose',\n",
       " 'Chen rossii': 'Rosss_Goose',\n",
       " 'Cygnus buccinator': 'Trumpeter_Swan',\n",
       " 'Cygnus columbianus': 'Tundra_Swan',\n",
       " 'Cygnus olor': 'Mute_Swan',\n",
       " 'Dendrocygna bicolor': 'Fulvous_Whistling_Duck',\n",
       " 'Anhinga anhinga': 'Anhinga',\n",
       " 'Aeronautes saxatalis': 'White_throated_Swift',\n",
       " 'Chaetura pelagica': 'Chimney_Swift',\n",
       " 'Aramus guarauna': 'Limpkin',\n",
       " 'Ardea alba': 'Great_Egret',\n",
       " 'Ardea herodias': 'Great_Blue_Heron',\n",
       " 'Botaurus lentiginosus': 'American_Bittern',\n",
       " 'Bubulcus ibis': 'Cattle_Egret',\n",
       " 'Egretta caerulea': 'Little_Blue_Heron',\n",
       " 'Egretta rufescens': 'Reddish_Egret',\n",
       " 'Egretta thula': 'Snowy_Egret',\n",
       " 'Egretta tricolor': 'Tricolored_Heron',\n",
       " 'Ixobrychus exilis': 'Least_Bittern',\n",
       " 'Nyctanassa violacea': 'Yellow_crowned_Night_Heron',\n",
       " 'Nycticorax nycticorax': 'Black_crowned_Night_Heron',\n",
       " 'Bombycilla cedrorum': 'Cedar_Waxwing',\n",
       " 'Bombycilla garrulus': 'Bohemian_Waxwing',\n",
       " 'Calcarius lapponicus': 'Lapland_Longspur',\n",
       " 'Calcarius ornatus': 'Chestnut_Collared_Longspur',\n",
       " 'Plectrophenax nivalis': 'Snow_Bunting',\n",
       " 'Chordeiles acutipennis': 'Lesser_Nighthawk',\n",
       " 'Chordeiles minor': 'Common_Nighthawk',\n",
       " 'Cardinalis cardinalis': 'Northern_Cardinal',\n",
       " 'Cardinalis sinuatus': 'Pyrrhuloxia',\n",
       " 'Passerina amoena': 'Lazuli_Bunting',\n",
       " 'Passerina caerulea': 'Blue_Grosbeak',\n",
       " 'Passerina ciris': 'Painted_Bunting',\n",
       " 'Passerina cyanea': 'Indigo_Bunting',\n",
       " 'Pheucticus ludovicianus': 'Rose_breasted_Grosbeak',\n",
       " 'Pheucticus melanocephalus': 'Black_Headed_Grosbeak',\n",
       " 'Piranga flava': 'Hepatic_Tanager',\n",
       " 'Piranga ludoviciana': 'Western_Tanager',\n",
       " 'Piranga olivacea': 'Scarlet_Tanager',\n",
       " 'Piranga rubra': 'Summer_Tanager',\n",
       " 'Spiza americana': 'Dickcissel',\n",
       " 'Cathartes aura': 'Turkey_Vulture',\n",
       " 'Coragyps atratus': 'Black_Vulture',\n",
       " 'Certhia americana': 'Brown_Creeper',\n",
       " 'Charadrius melodus': 'Piping_Plover',\n",
       " 'Charadrius montanus': 'Mountain_Plover',\n",
       " 'Charadrius nivosus': 'Snowy_Plover',\n",
       " 'Charadrius semipalmatus': 'Semipalmated_Plover',\n",
       " 'Charadrius vociferus': 'Killdeer',\n",
       " 'Charadrius wilsonia': 'Wilsons_Plover',\n",
       " 'Pluvialis dominica': 'American_Golden_Plover',\n",
       " 'Pluvialis fulva': 'Pacific_Golden_Plover',\n",
       " 'Pluvialis squatarola': 'Black_bellied_Plover',\n",
       " 'Mycteria americana': 'Wood_Stork',\n",
       " 'Cinclus mexicanus': 'American_Dipper',\n",
       " 'Columba livia': 'Rock_Pigeon',\n",
       " 'Columbina inca': 'Inca_Dove',\n",
       " 'Columbina passerina': 'Common_Ground_Dove',\n",
       " 'Patagioenas fasciata': 'Band_tailed_Pigeon',\n",
       " 'Streptopelia decaocto': 'Eurasian_Collared_Dove',\n",
       " 'Zenaida asiatica': 'White_winged_Dove',\n",
       " 'Zenaida macroura': 'Mourning_Dove',\n",
       " 'Aphelocoma californica': 'Western_Scrub_Jay',\n",
       " 'Aphelocoma coerulescens': 'Florida_Scrub_Jay',\n",
       " 'Aphelocoma wollweberi': 'Mexican_Jay',\n",
       " 'Corvus brachyrhynchos': 'American_Crow',\n",
       " 'Corvus corax': 'Common_Raven',\n",
       " 'Corvus cryptoleucus': 'Chihuahuan_Raven',\n",
       " 'Corvus ossifragus': 'Fish_Crow',\n",
       " 'Cyanocitta cristata': 'Blue_Jay',\n",
       " 'Cyanocitta stelleri': 'Stellers_Jay',\n",
       " 'Cyanocorax yncas': 'Green_Jay',\n",
       " 'Nucifraga columbiana': 'Clarks_Nutcracker',\n",
       " 'Perisoreus canadensis': 'Gray_Jay',\n",
       " 'Pica hudsonia': 'Black_billed_Magpie',\n",
       " 'Pica nuttalli': 'Yellow_billed_Magpie',\n",
       " 'Crotophaga sulcirostris': 'Groove_billed_Ani',\n",
       " 'Coccyzus americanus': 'Yellow_billed_Cuckoo',\n",
       " 'Coccyzus erythropthalmus': 'Black_billed_Cuckoo',\n",
       " 'Geococcyx californianus': 'Greater_Roadrunner',\n",
       " 'Aimophila ruficeps': 'Rufous_crowned_Sparrow',\n",
       " 'Ammodramus caudacutus': 'Saltmarsh_Sparrow',\n",
       " 'Ammodramus henslowii': 'Henslows_Sparrow',\n",
       " 'Ammodramus leconteii': 'Le_Contes_Sparrow',\n",
       " 'Ammodramus maritimus': 'Seaside_Sparrow',\n",
       " 'Ammodramus nelsoni': 'Nelsons_Sparrow',\n",
       " 'Ammodramus savannarum': 'Grasshopper_Sparrow',\n",
       " 'Amphispiza bilineata': 'Black_throated_Sparrow',\n",
       " 'Arremonops rufivirgatus': 'Olive_Sparrow',\n",
       " 'Calamospiza melanocorys': 'Lark_Bunting',\n",
       " 'Chondestes grammacus': 'Lark_Sparrow',\n",
       " 'Junco hyemalis': 'Dark_eyed_Junco',\n",
       " 'Junco phaeonotus': 'Yellow_eyed_Junco',\n",
       " 'Melospiza georgiana': 'Swamp_Sparrow',\n",
       " 'Melospiza lincolnii': 'Lincolns_Sparrow',\n",
       " 'Melospiza melodia': 'Song_Sparrow',\n",
       " 'Melozone crissalis': 'California_Towhee',\n",
       " 'Melozone fusca': 'Canyon_Towhee',\n",
       " 'Passerella iliaca': 'Fox_Sparrow',\n",
       " 'Peucaea cassinii': 'Cassins_Sparrow',\n",
       " 'Pipilo chlorurus': 'Green_tailed_Towhee',\n",
       " 'Pipilo erythrophthalmus': 'Eastern_Towhee',\n",
       " 'Pipilo maculatus': 'Spotted_Towhee',\n",
       " 'Pooecetes gramineus': 'Vesper_Sparrow',\n",
       " 'Spizella arborea': 'American_Tree_Sparrow',\n",
       " 'Spizella atrogularis': 'Black_Chinned_Sparrow',\n",
       " 'Spizella breweri': 'Brewers_Sparrow',\n",
       " 'Spizella pallida': 'Clay_Colored_Sparrow',\n",
       " 'Spizella passerina': 'Chipping_Sparrow',\n",
       " 'Spizella pusilla': 'Field_Sparrow',\n",
       " 'Zonotrichia albicollis': 'White_throated_Sparrow',\n",
       " 'Zonotrichia atricapilla': 'Golden_crowned_Sparrow',\n",
       " 'Zonotrichia leucophrys': 'White_crowned_Sparrow',\n",
       " 'Zonotrichia querula': 'Harriss_Sparrow',\n",
       " 'Caracara cheriway': 'Crested_Caracara',\n",
       " 'Falco columbarius': 'Merlin',\n",
       " 'Falco mexicanus': 'Prairie_Falcon',\n",
       " 'Falco peregrinus': 'Peregrine_Falcon',\n",
       " 'Falco sparverius': 'American_Kestrel',\n",
       " 'Fregata magnificens': 'Magnificent_Frigatebird',\n",
       " 'Acanthis flammea': 'Common_Redpoll',\n",
       " 'Acanthis hornemanni': 'Hoary_Redpoll',\n",
       " 'Coccothraustes vespertinus': 'Evening_Grosbeak',\n",
       " 'Haemorhous cassinii': 'Cassins_Finch',\n",
       " 'Haemorhous mexicanus': 'House_Finch',\n",
       " 'Haemorhous purpureus': 'Purple_Finch',\n",
       " 'Leucosticte atrata': 'Black_Rosy_Finch',\n",
       " 'Leucosticte australis': 'Brown_Capped_Rosy_Finch',\n",
       " 'Leucosticte tephrocotis': 'Gray_crowned_Rosy_Finch',\n",
       " 'Loxia curvirostra': 'Red_Crossbill',\n",
       " 'Loxia leucoptera': 'White_winged_Crossbill',\n",
       " 'Pinicola enucleator': 'Pine_Grosbeak',\n",
       " 'Spinus pinus': 'Pine_Siskin',\n",
       " 'Spinus psaltria': 'Lesser_Goldfinch',\n",
       " 'Spinus tristis': 'American_Goldfinch',\n",
       " 'Gavia immer': 'Common_Loon',\n",
       " 'Gavia pacifica': 'Pacific_Loon',\n",
       " 'Gavia stellata': 'Red_throated_Loon',\n",
       " 'Grus canadensis': 'Sandhill_Crane',\n",
       " 'Haematopus bachmani': 'Black_Oystercatcher',\n",
       " 'Haematopus palliatus': 'American_Oystercatcher',\n",
       " 'Hirundo rustica': 'Barn_Swallow',\n",
       " 'Petrochelidon fulva': 'Cave_Swallow',\n",
       " 'Petrochelidon pyrrhonota': 'Cliff_Swallow',\n",
       " 'Progne subis': 'Purple_Martin',\n",
       " 'Stelgidopteryx serripennis': 'Northern_Rough_winged_Swallow',\n",
       " 'Tachycineta bicolor': 'Tree_Swallow',\n",
       " 'Tachycineta thalassina': 'Violet_Green_Swallow',\n",
       " 'Agelaius phoeniceus': 'Red_winged_Blackbird',\n",
       " 'Dolichonyx oryzivorus': 'Bobolink',\n",
       " 'Euphagus carolinus': 'Rusty_Blackbird',\n",
       " 'Euphagus cyanocephalus': 'Brewers_Blackbird',\n",
       " 'Icterus bullockii': 'Bullocks_Oriole',\n",
       " 'Icterus cucullatus': 'Hooded_Oriole',\n",
       " 'Icterus galbula': 'Baltimore_Oriole',\n",
       " 'Icterus graduacauda': 'Audubons_Oriole',\n",
       " 'Icterus gularis': 'Altamira_Oriole',\n",
       " 'Icterus parisorum': 'Scotts_Oriole',\n",
       " 'Icterus spurius': 'Orchard_Oriole',\n",
       " 'Molothrus aeneus': 'Bronzed_Cowbird',\n",
       " 'Molothrus ater': 'Brown_Headed_Cowbird',\n",
       " 'Quiscalus major': 'Boat_tailed_Grackle',\n",
       " 'Quiscalus mexicanus': 'Great_tailed_Grackle',\n",
       " 'Quiscalus quiscula': 'Common_Grackle',\n",
       " 'Sturnella magna': 'Eastern_Meadowlark',\n",
       " 'Sturnella neglecta': 'Western_Meadowlark',\n",
       " 'Xanthocephalus xanthocephalus': 'Yellow_Headed_Blackbird',\n",
       " 'Lanius excubitor': 'Northern_Shrike',\n",
       " 'Lanius ludovicianus': 'Loggerhead_Shrike',\n",
       " 'Chroicocephalus philadelphia': 'Bonapartes_Gull',\n",
       " 'Larus argentatus': 'Herring_Gull',\n",
       " 'Larus californicus': 'California_Gull',\n",
       " 'Larus canus': 'Mew_Gull',\n",
       " 'Larus delawarensis': 'Ring_billed_Gull',\n",
       " 'Larus glaucescens': 'Glaucous_winged_Gull',\n",
       " 'Larus glaucoides': 'Iceland_Gull',\n",
       " 'Larus heermanni': 'Heermanns_Gull',\n",
       " 'Larus hyperboreus': 'Glaucous_Gull',\n",
       " 'Larus marinus': 'Great_Black_backed_Gull',\n",
       " 'Larus occidentalis': 'Western_Gull',\n",
       " 'Larus thayeri': 'Thayers_Gull',\n",
       " 'Leucophaeus atricilla': 'Laughing_Gull',\n",
       " 'Leucophaeus pipixcan': 'Franklins_Gull',\n",
       " 'Rissa tridactyla': 'Black_legged_Kittiwake',\n",
       " 'Rynchops niger': 'Black_Skimmer',\n",
       " 'Chlidonias niger': 'Black_Tern',\n",
       " 'Gelochelidon nilotica': 'Gull_billed_Tern',\n",
       " 'Hydroprogne caspia': 'Caspian_Tern',\n",
       " 'Sterna dougallii': 'Roseate_Tern',\n",
       " 'Sterna forsteri': 'Forsters_Tern',\n",
       " 'Sterna hirundo': 'Common_Tern',\n",
       " 'Sterna paradisaea': 'Arctic_Tern',\n",
       " 'Sternula antillarum': 'Least_Tern',\n",
       " 'Thalasseus maximus': 'Royal_Tern',\n",
       " 'Thalasseus sandvicensis': 'Sandwich_Tern',\n",
       " 'Dumetella carolinensis': 'Gray_Catbird',\n",
       " 'Mimus polyglottos': 'Northern_Mockingbird',\n",
       " 'Oreoscoptes montanus': 'Sage_Thrasher',\n",
       " 'Toxostoma curvirostre': 'Curve_billed_Thrasher',\n",
       " 'Toxostoma longirostre': 'Long_billed_Thrasher',\n",
       " 'Toxostoma redivivum': 'California_Thrasher',\n",
       " 'Toxostoma rufum': 'Brown_Thrasher',\n",
       " 'Anthus rubescens': 'American_Pipit',\n",
       " 'Callipepla californica': 'California_Quail',\n",
       " 'Callipepla gambelii': 'Gambels_Quail',\n",
       " 'Callipepla squamata': 'Scaled_Quail',\n",
       " 'Colinus virginianus': 'Northern_Bobwhite',\n",
       " 'Pandion haliaetus': 'Osprey',\n",
       " 'Baeolophus atricristatus': 'Black_Crested_Titmouse',\n",
       " 'Baeolophus bicolor': 'Tufted_Titmouse',\n",
       " 'Baeolophus inornatus': 'Oak_Titmouse',\n",
       " 'Baeolophus wollweberi': 'Bridled_Titmouse',\n",
       " 'Poecile atricapillus': 'Black_Capped_Chickadee',\n",
       " 'Poecile carolinensis': 'Carolina_Chickadee',\n",
       " 'Poecile gambeli': 'Mountain_Chickadee',\n",
       " 'Poecile hudsonicus': 'Boreal_Chickadee',\n",
       " 'Poecile rufescens': 'Chestnut_backed_Chickadee',\n",
       " 'Cardellina canadensis': 'Canada_Warbler',\n",
       " 'Cardellina pusilla': 'Wilsons_Warbler',\n",
       " 'Geothlypis philadelphia': 'Mourning_Warbler',\n",
       " 'Geothlypis trichas': 'Common_Yellowthroat',\n",
       " 'Helmitheros vermivorum': 'Worm_Eating_Warbler',\n",
       " 'Icteria virens': 'Yellow_breasted_Chat',\n",
       " 'Mniotilta varia': 'Black_And_White_Warbler',\n",
       " 'Myioborus pictus': 'Painted_Redstart',\n",
       " 'Oporornis agilis': 'Connecticut_Warbler',\n",
       " 'Oreothlypis celata': 'Orange_crowned_Warbler',\n",
       " 'Oreothlypis peregrina': 'Tennessee_Warbler',\n",
       " 'Oreothlypis ruficapilla': 'Nashville_Warbler',\n",
       " 'Parkesia motacilla': 'Louisiana_Waterthrush',\n",
       " 'Parkesia noveboracensis': 'Northern_Waterthrush',\n",
       " 'Protonotaria citrea': 'Prothonotary_Warbler',\n",
       " 'Seiurus aurocapilla': 'Ovenbird',\n",
       " 'Setophaga americana': 'Northern_Parula',\n",
       " 'Setophaga caerulescens': 'Black_throated_Blue_Warbler',\n",
       " 'Setophaga castanea': 'Bay_breasted_Warbler',\n",
       " 'Setophaga cerulea': 'Cerulean_Warbler',\n",
       " 'Setophaga citrina': 'Hooded_Warbler',\n",
       " 'Setophaga coronata': 'Yellow_rumped_Warbler',\n",
       " 'Setophaga discolor': 'Prairie_Warbler',\n",
       " 'Setophaga dominica': 'Yellow_throated_Warbler',\n",
       " 'Setophaga fusca': 'Blackburnian_Warbler',\n",
       " 'Setophaga magnolia': 'Magnolia_Warbler',\n",
       " 'Setophaga nigrescens': 'Black_throated_Gray_Warbler',\n",
       " 'Setophaga palmarum': 'Palm_Warbler',\n",
       " 'Setophaga pensylvanica': 'Chestnut_Sided_Warbler',\n",
       " 'Setophaga petechia': 'Yellow_Warbler',\n",
       " 'Setophaga pinus': 'Pine_Warbler',\n",
       " 'Setophaga ruticilla': 'American_Redstart',\n",
       " 'Setophaga striata': 'Blackpoll_Warbler',\n",
       " 'Setophaga tigrina': 'Cape_May_Warbler',\n",
       " 'Setophaga townsendi': 'Townsends_Warbler',\n",
       " 'Setophaga virens': 'Black_throated_Green_Warbler',\n",
       " 'Vermivora chrysoptera': 'Golden_winged_Warbler',\n",
       " 'Vermivora cyanoptera': 'Blue_winged_Warbler',\n",
       " 'Passer domesticus': 'House_Sparrow',\n",
       " 'Pelecanus erythrorhynchos': 'American_White_Pelican',\n",
       " 'Pelecanus occidentalis': 'Brown_Pelican',\n",
       " 'Phalacrocorax auritus': 'Double_Crested_Cormorant',\n",
       " 'Phalacrocorax brasilianus': 'Neotropic_Cormorant',\n",
       " 'Phalacrocorax carbo': 'Great_Cormorant',\n",
       " 'Phalacrocorax penicillatus': 'Brandts_Cormorant',\n",
       " 'Meleagris gallopavo': 'Wild_Turkey',\n",
       " 'Phasianus colchicus': 'Ring_necked_Pheasant',\n",
       " 'Bonasa umbellus': 'Ruffed_Grouse',\n",
       " 'Centrocercus urophasianus': 'Greater_Sage_Grouse',\n",
       " 'Dendragapus fuliginosus': 'Sooty_Grouse',\n",
       " 'Dendragapus obscurus': 'Dusky_Grouse',\n",
       " 'Falcipennis canadensis': 'Spruce_Grouse',\n",
       " 'Lagopus lagopus': 'Willow_Ptarmigan',\n",
       " 'Lagopus leucura': 'White_tailed_Ptarmigan',\n",
       " 'Lagopus muta': 'Rock_Ptarmigan',\n",
       " 'Tympanuchus cupido': 'Greater_Prairie_Chicken',\n",
       " 'Tympanuchus phasianellus': 'Sharp_tailed_Grouse',\n",
       " 'Colaptes auratus': 'Northern_Flicker',\n",
       " 'Dryocopus pileatus': 'Pileated_Woodpecker',\n",
       " 'Melanerpes aurifrons': 'Golden_fronted_Woodpecker',\n",
       " 'Melanerpes carolinus': 'Red_bellied_Woodpecker',\n",
       " 'Melanerpes erythrocephalus': 'Red_Headed_Woodpecker',\n",
       " 'Melanerpes formicivorus': 'Acorn_Woodpecker',\n",
       " 'Melanerpes lewis': 'Lewiss_Woodpecker',\n",
       " 'Melanerpes uropygialis': 'Gila_Woodpecker',\n",
       " 'Picoides albolarvatus': 'White_Headed_Woodpecker',\n",
       " 'Picoides arcticus': 'Black_backed_Woodpecker',\n",
       " 'Picoides borealis': 'Red_Cockaded_Woodpecker',\n",
       " 'Picoides dorsalis': 'American_Three_Toed_Woodpecker',\n",
       " 'Picoides nuttallii': 'Nuttalls_Woodpecker',\n",
       " 'Picoides pubescens': 'Downy_Woodpecker',\n",
       " 'Picoides scalaris': 'Ladder_backed_Woodpecker',\n",
       " 'Picoides villosus': 'Hairy_Woodpecker',\n",
       " 'Sphyrapicus nuchalis': 'Red_Naped_Sapsucker',\n",
       " 'Sphyrapicus ruber': 'Red_breasted_Sapsucker',\n",
       " 'Sphyrapicus thyroideus': 'Williamsons_Sapsucker',\n",
       " 'Sphyrapicus varius': 'Yellow_bellied_Sapsucker',\n",
       " 'Aechmophorus clarkii': 'Clarks_Grebe',\n",
       " 'Aechmophorus occidentalis': 'Western_Grebe',\n",
       " 'Podiceps auritus': 'Horned_Grebe',\n",
       " 'Podiceps grisegena': 'Red_necked_Grebe',\n",
       " 'Podiceps nigricollis': 'eared_Grebe',\n",
       " 'Podilymbus podiceps': 'Pied_billed_Grebe',\n",
       " 'Tachybaptus dominicus': 'Least_Grebe',\n",
       " 'Polioptila caerulea': 'Blue_Gray_Gnatcatcher',\n",
       " 'Myiopsitta monachus': 'Monk_Parakeet',\n",
       " 'Phainopepla nitens': 'Phainopepla',\n",
       " 'Fulica americana': 'American_Coot',\n",
       " 'Gallinula galeata': 'Common_Gallinule',\n",
       " 'Porphyrio martinicus': 'Purple_Gallinule',\n",
       " 'Porzana carolina': 'Sora',\n",
       " 'Rallus elegans': 'King_Rail',\n",
       " 'Rallus limicola': 'Virginia_Rail',\n",
       " 'Rallus longirostris': 'Clapper_Rail',\n",
       " 'Himantopus mexicanus': 'Black_necked_Stilt',\n",
       " 'Recurvirostra americana': 'American_Avocet',\n",
       " 'Regulus calendula': 'Ruby_crowned_Kinglet',\n",
       " 'Regulus satrapa': 'Golden_crowned_Kinglet',\n",
       " 'Auriparus flaviceps': 'Verdin',\n",
       " 'Phalaropus fulicarius': 'Red_Phalarope',\n",
       " 'Phalaropus lobatus': 'Red_necked_Phalarope',\n",
       " 'Phalaropus tricolor': 'Wilsons_Phalarope',\n",
       " 'Actitis macularius': 'Spotted_Sandpiper',\n",
       " 'Aphriza virgata': 'Surfbird',\n",
       " 'Arenaria interpres': 'Ruddy_Turnstone',\n",
       " 'Arenaria melanocephala': 'Black_Turnstone',\n",
       " 'Bartramia longicauda': 'Upland_Sandpiper',\n",
       " 'Calidris alba': 'Sanderling',\n",
       " 'Calidris alpina': 'Dunlin',\n",
       " 'Calidris bairdii': 'Bairds_Sandpiper',\n",
       " 'Calidris canutus': 'Red_Knot',\n",
       " 'Calidris fuscicollis': 'White_rumped_Sandpiper',\n",
       " 'Calidris himantopus': 'Stilt_Sandpiper',\n",
       " 'Calidris maritima': 'Purple_Sandpiper',\n",
       " 'Calidris mauri': 'Western_Sandpiper',\n",
       " 'Calidris melanotos': 'Pectoral_Sandpiper',\n",
       " 'Calidris minutilla': 'Least_Sandpiper',\n",
       " 'Calidris ptilocnemis': 'Rock_Sandpiper',\n",
       " 'Calidris pusilla': 'Semipalmated_Sandpiper',\n",
       " 'Gallinago delicata': 'Wilsons_Snipe',\n",
       " 'Limnodromus griseus': 'Short_billed_Dowitcher',\n",
       " 'Limnodromus scolopaceus': 'Long_billed_Dowitcher',\n",
       " 'Limosa fedoa': 'Marbled_Godwit',\n",
       " 'Numenius americanus': 'Long_billed_Curlew',\n",
       " 'Numenius phaeopus': 'Whimbrel',\n",
       " 'Scolopax minor': 'American_Woodcock',\n",
       " 'Tringa flavipes': 'Lesser_Yellowlegs',\n",
       " 'Tringa incana': 'Wandering_Tattler',\n",
       " 'Tringa melanoleuca': 'Greater_Yellowlegs',\n",
       " 'Tringa semipalmata': 'Willet',\n",
       " 'Tringa solitaria': 'Solitary_Sandpiper',\n",
       " 'Sitta canadensis': 'Red_breasted_Nuthatch',\n",
       " 'Sitta carolinensis': 'White_breasted_Nuthatch',\n",
       " 'Sitta pusilla': 'Brown_Headed_Nuthatch',\n",
       " 'Sitta pygmaea': 'Pygmy_Nuthatch',\n",
       " 'Aegolius acadicus': 'Northern_Saw_Whet_Owl',\n",
       " 'Asio flammeus': 'Short_eared_Owl',\n",
       " 'Asio otus': 'Long_eared_Owl',\n",
       " 'Athene cunicularia': 'Burrowing_Owl',\n",
       " 'Bubo scandiacus': 'Snowy_Owl',\n",
       " 'Bubo virginianus': 'Great_Horned_Owl',\n",
       " 'Glaucidium brasilianum': 'Ferruginous_Pygmy_Owl',\n",
       " 'Megascops asio': 'Eastern_Screech_Owl',\n",
       " 'Megascops kennicottii': 'Western_Screech_Owl',\n",
       " 'Micrathene whitneyi': 'Elf_Owl',\n",
       " 'Strix nebulosa': 'Great_Gray_Owl',\n",
       " 'Strix occidentalis': 'Spotted_Owl',\n",
       " 'Strix varia': 'Barred_Owl',\n",
       " 'Surnia ulula': 'Northern_Hawk_Owl',\n",
       " 'Sturnus vulgaris': 'European_Starling',\n",
       " 'Morus bassanus': 'Northern_Gannet',\n",
       " 'Chamaea fasciata': 'Wrentit',\n",
       " 'Eudocimus albus': 'White_Ibis',\n",
       " 'Plegadis chihi': 'White_Faced_Ibis',\n",
       " 'Plegadis falcinellus': 'Glossy_Ibis',\n",
       " 'Archilochus alexandri': 'Black_Chinned_Hummingbird',\n",
       " 'Archilochus colubris': 'Ruby_throated_Hummingbird',\n",
       " 'Calypte anna': 'Annas_Hummingbird',\n",
       " 'Calypte costae': 'Costas_Hummingbird',\n",
       " 'Cynanthus latirostris': 'Broad_billed_Hummingbird',\n",
       " 'Selasphorus calliope': 'Calliope_Hummingbird',\n",
       " 'Selasphorus platycercus': 'Broad_tailed_Hummingbird',\n",
       " 'Selasphorus rufus': 'Rufous_Hummingbird',\n",
       " 'Selasphorus sasin': 'Allens_Hummingbird',\n",
       " 'Campylorhynchus brunneicapillus': 'Cactus_Wren',\n",
       " 'Catherpes mexicanus': 'Canyon_Wren',\n",
       " 'Cistothorus palustris': 'Marsh_Wren',\n",
       " 'Cistothorus platensis': 'Sedge_Wren',\n",
       " 'Salpinctes obsoletus': 'Rock_Wren',\n",
       " 'Thryomanes bewickii': 'Bewicks_Wren',\n",
       " 'Thryothorus ludovicianus': 'Carolina_Wren',\n",
       " 'Troglodytes aedon': 'House_Wren',\n",
       " 'Troglodytes hiemalis': 'Winter_Wren',\n",
       " 'Troglodytes pacificus': 'Pacific_Wren',\n",
       " 'Trogon elegans': 'Elegant_Trogon',\n",
       " 'Catharus fuscescens': 'Veery',\n",
       " 'Catharus guttatus': 'Hermit_Thrush',\n",
       " 'Catharus minimus': 'Gray_cheeked_Thrush',\n",
       " 'Catharus ustulatus': 'Swainsons_Thrush',\n",
       " 'Hylocichla mustelina': 'Wood_Thrush',\n",
       " 'Ixoreus naevius': 'Varied_Thrush',\n",
       " 'Myadestes townsendi': 'Townsends_Solitaire',\n",
       " 'Sialia currucoides': 'Mountain_Bluebird',\n",
       " 'Sialia mexicana': 'Western_Bluebird',\n",
       " 'Sialia sialis': 'Eastern_Bluebird',\n",
       " 'Turdus migratorius': 'American_Robin',\n",
       " 'Contopus cooperi': 'Olive_Sided_Flycatcher',\n",
       " 'Contopus sordidulus': 'Western_Wood_Pewee',\n",
       " 'Contopus virens': 'Eastern_Wood_Pewee',\n",
       " 'Empidonax alnorum': 'Alder_Flycatcher',\n",
       " 'Empidonax difficilis': 'Pacific_Slope_Flycatcher',\n",
       " 'Empidonax flaviventris': 'Yellow_bellied_Flycatcher',\n",
       " 'Empidonax hammondii': 'Hammonds_Flycatcher',\n",
       " 'Empidonax minimus': 'Least_Flycatcher',\n",
       " 'Empidonax oberholseri': 'Dusky_Flycatcher',\n",
       " 'Empidonax occidentalis': 'Cordilleran_Flycatcher',\n",
       " 'Empidonax traillii': 'Willow_Flycatcher',\n",
       " 'Empidonax virescens': 'Acadian_Flycatcher',\n",
       " 'Empidonax wrightii': 'Gray_Flycatcher',\n",
       " 'Pyrocephalus rubinus': 'Vermilion_Flycatcher',\n",
       " 'Sayornis nigricans': 'Black_Phoebe',\n",
       " 'Sayornis phoebe': 'Eastern_Phoebe',\n",
       " 'Sayornis saya': 'Says_Phoebe',\n",
       " 'Myiarchus cinerascens': 'Ash_throated_Flycatcher',\n",
       " 'Myiarchus crinitus': 'Great_Crested_Flycatcher',\n",
       " 'Myiarchus tyrannulus': 'Brown_Crested_Flycatcher',\n",
       " 'Pitangus sulphuratus': 'Great_Kiskadee',\n",
       " 'Tyrannus couchii': 'Couchs_Kingbird',\n",
       " 'Tyrannus dominicensis': 'Gray_Kingbird',\n",
       " 'Tyrannus forficatus': 'Scissor_tailed_Flycatcher',\n",
       " 'Tyrannus melancholicus': 'Tropical_Kingbird',\n",
       " 'Tyrannus tyrannus': 'Eastern_Kingbird',\n",
       " 'Tyrannus verticalis': 'Western_Kingbird',\n",
       " 'Tyrannus vociferans': 'Cassins_Kingbird',\n",
       " 'Vireo bellii': 'Bells_Vireo',\n",
       " 'Vireo cassinii': 'Cassins_Vireo',\n",
       " 'Vireo flavifrons': 'Yellow_throated_Vireo',\n",
       " 'Vireo gilvus': 'Warbling_Vireo',\n",
       " 'Vireo griseus': 'White_eyed_Vireo',\n",
       " 'Vireo huttoni': 'Huttons_Vireo',\n",
       " 'Vireo olivaceus': 'Red_eyed_Vireo',\n",
       " 'Vireo philadelphicus': 'Philadelphia_Vireo',\n",
       " 'Vireo plumbeus': 'Plumbeous_Vireo',\n",
       " 'Vireo solitarius': 'Blue_Headed_Vireo'}"
      ]
     },
     "execution_count": 5,
     "metadata": {},
     "output_type": "execute_result"
    }
   ],
   "execution_count": 5
  },
  {
   "metadata": {},
   "cell_type": "markdown",
   "source": [
    "## 1.b - Most commonly spottable birds in Italy\n",
    "#### Now let's define a list of most commonly spotted birds in Italy, since the final app is meant to be use by Italian birdwatchers.\n",
    "#### The list is scraped from the Wikipedia [link](https://en.wikipedia.org/wiki/List_of_birds_of_Italy)"
   ],
   "id": "adb1df4603694a6f"
  },
  {
   "metadata": {
    "ExecuteTime": {
     "end_time": "2025-06-04T12:34:09.077497Z",
     "start_time": "2025-06-04T12:34:09.075055Z"
    }
   },
   "cell_type": "code",
   "source": [
    "def create_italian_birds_list():\n",
    "    \n",
    "    #if a file has been already written from the scrape function in the past, then the function collects it back and return its content\n",
    "    if pathlib.Path('./birds_of_italy.txt').exists():\n",
    "        print(f'The list already exists in memory...retrieving {pathlib.Path('./birds_of_italy.txt')}')\n",
    "        with open('./birds_of_italy.txt', 'r') as f:\n",
    "            return f.read().splitlines()\n",
    "            \n",
    "    #extracting a list of birds most likely to be spotted in Italy from wikipedia\n",
    "    import requests\n",
    "    from bs4 import BeautifulSoup\n",
    "\n",
    "    url = \"https://en.wikipedia.org/wiki/List_of_birds_of_Italy\" #the web page from witch we will basically scrap the info\n",
    "    response = requests.get(url)\n",
    "    soup = BeautifulSoup(response.content, \"html.parser\")\n",
    "\n",
    "    birds = []\n",
    "\n",
    "    for bird in soup.select(\"div div div main div div div div ul li i\"):\n",
    "        bird_name = bird.get_text(strip=True)\n",
    "        birds.append(bird_name)\n",
    "\n",
    "    #adding the birds of the orders represented by fewer species, which are formatted differently in the webpage\n",
    "    for bird in soup.select(\"div div div main div div div ul li i\"):\n",
    "        bird_name = bird.get_text(strip=True)\n",
    "        birds.append(bird_name)\n",
    "\n",
    "    # Save to file\n",
    "    with open(\"birds_of_italy.txt\", \"w\", encoding=\"utf-8\") as f:\n",
    "        for bird in sorted(set(birds)):\n",
    "            f.write(bird + \"\\n\")\n",
    "        print(f'A list of the italian birds has been exported in: {os.getcwd()}/birds_of_italy.txt')\n",
    "    \n",
    "    print('The variable now holds a list of the scientific names for the birds most likely to spot in Italy...')\n",
    "    return birds"
   ],
   "id": "4fb8f1d576db1604",
   "outputs": [],
   "execution_count": 6
  },
  {
   "metadata": {
    "ExecuteTime": {
     "end_time": "2025-06-04T12:34:09.080202Z",
     "start_time": "2025-06-04T12:34:09.078185Z"
    }
   },
   "cell_type": "code",
   "source": [
    "italian_birds_list = create_italian_birds_list() #this will be a list loaded in memory with all the italian birds. A *.txt file is available as well.\n",
    "print(f'Found a list of {len(italian_birds_list)} italian birds')\n",
    "print('First 10 samples:')\n",
    "print('\\t', italian_birds_list[:10], '....')\n"
   ],
   "id": "daeb306a0b3be1b6",
   "outputs": [
    {
     "name": "stdout",
     "output_type": "stream",
     "text": [
      "The list already exists in memory...retrieving birds_of_italy.txt\n",
      "Found a list of 559 italian birds\n",
      "First 10 samples:\n",
      "\t ['Acanthis cabaret', 'Acanthis flammea', 'Accipiter brevipes', 'Accipiter gentilis', 'Accipiter nisus', 'Acrocephalus agricola', 'Acrocephalus arundinaceus', 'Acrocephalus dumetorum', 'Acrocephalus melanopogon', 'Acrocephalus paludicola'] ....\n"
     ]
    }
   ],
   "execution_count": 7
  },
  {
   "metadata": {},
   "cell_type": "markdown",
   "source": [
    "## 2. Matching the Birsdnap content with the 'Italian' birds list\n",
    "#### Now we have to match what we have in our dataset and whose scientific name is available, with the list of the most common birds of Italy. First off, let's push the list of the scientific names just collected, into our dataframe"
   ],
   "id": "fb1fa9303a40990f"
  },
  {
   "metadata": {
    "ExecuteTime": {
     "end_time": "2025-06-04T12:34:09.102016Z",
     "start_time": "2025-06-04T12:34:09.090830Z"
    }
   },
   "cell_type": "code",
   "source": [
    "birds_for_training = [bird for bird in birdsnap_species if bird.replace('_', ' ').lower() in [bird.lower() for bird in italian_birds_list]]\n",
    "print(f'Found {len(birds_for_training)} classes for training which are both in the \\'italian birds\\' and in the \\'Birdsnap\\' dataset...')"
   ],
   "id": "396f6fc7f7eab232",
   "outputs": [
    {
     "name": "stdout",
     "output_type": "stream",
     "text": [
      "Found 101 classes for training which are both in the 'italian birds' and in the 'Birdsnap' dataset...\n"
     ]
    }
   ],
   "execution_count": 8
  },
  {
   "metadata": {},
   "cell_type": "markdown",
   "source": "#### The result is quite disappointing. Only 101 birds match the fact of being in the Birdsnap and being commonly spottable in Italy.",
   "id": "5716a675dbffdddf"
  },
  {
   "metadata": {},
   "cell_type": "markdown",
   "source": "## 2. Downloading the dataset content for italian species",
   "id": "a49e9977103a2d85"
  },
  {
   "metadata": {
    "ExecuteTime": {
     "end_time": "2025-06-04T12:34:09.110087Z",
     "start_time": "2025-06-04T12:34:09.107681Z"
    }
   },
   "cell_type": "code",
   "source": "birds_for_training[0]",
   "id": "4b26be2b325787c2",
   "outputs": [
    {
     "data": {
      "text/plain": [
       "'Accipiter gentilis'"
      ]
     },
     "execution_count": 9,
     "metadata": {},
     "output_type": "execute_result"
    }
   ],
   "execution_count": 9
  },
  {
   "metadata": {
    "ExecuteTime": {
     "end_time": "2025-06-04T12:34:09.113140Z",
     "start_time": "2025-06-04T12:34:09.110953Z"
    }
   },
   "cell_type": "code",
   "source": "birdsnap_species[birds_for_training[0]]",
   "id": "68b300e77b38ce17",
   "outputs": [
    {
     "data": {
      "text/plain": [
       "'Northern_Goshawk'"
      ]
     },
     "execution_count": 10,
     "metadata": {},
     "output_type": "execute_result"
    }
   ],
   "execution_count": 10
  },
  {
   "metadata": {
    "ExecuteTime": {
     "end_time": "2025-06-04T12:53:49.338702Z",
     "start_time": "2025-06-04T12:45:48.729890Z"
    }
   },
   "cell_type": "code",
   "source": [
    "#let's import hugging face hub. a library to manage hugging_face repos\n",
    "birdsnap_download_path = BIRDSNAP_DATASET_PATH / 'download'\n",
    "\n",
    "if not (birdsnap_download_path / 'images').exists(): #the path where the original .tar files are download from the remote repo. If that's empty then the download starts\n",
    "    from huggingface_hub import hf_hub_download\n",
    "\n",
    "    downloaded_species = [] #local paths of files\n",
    "\n",
    "    for class_for_training in birds_for_training:\n",
    "        try:\n",
    "            class_for_training = birdsnap_species[class_for_training]\n",
    "            local_path = hf_hub_download(\n",
    "                repo_id='HuggingFaceM4/Birdsnap',\n",
    "                filename=f'images/{class_for_training}.tar',\n",
    "                repo_type='dataset',\n",
    "                local_dir=birdsnap_download_path,\n",
    "            )\n",
    "            downloaded_species.append(local_path)\n",
    "        except Exception as exception:\n",
    "            print(f'An exception occurred: {exception.__class__} for {class_for_training}')\n",
    "    print(f'Downloaded {len(downloaded_species)} images')\n",
    "else:\n",
    "    #if the ./Birdsnap/download/images contains folders (which should be species) then it means that the download must not start and that we can retrieve a list of species directly from the folder structure\n",
    "    downloaded_species = os.listdir(birdsnap_download_path / 'images')"
   ],
   "id": "4e7aa99f876f2d67",
   "outputs": [
    {
     "data": {
      "text/plain": [
       "Northern_Goshawk.tar:   0%|          | 0.00/198M [00:00<?, ?B/s]"
      ],
      "application/vnd.jupyter.widget-view+json": {
       "version_major": 2,
       "version_minor": 0,
       "model_id": "fd0a1f893d7d42398a4ace58efb4445e"
      }
     },
     "metadata": {},
     "output_type": "display_data"
    },
    {
     "data": {
      "text/plain": [
       "Golden_Eagle.tar:   0%|          | 0.00/260M [00:00<?, ?B/s]"
      ],
      "application/vnd.jupyter.widget-view+json": {
       "version_major": 2,
       "version_minor": 0,
       "model_id": "1a668699cae84f70addb5ed99338cc40"
      }
     },
     "metadata": {},
     "output_type": "display_data"
    },
    {
     "data": {
      "text/plain": [
       "Rough_legged_Hawk.tar:   0%|          | 0.00/214M [00:00<?, ?B/s]"
      ],
      "application/vnd.jupyter.widget-view+json": {
       "version_major": 2,
       "version_minor": 0,
       "model_id": "65872b2405ea4f65b288d89a604540ca"
      }
     },
     "metadata": {},
     "output_type": "display_data"
    },
    {
     "data": {
      "text/plain": [
       "Northern_Harrier.tar:   0%|          | 0.00/172M [00:00<?, ?B/s]"
      ],
      "application/vnd.jupyter.widget-view+json": {
       "version_major": 2,
       "version_minor": 0,
       "model_id": "704b8526da114fcab7c175d809820102"
      }
     },
     "metadata": {},
     "output_type": "display_data"
    },
    {
     "data": {
      "text/plain": [
       "Horned_Lark.tar:   0%|          | 0.00/159M [00:00<?, ?B/s]"
      ],
      "application/vnd.jupyter.widget-view+json": {
       "version_major": 2,
       "version_minor": 0,
       "model_id": "2bec3ed37b9a40ff842ce7fdf9c2a0de"
      }
     },
     "metadata": {},
     "output_type": "display_data"
    },
    {
     "data": {
      "text/plain": [
       "Common_Murre.tar:   0%|          | 0.00/94.5M [00:00<?, ?B/s]"
      ],
      "application/vnd.jupyter.widget-view+json": {
       "version_major": 2,
       "version_minor": 0,
       "model_id": "a36ab89ea7164e028f9f23af0700760f"
      }
     },
     "metadata": {},
     "output_type": "display_data"
    },
    {
     "data": {
      "text/plain": [
       "Northern_Pintail.tar:   0%|          | 0.00/264M [00:00<?, ?B/s]"
      ],
      "application/vnd.jupyter.widget-view+json": {
       "version_major": 2,
       "version_minor": 0,
       "model_id": "3aa68d060a404cc788ba6a9fa4baa1b6"
      }
     },
     "metadata": {},
     "output_type": "display_data"
    },
    {
     "data": {
      "text/plain": [
       "Green_winged_Teal.tar:   0%|          | 0.00/105M [00:00<?, ?B/s]"
      ],
      "application/vnd.jupyter.widget-view+json": {
       "version_major": 2,
       "version_minor": 0,
       "model_id": "3cb866cda2bd4c3f87ef661b4d2f7ff9"
      }
     },
     "metadata": {},
     "output_type": "display_data"
    },
    {
     "data": {
      "text/plain": [
       "Mallard.tar:   0%|          | 0.00/169M [00:00<?, ?B/s]"
      ],
      "application/vnd.jupyter.widget-view+json": {
       "version_major": 2,
       "version_minor": 0,
       "model_id": "72af308bbdbf413d889abf4a438cb1e8"
      }
     },
     "metadata": {},
     "output_type": "display_data"
    },
    {
     "data": {
      "text/plain": [
       "Ring_necked_Duck.tar:   0%|          | 0.00/135M [00:00<?, ?B/s]"
      ],
      "application/vnd.jupyter.widget-view+json": {
       "version_major": 2,
       "version_minor": 0,
       "model_id": "385ecad456ba4d4985a81b5c7c62f26d"
      }
     },
     "metadata": {},
     "output_type": "display_data"
    },
    {
     "data": {
      "text/plain": [
       "Greater_Scaup.tar:   0%|          | 0.00/121M [00:00<?, ?B/s]"
      ],
      "application/vnd.jupyter.widget-view+json": {
       "version_major": 2,
       "version_minor": 0,
       "model_id": "e3edb1efdb7049e5b23cb43173a4b8fe"
      }
     },
     "metadata": {},
     "output_type": "display_data"
    },
    {
     "data": {
      "text/plain": [
       "Common_Goldeneye.tar:   0%|          | 0.00/131M [00:00<?, ?B/s]"
      ],
      "application/vnd.jupyter.widget-view+json": {
       "version_major": 2,
       "version_minor": 0,
       "model_id": "949288bc74654c2c8b3ac0559ccbdcd3"
      }
     },
     "metadata": {},
     "output_type": "display_data"
    },
    {
     "data": {
      "text/plain": [
       "Long_tailed_Duck.tar:   0%|          | 0.00/104M [00:00<?, ?B/s]"
      ],
      "application/vnd.jupyter.widget-view+json": {
       "version_major": 2,
       "version_minor": 0,
       "model_id": "69920c115d03446085fbed26355cfc9a"
      }
     },
     "metadata": {},
     "output_type": "display_data"
    },
    {
     "data": {
      "text/plain": [
       "Harlequin_Duck.tar:   0%|          | 0.00/129M [00:00<?, ?B/s]"
      ],
      "application/vnd.jupyter.widget-view+json": {
       "version_major": 2,
       "version_minor": 0,
       "model_id": "9e3db46469ce4f22a815ad10ae2b4c47"
      }
     },
     "metadata": {},
     "output_type": "display_data"
    },
    {
     "data": {
      "text/plain": [
       "White_winged_Scoter.tar:   0%|          | 0.00/93.8M [00:00<?, ?B/s]"
      ],
      "application/vnd.jupyter.widget-view+json": {
       "version_major": 2,
       "version_minor": 0,
       "model_id": "b46e2b6b750247f9a0686e787d1c4493"
      }
     },
     "metadata": {},
     "output_type": "display_data"
    },
    {
     "data": {
      "text/plain": [
       "Common_Merganser.tar:   0%|          | 0.00/146M [00:00<?, ?B/s]"
      ],
      "application/vnd.jupyter.widget-view+json": {
       "version_major": 2,
       "version_minor": 0,
       "model_id": "2af9c17bcbea416998dd3b644d9189ed"
      }
     },
     "metadata": {},
     "output_type": "display_data"
    },
    {
     "data": {
      "text/plain": [
       "Red_breasted_Merganser.tar:   0%|          | 0.00/118M [00:00<?, ?B/s]"
      ],
      "application/vnd.jupyter.widget-view+json": {
       "version_major": 2,
       "version_minor": 0,
       "model_id": "c0f2a5b5ef784351ac2f8885cbc69038"
      }
     },
     "metadata": {},
     "output_type": "display_data"
    },
    {
     "data": {
      "text/plain": [
       "Ruddy_Duck.tar:   0%|          | 0.00/161M [00:00<?, ?B/s]"
      ],
      "application/vnd.jupyter.widget-view+json": {
       "version_major": 2,
       "version_minor": 0,
       "model_id": "f366219b766a4edc8d8bd8e6661a9311"
      }
     },
     "metadata": {},
     "output_type": "display_data"
    },
    {
     "data": {
      "text/plain": [
       "Common_Eider.tar:   0%|          | 0.00/205M [00:00<?, ?B/s]"
      ],
      "application/vnd.jupyter.widget-view+json": {
       "version_major": 2,
       "version_minor": 0,
       "model_id": "1047e344b3d848d080b7ad4e731a7dd1"
      }
     },
     "metadata": {},
     "output_type": "display_data"
    },
    {
     "data": {
      "text/plain": [
       "Greater_White_fronted_Goose.tar:   0%|          | 0.00/113M [00:00<?, ?B/s]"
      ],
      "application/vnd.jupyter.widget-view+json": {
       "version_major": 2,
       "version_minor": 0,
       "model_id": "c2b61f566f4e4f6a90575fc61c7ae5c2"
      }
     },
     "metadata": {},
     "output_type": "display_data"
    },
    {
     "data": {
      "text/plain": [
       "Brant.tar:   0%|          | 0.00/136M [00:00<?, ?B/s]"
      ],
      "application/vnd.jupyter.widget-view+json": {
       "version_major": 2,
       "version_minor": 0,
       "model_id": "68d17f59d6bf48d0b1e0c9b467c48c42"
      }
     },
     "metadata": {},
     "output_type": "display_data"
    },
    {
     "data": {
      "text/plain": [
       "Canada_Goose.tar:   0%|          | 0.00/219M [00:00<?, ?B/s]"
      ],
      "application/vnd.jupyter.widget-view+json": {
       "version_major": 2,
       "version_minor": 0,
       "model_id": "6b455d2b6e9c4bd9812a7db8e03b8db5"
      }
     },
     "metadata": {},
     "output_type": "display_data"
    },
    {
     "data": {
      "text/plain": [
       "Tundra_Swan.tar:   0%|          | 0.00/107M [00:00<?, ?B/s]"
      ],
      "application/vnd.jupyter.widget-view+json": {
       "version_major": 2,
       "version_minor": 0,
       "model_id": "e653842770214e8185c21115500a2cf4"
      }
     },
     "metadata": {},
     "output_type": "display_data"
    },
    {
     "data": {
      "text/plain": [
       "Mute_Swan.tar:   0%|          | 0.00/155M [00:00<?, ?B/s]"
      ],
      "application/vnd.jupyter.widget-view+json": {
       "version_major": 2,
       "version_minor": 0,
       "model_id": "6e09fb6f3e7c4c13a2beba958657fcd5"
      }
     },
     "metadata": {},
     "output_type": "display_data"
    },
    {
     "data": {
      "text/plain": [
       "Great_Egret.tar:   0%|          | 0.00/217M [00:00<?, ?B/s]"
      ],
      "application/vnd.jupyter.widget-view+json": {
       "version_major": 2,
       "version_minor": 0,
       "model_id": "e506fbb68c57430ba8730ca9a6f89de9"
      }
     },
     "metadata": {},
     "output_type": "display_data"
    },
    {
     "data": {
      "text/plain": [
       "Cattle_Egret.tar:   0%|          | 0.00/169M [00:00<?, ?B/s]"
      ],
      "application/vnd.jupyter.widget-view+json": {
       "version_major": 2,
       "version_minor": 0,
       "model_id": "6f7c5f4f2d8341c2baa747f11683ec67"
      }
     },
     "metadata": {},
     "output_type": "display_data"
    },
    {
     "data": {
      "text/plain": [
       "Black_crowned_Night_Heron.tar:   0%|          | 0.00/226M [00:00<?, ?B/s]"
      ],
      "application/vnd.jupyter.widget-view+json": {
       "version_major": 2,
       "version_minor": 0,
       "model_id": "44eee4c2836b4759bda9634b68553600"
      }
     },
     "metadata": {},
     "output_type": "display_data"
    },
    {
     "data": {
      "text/plain": [
       "Bohemian_Waxwing.tar:   0%|          | 0.00/123M [00:00<?, ?B/s]"
      ],
      "application/vnd.jupyter.widget-view+json": {
       "version_major": 2,
       "version_minor": 0,
       "model_id": "43eedea10cf14d339ad0b2b74d5c05e8"
      }
     },
     "metadata": {},
     "output_type": "display_data"
    },
    {
     "data": {
      "text/plain": [
       "Lapland_Longspur.tar:   0%|          | 0.00/160M [00:00<?, ?B/s]"
      ],
      "application/vnd.jupyter.widget-view+json": {
       "version_major": 2,
       "version_minor": 0,
       "model_id": "509fed78af1a4ce1a00ac2be861f1020"
      }
     },
     "metadata": {},
     "output_type": "display_data"
    },
    {
     "data": {
      "text/plain": [
       "Snow_Bunting.tar:   0%|          | 0.00/118M [00:00<?, ?B/s]"
      ],
      "application/vnd.jupyter.widget-view+json": {
       "version_major": 2,
       "version_minor": 0,
       "model_id": "d563d6914ce44586a15db80a8108e7cd"
      }
     },
     "metadata": {},
     "output_type": "display_data"
    },
    {
     "data": {
      "text/plain": [
       "American_Golden_Plover.tar:   0%|          | 0.00/82.4M [00:00<?, ?B/s]"
      ],
      "application/vnd.jupyter.widget-view+json": {
       "version_major": 2,
       "version_minor": 0,
       "model_id": "48dd7f346f5f4442a895e9742898255a"
      }
     },
     "metadata": {},
     "output_type": "display_data"
    },
    {
     "data": {
      "text/plain": [
       "Pacific_Golden_Plover.tar:   0%|          | 0.00/142M [00:00<?, ?B/s]"
      ],
      "application/vnd.jupyter.widget-view+json": {
       "version_major": 2,
       "version_minor": 0,
       "model_id": "8749d4c99e064364a91120c14b2146e5"
      }
     },
     "metadata": {},
     "output_type": "display_data"
    },
    {
     "data": {
      "text/plain": [
       "Black_bellied_Plover.tar:   0%|          | 0.00/125M [00:00<?, ?B/s]"
      ],
      "application/vnd.jupyter.widget-view+json": {
       "version_major": 2,
       "version_minor": 0,
       "model_id": "267c295c90634b0f9b73eb7186655cd3"
      }
     },
     "metadata": {},
     "output_type": "display_data"
    },
    {
     "data": {
      "text/plain": [
       "Rock_Pigeon.tar:   0%|          | 0.00/209M [00:00<?, ?B/s]"
      ],
      "application/vnd.jupyter.widget-view+json": {
       "version_major": 2,
       "version_minor": 0,
       "model_id": "57abee94721c4a0a970ce14f460ac7ae"
      }
     },
     "metadata": {},
     "output_type": "display_data"
    },
    {
     "data": {
      "text/plain": [
       "Eurasian_Collared_Dove.tar:   0%|          | 0.00/156M [00:00<?, ?B/s]"
      ],
      "application/vnd.jupyter.widget-view+json": {
       "version_major": 2,
       "version_minor": 0,
       "model_id": "6301c977d7c54daf9de21ba03fb20bee"
      }
     },
     "metadata": {},
     "output_type": "display_data"
    },
    {
     "data": {
      "text/plain": [
       "Common_Raven.tar:   0%|          | 0.00/168M [00:00<?, ?B/s]"
      ],
      "application/vnd.jupyter.widget-view+json": {
       "version_major": 2,
       "version_minor": 0,
       "model_id": "5a789c1bf13f4f2a80ee422bfd25b7e6"
      }
     },
     "metadata": {},
     "output_type": "display_data"
    },
    {
     "data": {
      "text/plain": [
       "Yellow_billed_Cuckoo.tar:   0%|          | 0.00/109M [00:00<?, ?B/s]"
      ],
      "application/vnd.jupyter.widget-view+json": {
       "version_major": 2,
       "version_minor": 0,
       "model_id": "ea2c402ad1684deea9006b4acf0e79ef"
      }
     },
     "metadata": {},
     "output_type": "display_data"
    },
    {
     "data": {
      "text/plain": [
       "Black_billed_Cuckoo.tar:   0%|          | 0.00/84.5M [00:00<?, ?B/s]"
      ],
      "application/vnd.jupyter.widget-view+json": {
       "version_major": 2,
       "version_minor": 0,
       "model_id": "a2444cec38f64fff8f64f12e87a56b4c"
      }
     },
     "metadata": {},
     "output_type": "display_data"
    },
    {
     "data": {
      "text/plain": [
       "Merlin.tar:   0%|          | 0.00/146M [00:00<?, ?B/s]"
      ],
      "application/vnd.jupyter.widget-view+json": {
       "version_major": 2,
       "version_minor": 0,
       "model_id": "424060beccb74ced8073e6dd97180715"
      }
     },
     "metadata": {},
     "output_type": "display_data"
    },
    {
     "data": {
      "text/plain": [
       "Peregrine_Falcon.tar:   0%|          | 0.00/65.3M [00:00<?, ?B/s]"
      ],
      "application/vnd.jupyter.widget-view+json": {
       "version_major": 2,
       "version_minor": 0,
       "model_id": "c6f73b4be1e8499ebe7eddd85e697045"
      }
     },
     "metadata": {},
     "output_type": "display_data"
    },
    {
     "data": {
      "text/plain": [
       "Common_Redpoll.tar:   0%|          | 0.00/124M [00:00<?, ?B/s]"
      ],
      "application/vnd.jupyter.widget-view+json": {
       "version_major": 2,
       "version_minor": 0,
       "model_id": "464dcc093b114351a7977ac571bed537"
      }
     },
     "metadata": {},
     "output_type": "display_data"
    },
    {
     "data": {
      "text/plain": [
       "Red_Crossbill.tar:   0%|          | 0.00/85.1M [00:00<?, ?B/s]"
      ],
      "application/vnd.jupyter.widget-view+json": {
       "version_major": 2,
       "version_minor": 0,
       "model_id": "c1c64afd7d764ea09d8785752c1ef099"
      }
     },
     "metadata": {},
     "output_type": "display_data"
    },
    {
     "data": {
      "text/plain": [
       "White_winged_Crossbill.tar:   0%|          | 0.00/89.4M [00:00<?, ?B/s]"
      ],
      "application/vnd.jupyter.widget-view+json": {
       "version_major": 2,
       "version_minor": 0,
       "model_id": "21be2a1db134474c9ba4038bdec21d48"
      }
     },
     "metadata": {},
     "output_type": "display_data"
    },
    {
     "data": {
      "text/plain": [
       "Pine_Grosbeak.tar:   0%|          | 0.00/233M [00:00<?, ?B/s]"
      ],
      "application/vnd.jupyter.widget-view+json": {
       "version_major": 2,
       "version_minor": 0,
       "model_id": "ccc127ccd4d64c6eb1d2f06cfad2b3b3"
      }
     },
     "metadata": {},
     "output_type": "display_data"
    },
    {
     "data": {
      "text/plain": [
       "Common_Loon.tar:   0%|          | 0.00/194M [00:00<?, ?B/s]"
      ],
      "application/vnd.jupyter.widget-view+json": {
       "version_major": 2,
       "version_minor": 0,
       "model_id": "6a537609c5834f67918ddaa630081188"
      }
     },
     "metadata": {},
     "output_type": "display_data"
    },
    {
     "data": {
      "text/plain": [
       "Red_throated_Loon.tar:   0%|          | 0.00/122M [00:00<?, ?B/s]"
      ],
      "application/vnd.jupyter.widget-view+json": {
       "version_major": 2,
       "version_minor": 0,
       "model_id": "2fd05366699047e3a9826528721b0489"
      }
     },
     "metadata": {},
     "output_type": "display_data"
    },
    {
     "data": {
      "text/plain": [
       "Barn_Swallow.tar:   0%|          | 0.00/95.7M [00:00<?, ?B/s]"
      ],
      "application/vnd.jupyter.widget-view+json": {
       "version_major": 2,
       "version_minor": 0,
       "model_id": "e96f09dda2734e7fa9e5309dd9582f48"
      }
     },
     "metadata": {},
     "output_type": "display_data"
    },
    {
     "data": {
      "text/plain": [
       "Bobolink.tar:   0%|          | 0.00/129M [00:00<?, ?B/s]"
      ],
      "application/vnd.jupyter.widget-view+json": {
       "version_major": 2,
       "version_minor": 0,
       "model_id": "d8b8d47687494e78be9a666118312b8f"
      }
     },
     "metadata": {},
     "output_type": "display_data"
    },
    {
     "data": {
      "text/plain": [
       "Northern_Shrike.tar:   0%|          | 0.00/95.4M [00:00<?, ?B/s]"
      ],
      "application/vnd.jupyter.widget-view+json": {
       "version_major": 2,
       "version_minor": 0,
       "model_id": "71ebc6d1e0e04e27b254b25f33973498"
      }
     },
     "metadata": {},
     "output_type": "display_data"
    },
    {
     "data": {
      "text/plain": [
       "Herring_Gull.tar:   0%|          | 0.00/204M [00:00<?, ?B/s]"
      ],
      "application/vnd.jupyter.widget-view+json": {
       "version_major": 2,
       "version_minor": 0,
       "model_id": "a1d6c2d9a0d04fb5acc8866af25009d2"
      }
     },
     "metadata": {},
     "output_type": "display_data"
    },
    {
     "data": {
      "text/plain": [
       "Mew_Gull.tar:   0%|          | 0.00/205M [00:00<?, ?B/s]"
      ],
      "application/vnd.jupyter.widget-view+json": {
       "version_major": 2,
       "version_minor": 0,
       "model_id": "69434072aa50464681191caf644dcb57"
      }
     },
     "metadata": {},
     "output_type": "display_data"
    },
    {
     "data": {
      "text/plain": [
       "Ring_billed_Gull.tar:   0%|          | 0.00/148M [00:00<?, ?B/s]"
      ],
      "application/vnd.jupyter.widget-view+json": {
       "version_major": 2,
       "version_minor": 0,
       "model_id": "c85b707d451f4c0b8aaf6f1ac3375391"
      }
     },
     "metadata": {},
     "output_type": "display_data"
    },
    {
     "data": {
      "text/plain": [
       "Iceland_Gull.tar:   0%|          | 0.00/89.8M [00:00<?, ?B/s]"
      ],
      "application/vnd.jupyter.widget-view+json": {
       "version_major": 2,
       "version_minor": 0,
       "model_id": "b02dea72d0e640239367d887b641b602"
      }
     },
     "metadata": {},
     "output_type": "display_data"
    },
    {
     "data": {
      "text/plain": [
       "Glaucous_Gull.tar:   0%|          | 0.00/163M [00:00<?, ?B/s]"
      ],
      "application/vnd.jupyter.widget-view+json": {
       "version_major": 2,
       "version_minor": 0,
       "model_id": "933b0638c89349f289c545ffa2b3be1a"
      }
     },
     "metadata": {},
     "output_type": "display_data"
    },
    {
     "data": {
      "text/plain": [
       "Great_Black_backed_Gull.tar:   0%|          | 0.00/136M [00:00<?, ?B/s]"
      ],
      "application/vnd.jupyter.widget-view+json": {
       "version_major": 2,
       "version_minor": 0,
       "model_id": "21326062be1d42fbb13842345ce91451"
      }
     },
     "metadata": {},
     "output_type": "display_data"
    },
    {
     "data": {
      "text/plain": [
       "Laughing_Gull.tar:   0%|          | 0.00/186M [00:00<?, ?B/s]"
      ],
      "application/vnd.jupyter.widget-view+json": {
       "version_major": 2,
       "version_minor": 0,
       "model_id": "e2ed9759975643bcb2393c5cfdce548f"
      }
     },
     "metadata": {},
     "output_type": "display_data"
    },
    {
     "data": {
      "text/plain": [
       "Franklins_Gull.tar:   0%|          | 0.00/94.9M [00:00<?, ?B/s]"
      ],
      "application/vnd.jupyter.widget-view+json": {
       "version_major": 2,
       "version_minor": 0,
       "model_id": "b8aae8bc19a849dda16ff29bd3515fd7"
      }
     },
     "metadata": {},
     "output_type": "display_data"
    },
    {
     "data": {
      "text/plain": [
       "Black_legged_Kittiwake.tar:   0%|          | 0.00/102M [00:00<?, ?B/s]"
      ],
      "application/vnd.jupyter.widget-view+json": {
       "version_major": 2,
       "version_minor": 0,
       "model_id": "c72b71a3cb0e4ab0a994b5daf11b3035"
      }
     },
     "metadata": {},
     "output_type": "display_data"
    },
    {
     "data": {
      "text/plain": [
       "Black_Tern.tar:   0%|          | 0.00/65.9M [00:00<?, ?B/s]"
      ],
      "application/vnd.jupyter.widget-view+json": {
       "version_major": 2,
       "version_minor": 0,
       "model_id": "d8fb3e0c9b8c47a3b9ed76df67267b9a"
      }
     },
     "metadata": {},
     "output_type": "display_data"
    },
    {
     "data": {
      "text/plain": [
       "Gull_billed_Tern.tar:   0%|          | 0.00/58.2M [00:00<?, ?B/s]"
      ],
      "application/vnd.jupyter.widget-view+json": {
       "version_major": 2,
       "version_minor": 0,
       "model_id": "aca8f459c1f340a08e58203f86e04d4d"
      }
     },
     "metadata": {},
     "output_type": "display_data"
    },
    {
     "data": {
      "text/plain": [
       "Caspian_Tern.tar:   0%|          | 0.00/106M [00:00<?, ?B/s]"
      ],
      "application/vnd.jupyter.widget-view+json": {
       "version_major": 2,
       "version_minor": 0,
       "model_id": "9e94f81655614dd4908fde384826579b"
      }
     },
     "metadata": {},
     "output_type": "display_data"
    },
    {
     "data": {
      "text/plain": [
       "Roseate_Tern.tar:   0%|          | 0.00/84.5M [00:00<?, ?B/s]"
      ],
      "application/vnd.jupyter.widget-view+json": {
       "version_major": 2,
       "version_minor": 0,
       "model_id": "873e9ff3d815403693ccb7f1db9d88ad"
      }
     },
     "metadata": {},
     "output_type": "display_data"
    },
    {
     "data": {
      "text/plain": [
       "Common_Tern.tar:   0%|          | 0.00/98.1M [00:00<?, ?B/s]"
      ],
      "application/vnd.jupyter.widget-view+json": {
       "version_major": 2,
       "version_minor": 0,
       "model_id": "df68b0afd83a400cb056a2db59c8178c"
      }
     },
     "metadata": {},
     "output_type": "display_data"
    },
    {
     "data": {
      "text/plain": [
       "Arctic_Tern.tar:   0%|          | 0.00/224M [00:00<?, ?B/s]"
      ],
      "application/vnd.jupyter.widget-view+json": {
       "version_major": 2,
       "version_minor": 0,
       "model_id": "d269ff6b503a4356933b6669b52ae59b"
      }
     },
     "metadata": {},
     "output_type": "display_data"
    },
    {
     "data": {
      "text/plain": [
       "Sandwich_Tern.tar:   0%|          | 0.00/115M [00:00<?, ?B/s]"
      ],
      "application/vnd.jupyter.widget-view+json": {
       "version_major": 2,
       "version_minor": 0,
       "model_id": "eb69bd921db94cc88da1e106420107ec"
      }
     },
     "metadata": {},
     "output_type": "display_data"
    },
    {
     "data": {
      "text/plain": [
       "American_Pipit.tar:   0%|          | 0.00/162M [00:00<?, ?B/s]"
      ],
      "application/vnd.jupyter.widget-view+json": {
       "version_major": 2,
       "version_minor": 0,
       "model_id": "2f40341fb50e4983ab030189a0358a0a"
      }
     },
     "metadata": {},
     "output_type": "display_data"
    },
    {
     "data": {
      "text/plain": [
       "Northern_Bobwhite.tar:   0%|          | 0.00/101M [00:00<?, ?B/s]"
      ],
      "application/vnd.jupyter.widget-view+json": {
       "version_major": 2,
       "version_minor": 0,
       "model_id": "a1fea8a77a3a485ab469582427d7ac76"
      }
     },
     "metadata": {},
     "output_type": "display_data"
    },
    {
     "data": {
      "text/plain": [
       "Osprey.tar:   0%|          | 0.00/146M [00:00<?, ?B/s]"
      ],
      "application/vnd.jupyter.widget-view+json": {
       "version_major": 2,
       "version_minor": 0,
       "model_id": "2ebb6d84386f4ae8b6adb636fec00c92"
      }
     },
     "metadata": {},
     "output_type": "display_data"
    },
    {
     "data": {
      "text/plain": [
       "House_Sparrow.tar:   0%|          | 0.00/124M [00:00<?, ?B/s]"
      ],
      "application/vnd.jupyter.widget-view+json": {
       "version_major": 2,
       "version_minor": 0,
       "model_id": "23a63e2b6cda4547a709a78232d1b0ab"
      }
     },
     "metadata": {},
     "output_type": "display_data"
    },
    {
     "data": {
      "text/plain": [
       "Great_Cormorant.tar:   0%|          | 0.00/98.9M [00:00<?, ?B/s]"
      ],
      "application/vnd.jupyter.widget-view+json": {
       "version_major": 2,
       "version_minor": 0,
       "model_id": "992aa76200ff4493800ef9b08b60014f"
      }
     },
     "metadata": {},
     "output_type": "display_data"
    },
    {
     "data": {
      "text/plain": [
       "Ring_necked_Pheasant.tar:   0%|          | 0.00/171M [00:00<?, ?B/s]"
      ],
      "application/vnd.jupyter.widget-view+json": {
       "version_major": 2,
       "version_minor": 0,
       "model_id": "46e0c2b057b546678781156c6487d41c"
      }
     },
     "metadata": {},
     "output_type": "display_data"
    },
    {
     "data": {
      "text/plain": [
       "Rock_Ptarmigan.tar:   0%|          | 0.00/150M [00:00<?, ?B/s]"
      ],
      "application/vnd.jupyter.widget-view+json": {
       "version_major": 2,
       "version_minor": 0,
       "model_id": "7f3615884f4846e199e4223cc59e7cac"
      }
     },
     "metadata": {},
     "output_type": "display_data"
    },
    {
     "data": {
      "text/plain": [
       "Horned_Grebe.tar:   0%|          | 0.00/90.0M [00:00<?, ?B/s]"
      ],
      "application/vnd.jupyter.widget-view+json": {
       "version_major": 2,
       "version_minor": 0,
       "model_id": "81d62afcf80f431b9e87c42d99dcf79c"
      }
     },
     "metadata": {},
     "output_type": "display_data"
    },
    {
     "data": {
      "text/plain": [
       "Red_necked_Grebe.tar:   0%|          | 0.00/118M [00:00<?, ?B/s]"
      ],
      "application/vnd.jupyter.widget-view+json": {
       "version_major": 2,
       "version_minor": 0,
       "model_id": "6a1c7043b7d44254b0145e32e0e767f5"
      }
     },
     "metadata": {},
     "output_type": "display_data"
    },
    {
     "name": "stdout",
     "output_type": "stream",
     "text": [
      "An exception occurred: <class 'huggingface_hub.errors.EntryNotFoundError'> for eared_Grebe\n"
     ]
    },
    {
     "data": {
      "text/plain": [
       "Monk_Parakeet.tar:   0%|          | 0.00/208M [00:00<?, ?B/s]"
      ],
      "application/vnd.jupyter.widget-view+json": {
       "version_major": 2,
       "version_minor": 0,
       "model_id": "88b1ec63845543c8972329a01fe5d9ae"
      }
     },
     "metadata": {},
     "output_type": "display_data"
    },
    {
     "data": {
      "text/plain": [
       "Red_Phalarope.tar:   0%|          | 0.00/117M [00:00<?, ?B/s]"
      ],
      "application/vnd.jupyter.widget-view+json": {
       "version_major": 2,
       "version_minor": 0,
       "model_id": "24b041dd7e84466783d4f0bb460e1775"
      }
     },
     "metadata": {},
     "output_type": "display_data"
    },
    {
     "data": {
      "text/plain": [
       "Red_necked_Phalarope.tar:   0%|          | 0.00/139M [00:00<?, ?B/s]"
      ],
      "application/vnd.jupyter.widget-view+json": {
       "version_major": 2,
       "version_minor": 0,
       "model_id": "f9f6155a5002451e87d1462107189b39"
      }
     },
     "metadata": {},
     "output_type": "display_data"
    },
    {
     "data": {
      "text/plain": [
       "Wilsons_Phalarope.tar:   0%|          | 0.00/130M [00:00<?, ?B/s]"
      ],
      "application/vnd.jupyter.widget-view+json": {
       "version_major": 2,
       "version_minor": 0,
       "model_id": "15d57f105828418abfab7aaf5e31d44e"
      }
     },
     "metadata": {},
     "output_type": "display_data"
    },
    {
     "data": {
      "text/plain": [
       "Ruddy_Turnstone.tar:   0%|          | 0.00/176M [00:00<?, ?B/s]"
      ],
      "application/vnd.jupyter.widget-view+json": {
       "version_major": 2,
       "version_minor": 0,
       "model_id": "d055a5d0f06e4547b8d6c1aa389c2af2"
      }
     },
     "metadata": {},
     "output_type": "display_data"
    },
    {
     "data": {
      "text/plain": [
       "Upland_Sandpiper.tar:   0%|          | 0.00/80.8M [00:00<?, ?B/s]"
      ],
      "application/vnd.jupyter.widget-view+json": {
       "version_major": 2,
       "version_minor": 0,
       "model_id": "de8dd7b9dd6f46f9a7f950a1b51113c5"
      }
     },
     "metadata": {},
     "output_type": "display_data"
    },
    {
     "data": {
      "text/plain": [
       "Sanderling.tar:   0%|          | 0.00/103M [00:00<?, ?B/s]"
      ],
      "application/vnd.jupyter.widget-view+json": {
       "version_major": 2,
       "version_minor": 0,
       "model_id": "4d553a92820445c187faf2428f655701"
      }
     },
     "metadata": {},
     "output_type": "display_data"
    },
    {
     "data": {
      "text/plain": [
       "Dunlin.tar:   0%|          | 0.00/92.7M [00:00<?, ?B/s]"
      ],
      "application/vnd.jupyter.widget-view+json": {
       "version_major": 2,
       "version_minor": 0,
       "model_id": "ed8cc3dfbb644fa0811455790ed9888a"
      }
     },
     "metadata": {},
     "output_type": "display_data"
    },
    {
     "data": {
      "text/plain": [
       "Bairds_Sandpiper.tar:   0%|          | 0.00/106M [00:00<?, ?B/s]"
      ],
      "application/vnd.jupyter.widget-view+json": {
       "version_major": 2,
       "version_minor": 0,
       "model_id": "d79bce1af40c43e8a472f28f6bc26784"
      }
     },
     "metadata": {},
     "output_type": "display_data"
    },
    {
     "data": {
      "text/plain": [
       "Red_Knot.tar:   0%|          | 0.00/86.8M [00:00<?, ?B/s]"
      ],
      "application/vnd.jupyter.widget-view+json": {
       "version_major": 2,
       "version_minor": 0,
       "model_id": "6afe59ae69bc4bf1a8e602170f986674"
      }
     },
     "metadata": {},
     "output_type": "display_data"
    },
    {
     "data": {
      "text/plain": [
       "White_rumped_Sandpiper.tar:   0%|          | 0.00/67.4M [00:00<?, ?B/s]"
      ],
      "application/vnd.jupyter.widget-view+json": {
       "version_major": 2,
       "version_minor": 0,
       "model_id": "c076dc401fe940d1ad92700332bb89ed"
      }
     },
     "metadata": {},
     "output_type": "display_data"
    },
    {
     "data": {
      "text/plain": [
       "Purple_Sandpiper.tar:   0%|          | 0.00/216M [00:00<?, ?B/s]"
      ],
      "application/vnd.jupyter.widget-view+json": {
       "version_major": 2,
       "version_minor": 0,
       "model_id": "1b8dfd7608cc400584d409ff4a847889"
      }
     },
     "metadata": {},
     "output_type": "display_data"
    },
    {
     "data": {
      "text/plain": [
       "Pectoral_Sandpiper.tar:   0%|          | 0.00/117M [00:00<?, ?B/s]"
      ],
      "application/vnd.jupyter.widget-view+json": {
       "version_major": 2,
       "version_minor": 0,
       "model_id": "b5c46782b751482b910193ff28164781"
      }
     },
     "metadata": {},
     "output_type": "display_data"
    },
    {
     "data": {
      "text/plain": [
       "Least_Sandpiper.tar:   0%|          | 0.00/165M [00:00<?, ?B/s]"
      ],
      "application/vnd.jupyter.widget-view+json": {
       "version_major": 2,
       "version_minor": 0,
       "model_id": "d57852f56778461eac219f5bfd1fd85c"
      }
     },
     "metadata": {},
     "output_type": "display_data"
    },
    {
     "data": {
      "text/plain": [
       "Long_billed_Dowitcher.tar:   0%|          | 0.00/147M [00:00<?, ?B/s]"
      ],
      "application/vnd.jupyter.widget-view+json": {
       "version_major": 2,
       "version_minor": 0,
       "model_id": "cbf70e9b297d4e56b2adb0b68a0a3cbf"
      }
     },
     "metadata": {},
     "output_type": "display_data"
    },
    {
     "data": {
      "text/plain": [
       "Whimbrel.tar:   0%|          | 0.00/162M [00:00<?, ?B/s]"
      ],
      "application/vnd.jupyter.widget-view+json": {
       "version_major": 2,
       "version_minor": 0,
       "model_id": "1b8edaf2f76b4b62813442f43e0eac45"
      }
     },
     "metadata": {},
     "output_type": "display_data"
    },
    {
     "data": {
      "text/plain": [
       "Lesser_Yellowlegs.tar:   0%|          | 0.00/211M [00:00<?, ?B/s]"
      ],
      "application/vnd.jupyter.widget-view+json": {
       "version_major": 2,
       "version_minor": 0,
       "model_id": "aa6885616f794b2e8a7c631d8a3b4751"
      }
     },
     "metadata": {},
     "output_type": "display_data"
    },
    {
     "data": {
      "text/plain": [
       "Willet.tar:   0%|          | 0.00/223M [00:00<?, ?B/s]"
      ],
      "application/vnd.jupyter.widget-view+json": {
       "version_major": 2,
       "version_minor": 0,
       "model_id": "985f8952ef3945109e2c90ad820a8ff0"
      }
     },
     "metadata": {},
     "output_type": "display_data"
    },
    {
     "data": {
      "text/plain": [
       "Short_eared_Owl.tar:   0%|          | 0.00/128M [00:00<?, ?B/s]"
      ],
      "application/vnd.jupyter.widget-view+json": {
       "version_major": 2,
       "version_minor": 0,
       "model_id": "a41ef079fe1141b3a011973339620f38"
      }
     },
     "metadata": {},
     "output_type": "display_data"
    },
    {
     "data": {
      "text/plain": [
       "Long_eared_Owl.tar:   0%|          | 0.00/185M [00:00<?, ?B/s]"
      ],
      "application/vnd.jupyter.widget-view+json": {
       "version_major": 2,
       "version_minor": 0,
       "model_id": "1f4785aa335d43a391e365556b81ba5a"
      }
     },
     "metadata": {},
     "output_type": "display_data"
    },
    {
     "data": {
      "text/plain": [
       "European_Starling.tar:   0%|          | 0.00/176M [00:00<?, ?B/s]"
      ],
      "application/vnd.jupyter.widget-view+json": {
       "version_major": 2,
       "version_minor": 0,
       "model_id": "ad3245ca02074a5da76de19c1f6c39b9"
      }
     },
     "metadata": {},
     "output_type": "display_data"
    },
    {
     "data": {
      "text/plain": [
       "Northern_Gannet.tar:   0%|          | 0.00/158M [00:00<?, ?B/s]"
      ],
      "application/vnd.jupyter.widget-view+json": {
       "version_major": 2,
       "version_minor": 0,
       "model_id": "952b18d130dc48f88b69fab486eafaa0"
      }
     },
     "metadata": {},
     "output_type": "display_data"
    },
    {
     "data": {
      "text/plain": [
       "Glossy_Ibis.tar:   0%|          | 0.00/167M [00:00<?, ?B/s]"
      ],
      "application/vnd.jupyter.widget-view+json": {
       "version_major": 2,
       "version_minor": 0,
       "model_id": "bb38aa1b800f46bb8b1b713f87d56bf1"
      }
     },
     "metadata": {},
     "output_type": "display_data"
    },
    {
     "data": {
      "text/plain": [
       "Hermit_Thrush.tar:   0%|          | 0.00/183M [00:00<?, ?B/s]"
      ],
      "application/vnd.jupyter.widget-view+json": {
       "version_major": 2,
       "version_minor": 0,
       "model_id": "fd0e208dab094797880a7c68947e3696"
      }
     },
     "metadata": {},
     "output_type": "display_data"
    },
    {
     "data": {
      "text/plain": [
       "Gray_cheeked_Thrush.tar:   0%|          | 0.00/57.3M [00:00<?, ?B/s]"
      ],
      "application/vnd.jupyter.widget-view+json": {
       "version_major": 2,
       "version_minor": 0,
       "model_id": "7fcdb4d8baff49bc8f96850a81e1fc8e"
      }
     },
     "metadata": {},
     "output_type": "display_data"
    },
    {
     "data": {
      "text/plain": [
       "Red_eyed_Vireo.tar:   0%|          | 0.00/147M [00:00<?, ?B/s]"
      ],
      "application/vnd.jupyter.widget-view+json": {
       "version_major": 2,
       "version_minor": 0,
       "model_id": "bbacd1c37e634a669a087aaca151853d"
      }
     },
     "metadata": {},
     "output_type": "display_data"
    },
    {
     "name": "stdout",
     "output_type": "stream",
     "text": [
      "Downloaded 100 images\n"
     ]
    }
   ],
   "execution_count": 18
  },
  {
   "metadata": {
    "ExecuteTime": {
     "end_time": "2025-06-04T12:56:49.916070Z",
     "start_time": "2025-06-04T12:56:40.794914Z"
    }
   },
   "cell_type": "code",
   "source": [
    "import tarfile\n",
    "\n",
    "for dirpath, dirnames, filenames in os.walk(birdsnap_download_path / 'images'):\n",
    "    for tar_file in filenames:\n",
    "        with tarfile.open(os.path.join(dirpath, tar_file)) as tar_file_opened:\n",
    "            tar_file_opened.extractall(path=birdsnap_download_path / 'images')\n",
    "        os.remove(os.path.join(dirpath, tar_file))"
   ],
   "id": "edb1392b7f660fb7",
   "outputs": [
    {
     "name": "stderr",
     "output_type": "stream",
     "text": [
      "/var/folders/gk/jchhhjmn1cjcqqp6_jj4crm80000gn/T/ipykernel_12756/3305265377.py:6: DeprecationWarning: Python 3.14 will, by default, filter extracted tar archives and reject files or modify their metadata. Use the filter argument to control this behavior.\n",
      "  tar_file_opened.extractall(path=birdsnap_download_path / 'images')\n"
     ]
    }
   ],
   "execution_count": 19
  },
  {
   "metadata": {},
   "cell_type": "markdown",
   "source": "#### Once the folders are downloaded from the remote repo we must translate the names of the local folders to Italian, this way the labels used for the training (and then for the inference step) will be in Italian",
   "id": "4d711817df6c28d"
  },
  {
   "metadata": {
    "ExecuteTime": {
     "end_time": "2025-06-04T12:58:24.546418Z",
     "start_time": "2025-06-04T12:58:24.543613Z"
    }
   },
   "cell_type": "code",
   "source": "downloaded_species",
   "id": "4fa5f33c0e0e330c",
   "outputs": [
    {
     "data": {
      "text/plain": [
       "['Datasets/BirdSnap/download/images/Northern_Goshawk.tar',\n",
       " 'Datasets/BirdSnap/download/images/Golden_Eagle.tar',\n",
       " 'Datasets/BirdSnap/download/images/Rough_legged_Hawk.tar',\n",
       " 'Datasets/BirdSnap/download/images/Northern_Harrier.tar',\n",
       " 'Datasets/BirdSnap/download/images/Horned_Lark.tar',\n",
       " 'Datasets/BirdSnap/download/images/Common_Murre.tar',\n",
       " 'Datasets/BirdSnap/download/images/Northern_Pintail.tar',\n",
       " 'Datasets/BirdSnap/download/images/Green_winged_Teal.tar',\n",
       " 'Datasets/BirdSnap/download/images/Mallard.tar',\n",
       " 'Datasets/BirdSnap/download/images/Ring_necked_Duck.tar',\n",
       " 'Datasets/BirdSnap/download/images/Greater_Scaup.tar',\n",
       " 'Datasets/BirdSnap/download/images/Common_Goldeneye.tar',\n",
       " 'Datasets/BirdSnap/download/images/Long_tailed_Duck.tar',\n",
       " 'Datasets/BirdSnap/download/images/Harlequin_Duck.tar',\n",
       " 'Datasets/BirdSnap/download/images/White_winged_Scoter.tar',\n",
       " 'Datasets/BirdSnap/download/images/Common_Merganser.tar',\n",
       " 'Datasets/BirdSnap/download/images/Red_breasted_Merganser.tar',\n",
       " 'Datasets/BirdSnap/download/images/Ruddy_Duck.tar',\n",
       " 'Datasets/BirdSnap/download/images/Common_Eider.tar',\n",
       " 'Datasets/BirdSnap/download/images/Greater_White_fronted_Goose.tar',\n",
       " 'Datasets/BirdSnap/download/images/Brant.tar',\n",
       " 'Datasets/BirdSnap/download/images/Canada_Goose.tar',\n",
       " 'Datasets/BirdSnap/download/images/Tundra_Swan.tar',\n",
       " 'Datasets/BirdSnap/download/images/Mute_Swan.tar',\n",
       " 'Datasets/BirdSnap/download/images/Great_Egret.tar',\n",
       " 'Datasets/BirdSnap/download/images/Cattle_Egret.tar',\n",
       " 'Datasets/BirdSnap/download/images/Black_crowned_Night_Heron.tar',\n",
       " 'Datasets/BirdSnap/download/images/Bohemian_Waxwing.tar',\n",
       " 'Datasets/BirdSnap/download/images/Lapland_Longspur.tar',\n",
       " 'Datasets/BirdSnap/download/images/Snow_Bunting.tar',\n",
       " 'Datasets/BirdSnap/download/images/American_Golden_Plover.tar',\n",
       " 'Datasets/BirdSnap/download/images/Pacific_Golden_Plover.tar',\n",
       " 'Datasets/BirdSnap/download/images/Black_bellied_Plover.tar',\n",
       " 'Datasets/BirdSnap/download/images/Rock_Pigeon.tar',\n",
       " 'Datasets/BirdSnap/download/images/Eurasian_Collared_Dove.tar',\n",
       " 'Datasets/BirdSnap/download/images/Common_Raven.tar',\n",
       " 'Datasets/BirdSnap/download/images/Yellow_billed_Cuckoo.tar',\n",
       " 'Datasets/BirdSnap/download/images/Black_billed_Cuckoo.tar',\n",
       " 'Datasets/BirdSnap/download/images/Merlin.tar',\n",
       " 'Datasets/BirdSnap/download/images/Peregrine_Falcon.tar',\n",
       " 'Datasets/BirdSnap/download/images/Common_Redpoll.tar',\n",
       " 'Datasets/BirdSnap/download/images/Red_Crossbill.tar',\n",
       " 'Datasets/BirdSnap/download/images/White_winged_Crossbill.tar',\n",
       " 'Datasets/BirdSnap/download/images/Pine_Grosbeak.tar',\n",
       " 'Datasets/BirdSnap/download/images/Common_Loon.tar',\n",
       " 'Datasets/BirdSnap/download/images/Red_throated_Loon.tar',\n",
       " 'Datasets/BirdSnap/download/images/Barn_Swallow.tar',\n",
       " 'Datasets/BirdSnap/download/images/Bobolink.tar',\n",
       " 'Datasets/BirdSnap/download/images/Northern_Shrike.tar',\n",
       " 'Datasets/BirdSnap/download/images/Herring_Gull.tar',\n",
       " 'Datasets/BirdSnap/download/images/Mew_Gull.tar',\n",
       " 'Datasets/BirdSnap/download/images/Ring_billed_Gull.tar',\n",
       " 'Datasets/BirdSnap/download/images/Iceland_Gull.tar',\n",
       " 'Datasets/BirdSnap/download/images/Glaucous_Gull.tar',\n",
       " 'Datasets/BirdSnap/download/images/Great_Black_backed_Gull.tar',\n",
       " 'Datasets/BirdSnap/download/images/Laughing_Gull.tar',\n",
       " 'Datasets/BirdSnap/download/images/Franklins_Gull.tar',\n",
       " 'Datasets/BirdSnap/download/images/Black_legged_Kittiwake.tar',\n",
       " 'Datasets/BirdSnap/download/images/Black_Tern.tar',\n",
       " 'Datasets/BirdSnap/download/images/Gull_billed_Tern.tar',\n",
       " 'Datasets/BirdSnap/download/images/Caspian_Tern.tar',\n",
       " 'Datasets/BirdSnap/download/images/Roseate_Tern.tar',\n",
       " 'Datasets/BirdSnap/download/images/Common_Tern.tar',\n",
       " 'Datasets/BirdSnap/download/images/Arctic_Tern.tar',\n",
       " 'Datasets/BirdSnap/download/images/Sandwich_Tern.tar',\n",
       " 'Datasets/BirdSnap/download/images/American_Pipit.tar',\n",
       " 'Datasets/BirdSnap/download/images/Northern_Bobwhite.tar',\n",
       " 'Datasets/BirdSnap/download/images/Osprey.tar',\n",
       " 'Datasets/BirdSnap/download/images/House_Sparrow.tar',\n",
       " 'Datasets/BirdSnap/download/images/Great_Cormorant.tar',\n",
       " 'Datasets/BirdSnap/download/images/Ring_necked_Pheasant.tar',\n",
       " 'Datasets/BirdSnap/download/images/Rock_Ptarmigan.tar',\n",
       " 'Datasets/BirdSnap/download/images/Horned_Grebe.tar',\n",
       " 'Datasets/BirdSnap/download/images/Red_necked_Grebe.tar',\n",
       " 'Datasets/BirdSnap/download/images/Monk_Parakeet.tar',\n",
       " 'Datasets/BirdSnap/download/images/Red_Phalarope.tar',\n",
       " 'Datasets/BirdSnap/download/images/Red_necked_Phalarope.tar',\n",
       " 'Datasets/BirdSnap/download/images/Wilsons_Phalarope.tar',\n",
       " 'Datasets/BirdSnap/download/images/Ruddy_Turnstone.tar',\n",
       " 'Datasets/BirdSnap/download/images/Upland_Sandpiper.tar',\n",
       " 'Datasets/BirdSnap/download/images/Sanderling.tar',\n",
       " 'Datasets/BirdSnap/download/images/Dunlin.tar',\n",
       " 'Datasets/BirdSnap/download/images/Bairds_Sandpiper.tar',\n",
       " 'Datasets/BirdSnap/download/images/Red_Knot.tar',\n",
       " 'Datasets/BirdSnap/download/images/White_rumped_Sandpiper.tar',\n",
       " 'Datasets/BirdSnap/download/images/Purple_Sandpiper.tar',\n",
       " 'Datasets/BirdSnap/download/images/Pectoral_Sandpiper.tar',\n",
       " 'Datasets/BirdSnap/download/images/Least_Sandpiper.tar',\n",
       " 'Datasets/BirdSnap/download/images/Long_billed_Dowitcher.tar',\n",
       " 'Datasets/BirdSnap/download/images/Whimbrel.tar',\n",
       " 'Datasets/BirdSnap/download/images/Lesser_Yellowlegs.tar',\n",
       " 'Datasets/BirdSnap/download/images/Willet.tar',\n",
       " 'Datasets/BirdSnap/download/images/Short_eared_Owl.tar',\n",
       " 'Datasets/BirdSnap/download/images/Long_eared_Owl.tar',\n",
       " 'Datasets/BirdSnap/download/images/European_Starling.tar',\n",
       " 'Datasets/BirdSnap/download/images/Northern_Gannet.tar',\n",
       " 'Datasets/BirdSnap/download/images/Glossy_Ibis.tar',\n",
       " 'Datasets/BirdSnap/download/images/Hermit_Thrush.tar',\n",
       " 'Datasets/BirdSnap/download/images/Gray_cheeked_Thrush.tar',\n",
       " 'Datasets/BirdSnap/download/images/Red_eyed_Vireo.tar']"
      ]
     },
     "execution_count": 22,
     "metadata": {},
     "output_type": "execute_result"
    }
   ],
   "execution_count": 22
  },
  {
   "metadata": {
    "ExecuteTime": {
     "end_time": "2025-06-04T12:59:47.960405Z",
     "start_time": "2025-06-04T12:59:47.943215Z"
    }
   },
   "cell_type": "code",
   "source": [
    "#opens the database of species which gives the italian and scientific name of a bird identified by its english common name\n",
    "with open(ENG_ITA_NAMES, 'r') as names_dict:\n",
    "    eng_ita_names = json.load(names_dict)\n",
    "\n",
    "for index, folder_name in enumerate(downloaded_species):\n",
    "    try:\n",
    "        folder_name = pathlib.Path(folder_name).name.split('.')[0]\n",
    "        ita_name = eng_ita_names[folder_name]['italian']\n",
    "        print(f'{index} | {folder_name} ---> {ita_name}')\n",
    "        if os.path.isdir(birdsnap_download_path / 'images' / folder_name):\n",
    "            os.rename(birdsnap_download_path / 'images' / folder_name, birdsnap_download_path / 'images' / ita_name)\n",
    "    except KeyError:\n",
    "        print(f'No italian birds found for {folder_name}')\n",
    "        continue"
   ],
   "id": "497f565d00f05c5b",
   "outputs": [
    {
     "name": "stdout",
     "output_type": "stream",
     "text": [
      "Northern_Goshawk\n",
      "0 | Northern_Goshawk ---> Astore\n",
      "Golden_Eagle\n",
      "1 | Golden_Eagle ---> Aquila reale\n",
      "Rough_legged_Hawk\n",
      "2 | Rough_legged_Hawk ---> Albanella codabianca\n",
      "Northern_Harrier\n",
      "3 | Northern_Harrier ---> Albanella reale\n",
      "Horned_Lark\n",
      "4 | Horned_Lark ---> Allodola golagialla\n",
      "Common_Murre\n",
      "5 | Common_Murre ---> Uria comune\n",
      "Northern_Pintail\n",
      "6 | Northern_Pintail ---> Codone\n",
      "Green_winged_Teal\n",
      "7 | Green_winged_Teal ---> Alzavola americana\n",
      "Mallard\n",
      "8 | Mallard ---> Germano reale\n",
      "Ring_necked_Duck\n",
      "9 | Ring_necked_Duck ---> Moretta anello\n",
      "Greater_Scaup\n",
      "10 | Greater_Scaup ---> Moretta grigia\n",
      "Common_Goldeneye\n",
      "11 | Common_Goldeneye ---> Quattrocchi comune\n",
      "Long_tailed_Duck\n",
      "12 | Long_tailed_Duck ---> Moretta codona\n",
      "Harlequin_Duck\n",
      "13 | Harlequin_Duck ---> Anatra arlecchino\n",
      "White_winged_Scoter\n",
      "14 | White_winged_Scoter ---> Moretta ali bianche\n",
      "Common_Merganser\n",
      "15 | Common_Merganser ---> Smergo maggiore\n",
      "Red_breasted_Merganser\n",
      "16 | Red_breasted_Merganser ---> Smergo minore\n",
      "Ruddy_Duck\n",
      "17 | Ruddy_Duck ---> Moretta americana\n",
      "Common_Eider\n",
      "18 | Common_Eider ---> Edredone comune\n",
      "Greater_White_fronted_Goose\n",
      "19 | Greater_White_fronted_Goose ---> Oca lombardella\n",
      "Brant\n",
      "20 | Brant ---> Oca colombaccio\n",
      "Canada_Goose\n",
      "21 | Canada_Goose ---> Oca canadese\n",
      "Tundra_Swan\n",
      "22 | Tundra_Swan ---> Cigno siberiano\n",
      "Mute_Swan\n",
      "23 | Mute_Swan ---> Cigno reale\n",
      "Great_Egret\n",
      "24 | Great_Egret ---> Airone bianco maggiore\n",
      "Cattle_Egret\n",
      "25 | Cattle_Egret ---> Airone guardabuoi\n",
      "Black_crowned_Night_Heron\n",
      "26 | Black_crowned_Night_Heron ---> Nitticora\n",
      "Bohemian_Waxwing\n",
      "27 | Bohemian_Waxwing ---> Beccofrusone boreale\n",
      "Lapland_Longspur\n",
      "28 | Lapland_Longspur ---> Calcabasso lapponico\n",
      "Snow_Bunting\n",
      "29 | Snow_Bunting ---> Piviere delle nevi\n",
      "American_Golden_Plover\n",
      "30 | American_Golden_Plover ---> Piviere dorato americano\n",
      "Pacific_Golden_Plover\n",
      "31 | Pacific_Golden_Plover ---> Piviere dorato del Pacifico\n",
      "Black_bellied_Plover\n",
      "32 | Black_bellied_Plover ---> Piviere panciabianca\n",
      "Rock_Pigeon\n",
      "33 | Rock_Pigeon ---> Piccione selvatico\n",
      "Eurasian_Collared_Dove\n",
      "34 | Eurasian_Collared_Dove ---> Tortora dal collare\n",
      "Common_Raven\n",
      "35 | Common_Raven ---> Corvo imperiale\n",
      "Yellow_billed_Cuckoo\n",
      "36 | Yellow_billed_Cuckoo ---> Cuculo beccogiallo\n",
      "Black_billed_Cuckoo\n",
      "37 | Black_billed_Cuckoo ---> Cuculo beccosottile\n",
      "Merlin\n",
      "38 | Merlin ---> Smeriglio\n",
      "Peregrine_Falcon\n",
      "39 | Peregrine_Falcon ---> Falco pellegrino\n",
      "Common_Redpoll\n",
      "40 | Common_Redpoll ---> Venturone artico\n",
      "Red_Crossbill\n",
      "41 | Red_Crossbill ---> Crociere\n",
      "White_winged_Crossbill\n",
      "42 | White_winged_Crossbill ---> Crociere ali bianche\n",
      "Pine_Grosbeak\n",
      "43 | Pine_Grosbeak ---> Beccogrosso di pini\n",
      "Common_Loon\n",
      "44 | Common_Loon ---> Strolaga maggiore\n",
      "Red_throated_Loon\n",
      "45 | Red_throated_Loon ---> Strolaga minore\n",
      "Barn_Swallow\n",
      "46 | Barn_Swallow ---> Rondine comune\n",
      "Bobolink\n",
      "47 | Bobolink ---> Dolichonice americano\n",
      "Northern_Shrike\n",
      "48 | Northern_Shrike ---> Averla maggiore americana\n",
      "Herring_Gull\n",
      "49 | Herring_Gull ---> Gabbiano reale americano\n",
      "Mew_Gull\n",
      "50 | Mew_Gull ---> Gabbiano mezzano\n",
      "Ring_billed_Gull\n",
      "51 | Ring_billed_Gull ---> Gabbiano beccorosso\n",
      "Iceland_Gull\n",
      "52 | Iceland_Gull ---> Gabbiano d’Islanda\n",
      "Glaucous_Gull\n",
      "53 | Glaucous_Gull ---> Gabbiano glauco\n",
      "Great_Black_backed_Gull\n",
      "54 | Great_Black_backed_Gull ---> Gabbiano reale nordico\n",
      "Laughing_Gull\n",
      "55 | Laughing_Gull ---> Gabbiano ridens\n",
      "Franklins_Gull\n",
      "56 | Franklins_Gull ---> Gabbiano di Franklin\n",
      "Black_legged_Kittiwake\n",
      "57 | Black_legged_Kittiwake ---> Gabbiano tridattilo\n",
      "Black_Tern\n",
      "58 | Black_Tern ---> Sterna nera\n",
      "Gull_billed_Tern\n",
      "59 | Gull_billed_Tern ---> Sterna beccogrosso\n",
      "Caspian_Tern\n",
      "60 | Caspian_Tern ---> Sterna reale\n",
      "Roseate_Tern\n",
      "61 | Roseate_Tern ---> Sterna rosata\n",
      "Common_Tern\n",
      "62 | Common_Tern ---> Sterna comune\n",
      "Arctic_Tern\n",
      "63 | Arctic_Tern ---> Sterna artica\n",
      "Sandwich_Tern\n",
      "64 | Sandwich_Tern ---> Sterna beccolunga\n",
      "American_Pipit\n",
      "65 | American_Pipit ---> Spioncello americano\n",
      "Northern_Bobwhite\n",
      "66 | Northern_Bobwhite ---> Colinus della Virginia\n",
      "Osprey\n",
      "67 | Osprey ---> Falco pescatore\n",
      "House_Sparrow\n",
      "68 | House_Sparrow ---> Passero domestico\n",
      "Great_Cormorant\n",
      "69 | Great_Cormorant ---> Cormorano\n",
      "Ring_necked_Pheasant\n",
      "70 | Ring_necked_Pheasant ---> Fagiano di monte\n",
      "Rock_Ptarmigan\n",
      "71 | Rock_Ptarmigan ---> Coturnice delle rocce\n",
      "Horned_Grebe\n",
      "72 | Horned_Grebe ---> Svasso cornut\n",
      "Red_necked_Grebe\n",
      "73 | Red_necked_Grebe ---> Svasso collorosso\n",
      "Monk_Parakeet\n",
      "74 | Monk_Parakeet ---> Parrocchetto monaco\n",
      "Red_Phalarope\n",
      "75 | Red_Phalarope ---> Falco pettorale rosso\n",
      "Red_necked_Phalarope\n",
      "76 | Red_necked_Phalarope ---> Falco pettorale collorosso\n",
      "Wilsons_Phalarope\n",
      "77 | Wilsons_Phalarope ---> Falco di Wilson\n",
      "Ruddy_Turnstone\n",
      "78 | Ruddy_Turnstone ---> Voltapietre\n",
      "Upland_Sandpiper\n",
      "79 | Upland_Sandpiper ---> Piro piro codalunga\n",
      "Sanderling\n",
      "80 | Sanderling ---> Piovanello sabbioso\n",
      "Dunlin\n",
      "81 | Dunlin ---> Piovanello pancianera\n",
      "Bairds_Sandpiper\n",
      "82 | Bairds_Sandpiper ---> Gambecchio di Baird\n",
      "Red_Knot\n",
      "83 | Red_Knot ---> Piovanello maggiore\n",
      "White_rumped_Sandpiper\n",
      "84 | White_rumped_Sandpiper ---> Gambecchio di Bonaparte\n",
      "Purple_Sandpiper\n",
      "85 | Purple_Sandpiper ---> Piovanello viola\n",
      "Pectoral_Sandpiper\n",
      "86 | Pectoral_Sandpiper ---> Piro pettorale\n",
      "Least_Sandpiper\n",
      "87 | Least_Sandpiper ---> Piro piccolo\n",
      "Long_billed_Dowitcher\n",
      "88 | Long_billed_Dowitcher ---> Beccaccino beccolungo\n",
      "Whimbrel\n",
      "89 | Whimbrel ---> Pettegola\n",
      "Lesser_Yellowlegs\n",
      "90 | Lesser_Yellowlegs ---> Piro pettegola minore\n",
      "Willet\n",
      "91 | Willet ---> Piro prio semipalmato \n",
      "Short_eared_Owl\n",
      "92 | Short_eared_Owl ---> Allocco delle paludi\n",
      "Long_eared_Owl\n",
      "93 | Long_eared_Owl ---> Gufo di palude\n",
      "European_Starling\n",
      "94 | European_Starling ---> Storno\n",
      "Northern_Gannet\n",
      "95 | Northern_Gannet ---> Sula bassana\n",
      "Glossy_Ibis\n",
      "96 | Glossy_Ibis ---> Mignattaio\n",
      "Hermit_Thrush\n",
      "97 | Hermit_Thrush ---> Tordo eremita\n",
      "Gray_cheeked_Thrush\n",
      "No italian birds found for Gray_cheeked_Thrush\n",
      "Red_eyed_Vireo\n",
      "99 | Red_eyed_Vireo ---> Vireo dagli occhi rossi\n"
     ]
    }
   ],
   "execution_count": 24
  },
  {
   "metadata": {
    "ExecuteTime": {
     "end_time": "2025-06-04T13:00:11.348321Z",
     "start_time": "2025-06-04T13:00:10.697752Z"
    }
   },
   "cell_type": "code",
   "source": [
    "utilities.create_train_cv_from_folder(\n",
    "    root=BIRDSNAP_DATASET_PATH/'download/images',\n",
    "    train_cv_perc=0.9,\n",
    "    train_folder=DATASET_TRAIN_FOLDER,\n",
    "    cv_folder=DATASET_TEST_FOLDER,\n",
    "    \n",
    ")"
   ],
   "id": "92be9d46eb1e6260",
   "outputs": [
    {
     "name": "stdout",
     "output_type": "stream",
     "text": [
      "Working on images | Moving 0 pictures\n",
      "Working on Moretta americana | Moving 89 pictures\n",
      "Working on Allodola golagialla | Moving 92 pictures\n",
      "Working on Piro piccolo | Moving 97 pictures\n",
      "Working on Astore | Moving 91 pictures\n",
      "Working on Aquila reale | Moving 88 pictures\n",
      "Working on Smeriglio | Moving 94 pictures\n",
      "Working on Cuculo beccogiallo | Moving 89 pictures\n",
      "Working on Gabbiano tridattilo | Moving 77 pictures\n",
      "Working on Gabbiano reale nordico | Moving 69 pictures\n",
      "Working on Airone bianco maggiore | Moving 89 pictures\n",
      "Working on Passero domestico | Moving 87 pictures\n",
      "Working on Sterna reale | Moving 73 pictures\n",
      "Working on Piviere panciabianca | Moving 90 pictures\n",
      "Working on Albanella codabianca | Moving 89 pictures\n",
      "Working on Tordo eremita | Moving 94 pictures\n",
      "Working on Piovanello viola | Moving 86 pictures\n",
      "Working on Gabbiano glauco | Moving 85 pictures\n",
      "Working on Averla maggiore americana | Moving 83 pictures\n",
      "Working on Cigno siberiano | Moving 67 pictures\n",
      "Working on Strolaga minore | Moving 84 pictures\n",
      "Working on Crociere ali bianche | Moving 76 pictures\n",
      "Working on Vireo dagli occhi rossi | Moving 95 pictures\n",
      "Working on Moretta grigia | Moving 85 pictures\n",
      "Working on Piro pettorale | Moving 78 pictures\n",
      "Working on Spioncello americano | Moving 92 pictures\n",
      "Working on Gabbiano mezzano | Moving 89 pictures\n",
      "Working on Anatra arlecchino | Moving 64 pictures\n",
      "Working on Piovanello sabbioso | Moving 77 pictures\n",
      "Working on Piro pettegola minore | Moving 90 pictures\n",
      "Working on Svasso collorosso | Moving 87 pictures\n",
      "Working on Mignattaio | Moving 88 pictures\n",
      "Working on Moretta codona | Moving 89 pictures\n",
      "Working on Gabbiano beccorosso | Moving 91 pictures\n",
      "Working on Colinus della Virginia | Moving 74 pictures\n",
      "Working on Cuculo beccosottile | Moving 69 pictures\n",
      "Working on Gabbiano d’Islanda | Moving 73 pictures\n",
      "Working on Voltapietre | Moving 88 pictures\n",
      "Working on Sterna beccolunga | Moving 83 pictures\n",
      "Working on Gray_cheeked_Thrush | Moving 71 pictures\n",
      "Working on Piccione selvatico | Moving 90 pictures\n",
      "Working on Edredone comune | Moving 87 pictures\n",
      "Working on Tortora dal collare | Moving 91 pictures\n",
      "Working on Crociere | Moving 70 pictures\n",
      "Working on Uria comune | Moving 74 pictures\n",
      "Working on Falco pettorale collorosso | Moving 88 pictures\n",
      "Working on Moretta anello | Moving 83 pictures\n",
      "Working on Sterna comune | Moving 86 pictures\n",
      "Working on Gambecchio di Baird | Moving 84 pictures\n",
      "Working on Piro prio semipalmato  | Moving 90 pictures\n",
      "Working on Oca lombardella | Moving 79 pictures\n",
      "Working on Venturone artico | Moving 76 pictures\n",
      "Working on Sterna nera | Moving 74 pictures\n",
      "Working on Piviere dorato del Pacifico | Moving 91 pictures\n",
      "Working on Beccaccino beccolungo | Moving 81 pictures\n",
      "Working on Falco pellegrino | Moving 61 pictures\n",
      "Working on Pettegola | Moving 91 pictures\n",
      "Working on Quattrocchi comune | Moving 88 pictures\n",
      "Working on Piovanello pancianera | Moving 94 pictures\n",
      "Working on Falco pescatore | Moving 85 pictures\n",
      "Working on Piovanello maggiore | Moving 67 pictures\n",
      "Working on Sterna artica | Moving 84 pictures\n",
      "Working on Fagiano di monte | Moving 90 pictures\n",
      "Working on Storno | Moving 87 pictures\n",
      "Working on Gabbiano di Franklin | Moving 71 pictures\n",
      "Working on Corvo imperiale | Moving 81 pictures\n",
      "Working on Coturnice delle rocce | Moving 79 pictures\n",
      "Working on Oca colombaccio | Moving 81 pictures\n",
      "Working on Strolaga maggiore | Moving 92 pictures\n",
      "Working on Allocco delle paludi | Moving 72 pictures\n",
      "Working on Airone guardabuoi | Moving 87 pictures\n",
      "Working on Svasso cornut | Moving 92 pictures\n",
      "Working on Albanella reale | Moving 88 pictures\n",
      "Working on Falco di Wilson | Moving 88 pictures\n",
      "Working on Dolichonice americano | Moving 87 pictures\n",
      "Working on Nitticora | Moving 88 pictures\n",
      "Working on Sula bassana | Moving 83 pictures\n",
      "Working on Oca canadese | Moving 81 pictures\n",
      "Working on Smergo minore | Moving 87 pictures\n",
      "Working on Moretta ali bianche | Moving 84 pictures\n",
      "Working on Falco pettorale rosso | Moving 81 pictures\n",
      "Working on Piviere dorato americano | Moving 85 pictures\n",
      "Working on Sterna beccogrosso | Moving 71 pictures\n",
      "Working on Codone | Moving 91 pictures\n",
      "Working on Sterna rosata | Moving 67 pictures\n",
      "Working on Alzavola americana | Moving 77 pictures\n",
      "Working on Piro piro codalunga | Moving 73 pictures\n",
      "Working on Cigno reale | Moving 74 pictures\n",
      "Working on Cormorano | Moving 73 pictures\n",
      "Working on Gambecchio di Bonaparte | Moving 68 pictures\n",
      "Working on Piviere delle nevi | Moving 78 pictures\n",
      "Working on Beccogrosso di pini | Moving 86 pictures\n",
      "Working on Parrocchetto monaco | Moving 91 pictures\n",
      "Working on Gabbiano reale americano | Moving 82 pictures\n",
      "Working on Smergo maggiore | Moving 91 pictures\n",
      "Working on Gufo di palude | Moving 86 pictures\n",
      "Working on Beccofrusone boreale | Moving 69 pictures\n",
      "Working on Rondine comune | Moving 84 pictures\n",
      "Working on Germano reale | Moving 80 pictures\n",
      "Working on Gabbiano ridens | Moving 88 pictures\n",
      "Working on Calcabasso lapponico | Moving 80 pictures\n"
     ]
    }
   ],
   "execution_count": 25
  },
  {
   "metadata": {},
   "cell_type": "code",
   "source": "",
   "id": "e89c53e54edef802",
   "outputs": [],
   "execution_count": null
  }
 ],
 "metadata": {
  "kernelspec": {
   "display_name": "Python 3",
   "language": "python",
   "name": "python3"
  },
  "language_info": {
   "codemirror_mode": {
    "name": "ipython",
    "version": 2
   },
   "file_extension": ".py",
   "mimetype": "text/x-python",
   "name": "python",
   "nbconvert_exporter": "python",
   "pygments_lexer": "ipython2",
   "version": "2.7.6"
  }
 },
 "nbformat": 4,
 "nbformat_minor": 5
}
