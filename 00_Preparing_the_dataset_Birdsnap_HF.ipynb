{
 "cells": [
  {
   "metadata": {},
   "cell_type": "markdown",
   "source": "# 0. Importing the libraries needed for the dataset preparation task",
   "id": "7235ee65351c7137"
  },
  {
   "metadata": {
    "ExecuteTime": {
     "end_time": "2025-05-26T15:31:32.885454Z",
     "start_time": "2025-05-26T15:31:31.189444Z"
    }
   },
   "cell_type": "code",
   "source": [
    "import os\n",
    "import pathlib\n",
    "import shutil\n",
    "import pandas as pd\n",
    "import random\n",
    "import requests\n",
    "import time\n",
    "import os\n",
    "from tqdm import tqdm\n",
    "from torchvision.datasets import ImageFolder\n",
    "from torch.utils.data import DataLoader\n",
    "import json\n",
    "\n",
    "#this is the library \n",
    "try:\n",
    "    from scripts import model_setup\n",
    "    from scripts import utilities\n",
    "except ImportError:\n",
    "    !git clone https://github.com/thomaspierantozzi/PyTorch_Course_by_Daniel_Bourke\n",
    "    !mv PyTorch_Course_by_Daniel_Bourke/05_PyTorch_Food101/scripts/ .\n",
    "    !rm -rf ./PyTorch_Course_by_Daniel_Bourke\n",
    "    from scripts import model_setup\n",
    "    from scripts import utilities\n",
    "\n"
   ],
   "id": "2259c3df631a1444",
   "outputs": [],
   "execution_count": 1
  },
  {
   "metadata": {},
   "cell_type": "markdown",
   "source": [
    "####Here under we create an ImageFolder folder, and we base its structure on the DataSetFolder from Torchvision documentation: [here](https://docs.pytorch.org/vision/main/generated/torchvision.datasets.DatasetFolder.html)\n",
    "\n",
    "![Folder structure](https://github.com/thomaspierantozzi/Project_SARA/raw/main/Notebook_pictures/DataSetFolder_Structure.png)"
   ],
   "id": "a4851219855009fd"
  },
  {
   "metadata": {
    "ExecuteTime": {
     "end_time": "2025-05-26T15:31:32.888039Z",
     "start_time": "2025-05-26T15:31:32.886335Z"
    }
   },
   "cell_type": "code",
   "source": [
    "#CONSTANTS AND GENERAL CONFIGURATION FOR THE SCRIPT\n",
    "IMAGEFOLDER = pathlib.Path('./ImageFolder') #a folder which will be used as a base for the DataSet at training time\n",
    "DATASET_TRAIN_FOLDER = IMAGEFOLDER / 'train'\n",
    "DATASET_TEST_FOLDER = IMAGEFOLDER / 'cv'\n",
    "\n",
    "if not IMAGEFOLDER.exists():\n",
    "    os.mkdir(IMAGEFOLDER)\n",
    "    os.makedirs(DATASET_TRAIN_FOLDER, exist_ok=True)\n",
    "    os.makedirs(DATASET_TEST_FOLDER, exist_ok=True)\n",
    "    print('Created the base folders for the ImageFolder requested tree...')"
   ],
   "id": "450fffbaf0751fbd",
   "outputs": [],
   "execution_count": 2
  },
  {
   "metadata": {},
   "cell_type": "markdown",
   "source": [
    "# 1. BirdSnap Dataset\n",
    "<img src='https://github.com/thomaspierantozzi/Project_SARA/raw/main/Notebook_pictures/Dataset_Flusso.png' height=400>"
   ],
   "id": "fdc514e3aebec95f"
  },
  {
   "metadata": {},
   "cell_type": "markdown",
   "source": [
    "### 1.a Sorting the dataset content\n",
    "#### HuggingFace holds a repo of the dataset called Birdsnap, which can be a great resource for our goal. \n",
    "#### We will use this repo [here](https://huggingface.co/datasets/HuggingFaceM4/Birdsnap/tree/main) by SaulLu to download the data later on\n",
    "#### Anyway a good resource to start collecting the species in the dataset is this file [here](https://huggingface.co/datasets/sasha/birdsnap/blob/main/species.txt) found in [this](https://huggingface.co/datasets/sasha/birdsnap) repo"
   ],
   "id": "927a577c840865dd"
  },
  {
   "metadata": {
    "ExecuteTime": {
     "end_time": "2025-05-26T15:31:32.892251Z",
     "start_time": "2025-05-26T15:31:32.888610Z"
    }
   },
   "cell_type": "code",
   "source": [
    "BIRDSNAP_DATASET_PATH = pathlib.Path('./Datasets/BirdSnap')\n",
    "\n",
    "birdsnap_species = {} #initializing a dict to hold the common and scientific names of the Birdsnap classes\n",
    "\n",
    "list_of_lowercase = [\n",
    "    'Necked',\n",
    "    'Winged',\n",
    "    'Breasted',\n",
    "    'Legged',\n",
    "    'Tailed',\n",
    "    'Fronted',\n",
    "    'Crowned',\n",
    "    'Bellied',\n",
    "    'Billed',\n",
    "    'Throated',\n",
    "    'Backed',\n",
    "    'Rumped',\n",
    "    'Eared',\n",
    "    'Cheeked',\n",
    "    'Eyed'\n",
    "]\n",
    "\n",
    "counter = 0\n",
    "with open(f'{BIRDSNAP_DATASET_PATH}/species.txt', 'r') as images_text_file:\n",
    "    for line in images_text_file.readlines():\n",
    "        words = line.split(sep='\\t')\n",
    "        common_name_formatted = words[1].title()\n",
    "        common_name_formatted = common_name_formatted.replace(\"\\'S\", \"s\").replace(' ', '_').replace('-', '_')\n",
    "        for word_to_lowercase in list_of_lowercase:\n",
    "            if word_to_lowercase in common_name_formatted:\n",
    "                print(common_name_formatted, end=' -> ')\n",
    "                common_name_formatted = common_name_formatted.replace(word_to_lowercase, word_to_lowercase.lower())\n",
    "                print(common_name_formatted)\n",
    "            \n",
    "#        common_name_formatted = common_name_formatted.lower()\n",
    "        birdsnap_species[words[2]] = common_name_formatted\n",
    "\n",
    "birdsnap_species.pop('scientific') #to remove the data collected in the header of the csv\n",
    "\n",
    "print(f'The system found {len(birdsnap_species)} birdsnap classes')"
   ],
   "id": "b91b6f37ba166ea",
   "outputs": [
    {
     "name": "stdout",
     "output_type": "stream",
     "text": [
      "White_Tailed_Hawk -> White_tailed_Hawk\n",
      "Zone_Tailed_Hawk -> Zone_tailed_Hawk\n",
      "Red_Tailed_Hawk -> Red_tailed_Hawk\n",
      "Rough_Legged_Hawk -> Rough_legged_Hawk\n",
      "Broad_Winged_Hawk -> Broad_winged_Hawk\n",
      "Swallow_Tailed_Kite -> Swallow_tailed_Kite\n",
      "White_Tailed_Kite -> White_tailed_Kite\n",
      "Green_Winged_Teal -> Green_winged_Teal\n",
      "Blue_Winged_Teal -> Blue_winged_Teal\n",
      "Ring_Necked_Duck -> Ring_necked_Duck\n",
      "Long_Tailed_Duck -> Long_tailed_Duck\n",
      "White_Winged_Scoter -> White_winged_Scoter\n",
      "Red_Breasted_Merganser -> Red_breasted_Merganser\n",
      "Greater_White_Fronted_Goose -> Greater_White_fronted_Goose\n",
      "White_Throated_Swift -> White_throated_Swift\n",
      "Yellow_Crowned_Night_Heron -> Yellow_crowned_Night_Heron\n",
      "Black_Crowned_Night_Heron -> Black_crowned_Night_Heron\n",
      "Rose_Breasted_Grosbeak -> Rose_breasted_Grosbeak\n",
      "Black_Bellied_Plover -> Black_bellied_Plover\n",
      "Band_Tailed_Pigeon -> Band_tailed_Pigeon\n",
      "White_Winged_Dove -> White_winged_Dove\n",
      "Black_Billed_Magpie -> Black_billed_Magpie\n",
      "Yellow_Billed_Magpie -> Yellow_billed_Magpie\n",
      "Groove_Billed_Ani -> Groove_billed_Ani\n",
      "Yellow_Billed_Cuckoo -> Yellow_billed_Cuckoo\n",
      "Black_Billed_Cuckoo -> Black_billed_Cuckoo\n",
      "Rufous_Crowned_Sparrow -> Rufous_crowned_Sparrow\n",
      "Black_Throated_Sparrow -> Black_throated_Sparrow\n",
      "Dark_Eyed_Junco -> Dark_eyed_Junco\n",
      "Yellow_Eyed_Junco -> Yellow_eyed_Junco\n",
      "Green_Tailed_Towhee -> Green_tailed_Towhee\n",
      "White_Throated_Sparrow -> White_throated_Sparrow\n",
      "Golden_Crowned_Sparrow -> Golden_crowned_Sparrow\n",
      "White_Crowned_Sparrow -> White_crowned_Sparrow\n",
      "Gray_Crowned_Rosy_Finch -> Gray_crowned_Rosy_Finch\n",
      "White_Winged_Crossbill -> White_winged_Crossbill\n",
      "Red_Throated_Loon -> Red_throated_Loon\n",
      "Northern_Rough_Winged_Swallow -> Northern_Rough_winged_Swallow\n",
      "Red_Winged_Blackbird -> Red_winged_Blackbird\n",
      "Boat_Tailed_Grackle -> Boat_tailed_Grackle\n",
      "Great_Tailed_Grackle -> Great_tailed_Grackle\n",
      "Ring_Billed_Gull -> Ring_billed_Gull\n",
      "Glaucous_Winged_Gull -> Glaucous_winged_Gull\n",
      "Great_Black_Backed_Gull -> Great_Black_backed_Gull\n",
      "Black_Legged_Kittiwake -> Black_legged_Kittiwake\n",
      "Gull_Billed_Tern -> Gull_billed_Tern\n",
      "Curve_Billed_Thrasher -> Curve_billed_Thrasher\n",
      "Long_Billed_Thrasher -> Long_billed_Thrasher\n",
      "Chestnut_Backed_Chickadee -> Chestnut_backed_Chickadee\n",
      "Yellow_Breasted_Chat -> Yellow_breasted_Chat\n",
      "Orange_Crowned_Warbler -> Orange_crowned_Warbler\n",
      "Black_Throated_Blue_Warbler -> Black_throated_Blue_Warbler\n",
      "Bay_Breasted_Warbler -> Bay_breasted_Warbler\n",
      "Yellow_Rumped_Warbler -> Yellow_rumped_Warbler\n",
      "Yellow_Throated_Warbler -> Yellow_throated_Warbler\n",
      "Black_Throated_Gray_Warbler -> Black_throated_Gray_Warbler\n",
      "Black_Throated_Green_Warbler -> Black_throated_Green_Warbler\n",
      "Golden_Winged_Warbler -> Golden_winged_Warbler\n",
      "Blue_Winged_Warbler -> Blue_winged_Warbler\n",
      "Ring_Necked_Pheasant -> Ring_necked_Pheasant\n",
      "White_Tailed_Ptarmigan -> White_tailed_Ptarmigan\n",
      "Sharp_Tailed_Grouse -> Sharp_tailed_Grouse\n",
      "Golden_Fronted_Woodpecker -> Golden_fronted_Woodpecker\n",
      "Red_Bellied_Woodpecker -> Red_bellied_Woodpecker\n",
      "Black_Backed_Woodpecker -> Black_backed_Woodpecker\n",
      "Ladder_Backed_Woodpecker -> Ladder_backed_Woodpecker\n",
      "Red_Breasted_Sapsucker -> Red_breasted_Sapsucker\n",
      "Yellow_Bellied_Sapsucker -> Yellow_bellied_Sapsucker\n",
      "Red_Necked_Grebe -> Red_necked_Grebe\n",
      "Eared_Grebe -> eared_Grebe\n",
      "Pied_Billed_Grebe -> Pied_billed_Grebe\n",
      "Black_Necked_Stilt -> Black_necked_Stilt\n",
      "Ruby_Crowned_Kinglet -> Ruby_crowned_Kinglet\n",
      "Golden_Crowned_Kinglet -> Golden_crowned_Kinglet\n",
      "Red_Necked_Phalarope -> Red_necked_Phalarope\n",
      "White_Rumped_Sandpiper -> White_rumped_Sandpiper\n",
      "Short_Billed_Dowitcher -> Short_billed_Dowitcher\n",
      "Long_Billed_Dowitcher -> Long_billed_Dowitcher\n",
      "Long_Billed_Curlew -> Long_billed_Curlew\n",
      "Red_Breasted_Nuthatch -> Red_breasted_Nuthatch\n",
      "White_Breasted_Nuthatch -> White_breasted_Nuthatch\n",
      "Short_Eared_Owl -> Short_eared_Owl\n",
      "Long_Eared_Owl -> Long_eared_Owl\n",
      "Ruby_Throated_Hummingbird -> Ruby_throated_Hummingbird\n",
      "Broad_Billed_Hummingbird -> Broad_billed_Hummingbird\n",
      "Broad_Tailed_Hummingbird -> Broad_tailed_Hummingbird\n",
      "Yellow_Bellied_Flycatcher -> Yellow_bellied_Flycatcher\n",
      "Ash_Throated_Flycatcher -> Ash_throated_Flycatcher\n",
      "Scissor_Tailed_Flycatcher -> Scissor_tailed_Flycatcher\n",
      "Yellow_Throated_Vireo -> Yellow_throated_Vireo\n",
      "White_Eyed_Vireo -> White_eyed_Vireo\n",
      "Red_Eyed_Vireo -> Red_eyed_Vireo\n",
      "The system found 500 birdsnap classes\n"
     ]
    }
   ],
   "execution_count": 3
  },
  {
   "metadata": {
    "ExecuteTime": {
     "end_time": "2025-05-26T15:31:32.897879Z",
     "start_time": "2025-05-26T15:31:32.892770Z"
    }
   },
   "cell_type": "code",
   "source": "birdsnap_species",
   "id": "bdfc551d3f62f5b6",
   "outputs": [
    {
     "data": {
      "text/plain": [
       "{'Accipiter cooperii': 'Coopers_Hawk',\n",
       " 'Accipiter gentilis': 'Northern_Goshawk',\n",
       " 'Accipiter striatus': 'Sharp_Shinned_Hawk',\n",
       " 'Aquila chrysaetos': 'Golden_Eagle',\n",
       " 'Buteo albicaudatus': 'White_tailed_Hawk',\n",
       " 'Buteo albonotatus': 'Zone_tailed_Hawk',\n",
       " 'Buteo jamaicensis': 'Red_tailed_Hawk',\n",
       " 'Buteo lagopus': 'Rough_legged_Hawk',\n",
       " 'Buteo lineatus': 'Red_Shouldered_Hawk',\n",
       " 'Buteo platypterus': 'Broad_winged_Hawk',\n",
       " 'Buteo regalis': 'Ferruginous_Hawk',\n",
       " 'Buteo swainsoni': 'Swainsons_Hawk',\n",
       " 'Buteogallus anthracinus': 'Common_Black_Hawk',\n",
       " 'Circus cyaneus': 'Northern_Harrier',\n",
       " 'Elanoides forficatus': 'Swallow_tailed_Kite',\n",
       " 'Elanus leucurus': 'White_tailed_Kite',\n",
       " 'Haliaeetus leucocephalus': 'Bald_Eagle',\n",
       " 'Ictinia mississippiensis': 'Mississippi_Kite',\n",
       " 'Parabuteo unicinctus': 'Harriss_Hawk',\n",
       " 'Rostrhamus sociabilis': 'Snail_Kite',\n",
       " 'Psaltriparus minimus': 'Bushtit',\n",
       " 'Eremophila alpestris': 'Horned_Lark',\n",
       " 'Megaceryle alcyon': 'Belted_Kingfisher',\n",
       " 'Cepphus columba': 'Pigeon_Guillemot',\n",
       " 'Cepphus grylle': 'Black_Guillemot',\n",
       " 'Uria aalge': 'Common_Murre',\n",
       " 'Anas acuta': 'Northern_Pintail',\n",
       " 'Anas americana': 'American_Wigeon',\n",
       " 'Anas crecca': 'Green_winged_Teal',\n",
       " 'Anas cyanoptera': 'Cinnamon_Teal',\n",
       " 'Anas discors': 'Blue_winged_Teal',\n",
       " 'Anas fulvigula': 'Mottled_Duck',\n",
       " 'Anas penelope': 'Eurasian_Wigeon',\n",
       " 'Anas platyrhynchos': 'Mallard',\n",
       " 'Anas rubripes': 'American_Black_Duck',\n",
       " 'Anas strepera': 'Gadwall',\n",
       " 'Aythya affinis': 'Lesser_Scaup',\n",
       " 'Aythya americana': 'Redhead',\n",
       " 'Aythya collaris': 'Ring_necked_Duck',\n",
       " 'Aythya marila': 'Greater_Scaup',\n",
       " 'Aythya valisineria': 'Canvasback',\n",
       " 'Bucephala albeola': 'Bufflehead',\n",
       " 'Bucephala clangula': 'Common_Goldeneye',\n",
       " 'Bucephala islandica': 'Barrows_Goldeneye',\n",
       " 'Cairina moschata': 'Muscovy_Duck',\n",
       " 'Clangula hyemalis': 'Long_tailed_Duck',\n",
       " 'Histrionicus histrionicus': 'Harlequin_Duck',\n",
       " 'Lophodytes cucullatus': 'Hooded_Merganser',\n",
       " 'Melanitta americana': 'Black_Scoter',\n",
       " 'Melanitta fusca': 'White_winged_Scoter',\n",
       " 'Melanitta perspicillata': 'Surf_Scoter',\n",
       " 'Mergus merganser': 'Common_Merganser',\n",
       " 'Mergus serrator': 'Red_breasted_Merganser',\n",
       " 'Oxyura jamaicensis': 'Ruddy_Duck',\n",
       " 'Somateria mollissima': 'Common_Eider',\n",
       " 'Anser albifrons': 'Greater_White_fronted_Goose',\n",
       " 'Branta bernicla': 'Brant',\n",
       " 'Branta canadensis': 'Canada_Goose',\n",
       " 'Branta hutchinsii': 'Cackling_Goose',\n",
       " 'Chen caerulescens': 'Snow_Goose',\n",
       " 'Chen rossii': 'Rosss_Goose',\n",
       " 'Cygnus buccinator': 'Trumpeter_Swan',\n",
       " 'Cygnus columbianus': 'Tundra_Swan',\n",
       " 'Cygnus olor': 'Mute_Swan',\n",
       " 'Dendrocygna bicolor': 'Fulvous_Whistling_Duck',\n",
       " 'Anhinga anhinga': 'Anhinga',\n",
       " 'Aeronautes saxatalis': 'White_throated_Swift',\n",
       " 'Chaetura pelagica': 'Chimney_Swift',\n",
       " 'Aramus guarauna': 'Limpkin',\n",
       " 'Ardea alba': 'Great_Egret',\n",
       " 'Ardea herodias': 'Great_Blue_Heron',\n",
       " 'Botaurus lentiginosus': 'American_Bittern',\n",
       " 'Bubulcus ibis': 'Cattle_Egret',\n",
       " 'Egretta caerulea': 'Little_Blue_Heron',\n",
       " 'Egretta rufescens': 'Reddish_Egret',\n",
       " 'Egretta thula': 'Snowy_Egret',\n",
       " 'Egretta tricolor': 'Tricolored_Heron',\n",
       " 'Ixobrychus exilis': 'Least_Bittern',\n",
       " 'Nyctanassa violacea': 'Yellow_crowned_Night_Heron',\n",
       " 'Nycticorax nycticorax': 'Black_crowned_Night_Heron',\n",
       " 'Bombycilla cedrorum': 'Cedar_Waxwing',\n",
       " 'Bombycilla garrulus': 'Bohemian_Waxwing',\n",
       " 'Calcarius lapponicus': 'Lapland_Longspur',\n",
       " 'Calcarius ornatus': 'Chestnut_Collared_Longspur',\n",
       " 'Plectrophenax nivalis': 'Snow_Bunting',\n",
       " 'Chordeiles acutipennis': 'Lesser_Nighthawk',\n",
       " 'Chordeiles minor': 'Common_Nighthawk',\n",
       " 'Cardinalis cardinalis': 'Northern_Cardinal',\n",
       " 'Cardinalis sinuatus': 'Pyrrhuloxia',\n",
       " 'Passerina amoena': 'Lazuli_Bunting',\n",
       " 'Passerina caerulea': 'Blue_Grosbeak',\n",
       " 'Passerina ciris': 'Painted_Bunting',\n",
       " 'Passerina cyanea': 'Indigo_Bunting',\n",
       " 'Pheucticus ludovicianus': 'Rose_breasted_Grosbeak',\n",
       " 'Pheucticus melanocephalus': 'Black_Headed_Grosbeak',\n",
       " 'Piranga flava': 'Hepatic_Tanager',\n",
       " 'Piranga ludoviciana': 'Western_Tanager',\n",
       " 'Piranga olivacea': 'Scarlet_Tanager',\n",
       " 'Piranga rubra': 'Summer_Tanager',\n",
       " 'Spiza americana': 'Dickcissel',\n",
       " 'Cathartes aura': 'Turkey_Vulture',\n",
       " 'Coragyps atratus': 'Black_Vulture',\n",
       " 'Certhia americana': 'Brown_Creeper',\n",
       " 'Charadrius melodus': 'Piping_Plover',\n",
       " 'Charadrius montanus': 'Mountain_Plover',\n",
       " 'Charadrius nivosus': 'Snowy_Plover',\n",
       " 'Charadrius semipalmatus': 'Semipalmated_Plover',\n",
       " 'Charadrius vociferus': 'Killdeer',\n",
       " 'Charadrius wilsonia': 'Wilsons_Plover',\n",
       " 'Pluvialis dominica': 'American_Golden_Plover',\n",
       " 'Pluvialis fulva': 'Pacific_Golden_Plover',\n",
       " 'Pluvialis squatarola': 'Black_bellied_Plover',\n",
       " 'Mycteria americana': 'Wood_Stork',\n",
       " 'Cinclus mexicanus': 'American_Dipper',\n",
       " 'Columba livia': 'Rock_Pigeon',\n",
       " 'Columbina inca': 'Inca_Dove',\n",
       " 'Columbina passerina': 'Common_Ground_Dove',\n",
       " 'Patagioenas fasciata': 'Band_tailed_Pigeon',\n",
       " 'Streptopelia decaocto': 'Eurasian_Collared_Dove',\n",
       " 'Zenaida asiatica': 'White_winged_Dove',\n",
       " 'Zenaida macroura': 'Mourning_Dove',\n",
       " 'Aphelocoma californica': 'Western_Scrub_Jay',\n",
       " 'Aphelocoma coerulescens': 'Florida_Scrub_Jay',\n",
       " 'Aphelocoma wollweberi': 'Mexican_Jay',\n",
       " 'Corvus brachyrhynchos': 'American_Crow',\n",
       " 'Corvus corax': 'Common_Raven',\n",
       " 'Corvus cryptoleucus': 'Chihuahuan_Raven',\n",
       " 'Corvus ossifragus': 'Fish_Crow',\n",
       " 'Cyanocitta cristata': 'Blue_Jay',\n",
       " 'Cyanocitta stelleri': 'Stellers_Jay',\n",
       " 'Cyanocorax yncas': 'Green_Jay',\n",
       " 'Nucifraga columbiana': 'Clarks_Nutcracker',\n",
       " 'Perisoreus canadensis': 'Gray_Jay',\n",
       " 'Pica hudsonia': 'Black_billed_Magpie',\n",
       " 'Pica nuttalli': 'Yellow_billed_Magpie',\n",
       " 'Crotophaga sulcirostris': 'Groove_billed_Ani',\n",
       " 'Coccyzus americanus': 'Yellow_billed_Cuckoo',\n",
       " 'Coccyzus erythropthalmus': 'Black_billed_Cuckoo',\n",
       " 'Geococcyx californianus': 'Greater_Roadrunner',\n",
       " 'Aimophila ruficeps': 'Rufous_crowned_Sparrow',\n",
       " 'Ammodramus caudacutus': 'Saltmarsh_Sparrow',\n",
       " 'Ammodramus henslowii': 'Henslows_Sparrow',\n",
       " 'Ammodramus leconteii': 'Le_Contes_Sparrow',\n",
       " 'Ammodramus maritimus': 'Seaside_Sparrow',\n",
       " 'Ammodramus nelsoni': 'Nelsons_Sparrow',\n",
       " 'Ammodramus savannarum': 'Grasshopper_Sparrow',\n",
       " 'Amphispiza bilineata': 'Black_throated_Sparrow',\n",
       " 'Arremonops rufivirgatus': 'Olive_Sparrow',\n",
       " 'Calamospiza melanocorys': 'Lark_Bunting',\n",
       " 'Chondestes grammacus': 'Lark_Sparrow',\n",
       " 'Junco hyemalis': 'Dark_eyed_Junco',\n",
       " 'Junco phaeonotus': 'Yellow_eyed_Junco',\n",
       " 'Melospiza georgiana': 'Swamp_Sparrow',\n",
       " 'Melospiza lincolnii': 'Lincolns_Sparrow',\n",
       " 'Melospiza melodia': 'Song_Sparrow',\n",
       " 'Melozone crissalis': 'California_Towhee',\n",
       " 'Melozone fusca': 'Canyon_Towhee',\n",
       " 'Passerella iliaca': 'Fox_Sparrow',\n",
       " 'Peucaea cassinii': 'Cassins_Sparrow',\n",
       " 'Pipilo chlorurus': 'Green_tailed_Towhee',\n",
       " 'Pipilo erythrophthalmus': 'Eastern_Towhee',\n",
       " 'Pipilo maculatus': 'Spotted_Towhee',\n",
       " 'Pooecetes gramineus': 'Vesper_Sparrow',\n",
       " 'Spizella arborea': 'American_Tree_Sparrow',\n",
       " 'Spizella atrogularis': 'Black_Chinned_Sparrow',\n",
       " 'Spizella breweri': 'Brewers_Sparrow',\n",
       " 'Spizella pallida': 'Clay_Colored_Sparrow',\n",
       " 'Spizella passerina': 'Chipping_Sparrow',\n",
       " 'Spizella pusilla': 'Field_Sparrow',\n",
       " 'Zonotrichia albicollis': 'White_throated_Sparrow',\n",
       " 'Zonotrichia atricapilla': 'Golden_crowned_Sparrow',\n",
       " 'Zonotrichia leucophrys': 'White_crowned_Sparrow',\n",
       " 'Zonotrichia querula': 'Harriss_Sparrow',\n",
       " 'Caracara cheriway': 'Crested_Caracara',\n",
       " 'Falco columbarius': 'Merlin',\n",
       " 'Falco mexicanus': 'Prairie_Falcon',\n",
       " 'Falco peregrinus': 'Peregrine_Falcon',\n",
       " 'Falco sparverius': 'American_Kestrel',\n",
       " 'Fregata magnificens': 'Magnificent_Frigatebird',\n",
       " 'Acanthis flammea': 'Common_Redpoll',\n",
       " 'Acanthis hornemanni': 'Hoary_Redpoll',\n",
       " 'Coccothraustes vespertinus': 'Evening_Grosbeak',\n",
       " 'Haemorhous cassinii': 'Cassins_Finch',\n",
       " 'Haemorhous mexicanus': 'House_Finch',\n",
       " 'Haemorhous purpureus': 'Purple_Finch',\n",
       " 'Leucosticte atrata': 'Black_Rosy_Finch',\n",
       " 'Leucosticte australis': 'Brown_Capped_Rosy_Finch',\n",
       " 'Leucosticte tephrocotis': 'Gray_crowned_Rosy_Finch',\n",
       " 'Loxia curvirostra': 'Red_Crossbill',\n",
       " 'Loxia leucoptera': 'White_winged_Crossbill',\n",
       " 'Pinicola enucleator': 'Pine_Grosbeak',\n",
       " 'Spinus pinus': 'Pine_Siskin',\n",
       " 'Spinus psaltria': 'Lesser_Goldfinch',\n",
       " 'Spinus tristis': 'American_Goldfinch',\n",
       " 'Gavia immer': 'Common_Loon',\n",
       " 'Gavia pacifica': 'Pacific_Loon',\n",
       " 'Gavia stellata': 'Red_throated_Loon',\n",
       " 'Grus canadensis': 'Sandhill_Crane',\n",
       " 'Haematopus bachmani': 'Black_Oystercatcher',\n",
       " 'Haematopus palliatus': 'American_Oystercatcher',\n",
       " 'Hirundo rustica': 'Barn_Swallow',\n",
       " 'Petrochelidon fulva': 'Cave_Swallow',\n",
       " 'Petrochelidon pyrrhonota': 'Cliff_Swallow',\n",
       " 'Progne subis': 'Purple_Martin',\n",
       " 'Stelgidopteryx serripennis': 'Northern_Rough_winged_Swallow',\n",
       " 'Tachycineta bicolor': 'Tree_Swallow',\n",
       " 'Tachycineta thalassina': 'Violet_Green_Swallow',\n",
       " 'Agelaius phoeniceus': 'Red_winged_Blackbird',\n",
       " 'Dolichonyx oryzivorus': 'Bobolink',\n",
       " 'Euphagus carolinus': 'Rusty_Blackbird',\n",
       " 'Euphagus cyanocephalus': 'Brewers_Blackbird',\n",
       " 'Icterus bullockii': 'Bullocks_Oriole',\n",
       " 'Icterus cucullatus': 'Hooded_Oriole',\n",
       " 'Icterus galbula': 'Baltimore_Oriole',\n",
       " 'Icterus graduacauda': 'Audubons_Oriole',\n",
       " 'Icterus gularis': 'Altamira_Oriole',\n",
       " 'Icterus parisorum': 'Scotts_Oriole',\n",
       " 'Icterus spurius': 'Orchard_Oriole',\n",
       " 'Molothrus aeneus': 'Bronzed_Cowbird',\n",
       " 'Molothrus ater': 'Brown_Headed_Cowbird',\n",
       " 'Quiscalus major': 'Boat_tailed_Grackle',\n",
       " 'Quiscalus mexicanus': 'Great_tailed_Grackle',\n",
       " 'Quiscalus quiscula': 'Common_Grackle',\n",
       " 'Sturnella magna': 'Eastern_Meadowlark',\n",
       " 'Sturnella neglecta': 'Western_Meadowlark',\n",
       " 'Xanthocephalus xanthocephalus': 'Yellow_Headed_Blackbird',\n",
       " 'Lanius excubitor': 'Northern_Shrike',\n",
       " 'Lanius ludovicianus': 'Loggerhead_Shrike',\n",
       " 'Chroicocephalus philadelphia': 'Bonapartes_Gull',\n",
       " 'Larus argentatus': 'Herring_Gull',\n",
       " 'Larus californicus': 'California_Gull',\n",
       " 'Larus canus': 'Mew_Gull',\n",
       " 'Larus delawarensis': 'Ring_billed_Gull',\n",
       " 'Larus glaucescens': 'Glaucous_winged_Gull',\n",
       " 'Larus glaucoides': 'Iceland_Gull',\n",
       " 'Larus heermanni': 'Heermanns_Gull',\n",
       " 'Larus hyperboreus': 'Glaucous_Gull',\n",
       " 'Larus marinus': 'Great_Black_backed_Gull',\n",
       " 'Larus occidentalis': 'Western_Gull',\n",
       " 'Larus thayeri': 'Thayers_Gull',\n",
       " 'Leucophaeus atricilla': 'Laughing_Gull',\n",
       " 'Leucophaeus pipixcan': 'Franklins_Gull',\n",
       " 'Rissa tridactyla': 'Black_legged_Kittiwake',\n",
       " 'Rynchops niger': 'Black_Skimmer',\n",
       " 'Chlidonias niger': 'Black_Tern',\n",
       " 'Gelochelidon nilotica': 'Gull_billed_Tern',\n",
       " 'Hydroprogne caspia': 'Caspian_Tern',\n",
       " 'Sterna dougallii': 'Roseate_Tern',\n",
       " 'Sterna forsteri': 'Forsters_Tern',\n",
       " 'Sterna hirundo': 'Common_Tern',\n",
       " 'Sterna paradisaea': 'Arctic_Tern',\n",
       " 'Sternula antillarum': 'Least_Tern',\n",
       " 'Thalasseus maximus': 'Royal_Tern',\n",
       " 'Thalasseus sandvicensis': 'Sandwich_Tern',\n",
       " 'Dumetella carolinensis': 'Gray_Catbird',\n",
       " 'Mimus polyglottos': 'Northern_Mockingbird',\n",
       " 'Oreoscoptes montanus': 'Sage_Thrasher',\n",
       " 'Toxostoma curvirostre': 'Curve_billed_Thrasher',\n",
       " 'Toxostoma longirostre': 'Long_billed_Thrasher',\n",
       " 'Toxostoma redivivum': 'California_Thrasher',\n",
       " 'Toxostoma rufum': 'Brown_Thrasher',\n",
       " 'Anthus rubescens': 'American_Pipit',\n",
       " 'Callipepla californica': 'California_Quail',\n",
       " 'Callipepla gambelii': 'Gambels_Quail',\n",
       " 'Callipepla squamata': 'Scaled_Quail',\n",
       " 'Colinus virginianus': 'Northern_Bobwhite',\n",
       " 'Pandion haliaetus': 'Osprey',\n",
       " 'Baeolophus atricristatus': 'Black_Crested_Titmouse',\n",
       " 'Baeolophus bicolor': 'Tufted_Titmouse',\n",
       " 'Baeolophus inornatus': 'Oak_Titmouse',\n",
       " 'Baeolophus wollweberi': 'Bridled_Titmouse',\n",
       " 'Poecile atricapillus': 'Black_Capped_Chickadee',\n",
       " 'Poecile carolinensis': 'Carolina_Chickadee',\n",
       " 'Poecile gambeli': 'Mountain_Chickadee',\n",
       " 'Poecile hudsonicus': 'Boreal_Chickadee',\n",
       " 'Poecile rufescens': 'Chestnut_backed_Chickadee',\n",
       " 'Cardellina canadensis': 'Canada_Warbler',\n",
       " 'Cardellina pusilla': 'Wilsons_Warbler',\n",
       " 'Geothlypis philadelphia': 'Mourning_Warbler',\n",
       " 'Geothlypis trichas': 'Common_Yellowthroat',\n",
       " 'Helmitheros vermivorum': 'Worm_Eating_Warbler',\n",
       " 'Icteria virens': 'Yellow_breasted_Chat',\n",
       " 'Mniotilta varia': 'Black_And_White_Warbler',\n",
       " 'Myioborus pictus': 'Painted_Redstart',\n",
       " 'Oporornis agilis': 'Connecticut_Warbler',\n",
       " 'Oreothlypis celata': 'Orange_crowned_Warbler',\n",
       " 'Oreothlypis peregrina': 'Tennessee_Warbler',\n",
       " 'Oreothlypis ruficapilla': 'Nashville_Warbler',\n",
       " 'Parkesia motacilla': 'Louisiana_Waterthrush',\n",
       " 'Parkesia noveboracensis': 'Northern_Waterthrush',\n",
       " 'Protonotaria citrea': 'Prothonotary_Warbler',\n",
       " 'Seiurus aurocapilla': 'Ovenbird',\n",
       " 'Setophaga americana': 'Northern_Parula',\n",
       " 'Setophaga caerulescens': 'Black_throated_Blue_Warbler',\n",
       " 'Setophaga castanea': 'Bay_breasted_Warbler',\n",
       " 'Setophaga cerulea': 'Cerulean_Warbler',\n",
       " 'Setophaga citrina': 'Hooded_Warbler',\n",
       " 'Setophaga coronata': 'Yellow_rumped_Warbler',\n",
       " 'Setophaga discolor': 'Prairie_Warbler',\n",
       " 'Setophaga dominica': 'Yellow_throated_Warbler',\n",
       " 'Setophaga fusca': 'Blackburnian_Warbler',\n",
       " 'Setophaga magnolia': 'Magnolia_Warbler',\n",
       " 'Setophaga nigrescens': 'Black_throated_Gray_Warbler',\n",
       " 'Setophaga palmarum': 'Palm_Warbler',\n",
       " 'Setophaga pensylvanica': 'Chestnut_Sided_Warbler',\n",
       " 'Setophaga petechia': 'Yellow_Warbler',\n",
       " 'Setophaga pinus': 'Pine_Warbler',\n",
       " 'Setophaga ruticilla': 'American_Redstart',\n",
       " 'Setophaga striata': 'Blackpoll_Warbler',\n",
       " 'Setophaga tigrina': 'Cape_May_Warbler',\n",
       " 'Setophaga townsendi': 'Townsends_Warbler',\n",
       " 'Setophaga virens': 'Black_throated_Green_Warbler',\n",
       " 'Vermivora chrysoptera': 'Golden_winged_Warbler',\n",
       " 'Vermivora cyanoptera': 'Blue_winged_Warbler',\n",
       " 'Passer domesticus': 'House_Sparrow',\n",
       " 'Pelecanus erythrorhynchos': 'American_White_Pelican',\n",
       " 'Pelecanus occidentalis': 'Brown_Pelican',\n",
       " 'Phalacrocorax auritus': 'Double_Crested_Cormorant',\n",
       " 'Phalacrocorax brasilianus': 'Neotropic_Cormorant',\n",
       " 'Phalacrocorax carbo': 'Great_Cormorant',\n",
       " 'Phalacrocorax penicillatus': 'Brandts_Cormorant',\n",
       " 'Meleagris gallopavo': 'Wild_Turkey',\n",
       " 'Phasianus colchicus': 'Ring_necked_Pheasant',\n",
       " 'Bonasa umbellus': 'Ruffed_Grouse',\n",
       " 'Centrocercus urophasianus': 'Greater_Sage_Grouse',\n",
       " 'Dendragapus fuliginosus': 'Sooty_Grouse',\n",
       " 'Dendragapus obscurus': 'Dusky_Grouse',\n",
       " 'Falcipennis canadensis': 'Spruce_Grouse',\n",
       " 'Lagopus lagopus': 'Willow_Ptarmigan',\n",
       " 'Lagopus leucura': 'White_tailed_Ptarmigan',\n",
       " 'Lagopus muta': 'Rock_Ptarmigan',\n",
       " 'Tympanuchus cupido': 'Greater_Prairie_Chicken',\n",
       " 'Tympanuchus phasianellus': 'Sharp_tailed_Grouse',\n",
       " 'Colaptes auratus': 'Northern_Flicker',\n",
       " 'Dryocopus pileatus': 'Pileated_Woodpecker',\n",
       " 'Melanerpes aurifrons': 'Golden_fronted_Woodpecker',\n",
       " 'Melanerpes carolinus': 'Red_bellied_Woodpecker',\n",
       " 'Melanerpes erythrocephalus': 'Red_Headed_Woodpecker',\n",
       " 'Melanerpes formicivorus': 'Acorn_Woodpecker',\n",
       " 'Melanerpes lewis': 'Lewiss_Woodpecker',\n",
       " 'Melanerpes uropygialis': 'Gila_Woodpecker',\n",
       " 'Picoides albolarvatus': 'White_Headed_Woodpecker',\n",
       " 'Picoides arcticus': 'Black_backed_Woodpecker',\n",
       " 'Picoides borealis': 'Red_Cockaded_Woodpecker',\n",
       " 'Picoides dorsalis': 'American_Three_Toed_Woodpecker',\n",
       " 'Picoides nuttallii': 'Nuttalls_Woodpecker',\n",
       " 'Picoides pubescens': 'Downy_Woodpecker',\n",
       " 'Picoides scalaris': 'Ladder_backed_Woodpecker',\n",
       " 'Picoides villosus': 'Hairy_Woodpecker',\n",
       " 'Sphyrapicus nuchalis': 'Red_Naped_Sapsucker',\n",
       " 'Sphyrapicus ruber': 'Red_breasted_Sapsucker',\n",
       " 'Sphyrapicus thyroideus': 'Williamsons_Sapsucker',\n",
       " 'Sphyrapicus varius': 'Yellow_bellied_Sapsucker',\n",
       " 'Aechmophorus clarkii': 'Clarks_Grebe',\n",
       " 'Aechmophorus occidentalis': 'Western_Grebe',\n",
       " 'Podiceps auritus': 'Horned_Grebe',\n",
       " 'Podiceps grisegena': 'Red_necked_Grebe',\n",
       " 'Podiceps nigricollis': 'eared_Grebe',\n",
       " 'Podilymbus podiceps': 'Pied_billed_Grebe',\n",
       " 'Tachybaptus dominicus': 'Least_Grebe',\n",
       " 'Polioptila caerulea': 'Blue_Gray_Gnatcatcher',\n",
       " 'Myiopsitta monachus': 'Monk_Parakeet',\n",
       " 'Phainopepla nitens': 'Phainopepla',\n",
       " 'Fulica americana': 'American_Coot',\n",
       " 'Gallinula galeata': 'Common_Gallinule',\n",
       " 'Porphyrio martinicus': 'Purple_Gallinule',\n",
       " 'Porzana carolina': 'Sora',\n",
       " 'Rallus elegans': 'King_Rail',\n",
       " 'Rallus limicola': 'Virginia_Rail',\n",
       " 'Rallus longirostris': 'Clapper_Rail',\n",
       " 'Himantopus mexicanus': 'Black_necked_Stilt',\n",
       " 'Recurvirostra americana': 'American_Avocet',\n",
       " 'Regulus calendula': 'Ruby_crowned_Kinglet',\n",
       " 'Regulus satrapa': 'Golden_crowned_Kinglet',\n",
       " 'Auriparus flaviceps': 'Verdin',\n",
       " 'Phalaropus fulicarius': 'Red_Phalarope',\n",
       " 'Phalaropus lobatus': 'Red_necked_Phalarope',\n",
       " 'Phalaropus tricolor': 'Wilsons_Phalarope',\n",
       " 'Actitis macularius': 'Spotted_Sandpiper',\n",
       " 'Aphriza virgata': 'Surfbird',\n",
       " 'Arenaria interpres': 'Ruddy_Turnstone',\n",
       " 'Arenaria melanocephala': 'Black_Turnstone',\n",
       " 'Bartramia longicauda': 'Upland_Sandpiper',\n",
       " 'Calidris alba': 'Sanderling',\n",
       " 'Calidris alpina': 'Dunlin',\n",
       " 'Calidris bairdii': 'Bairds_Sandpiper',\n",
       " 'Calidris canutus': 'Red_Knot',\n",
       " 'Calidris fuscicollis': 'White_rumped_Sandpiper',\n",
       " 'Calidris himantopus': 'Stilt_Sandpiper',\n",
       " 'Calidris maritima': 'Purple_Sandpiper',\n",
       " 'Calidris mauri': 'Western_Sandpiper',\n",
       " 'Calidris melanotos': 'Pectoral_Sandpiper',\n",
       " 'Calidris minutilla': 'Least_Sandpiper',\n",
       " 'Calidris ptilocnemis': 'Rock_Sandpiper',\n",
       " 'Calidris pusilla': 'Semipalmated_Sandpiper',\n",
       " 'Gallinago delicata': 'Wilsons_Snipe',\n",
       " 'Limnodromus griseus': 'Short_billed_Dowitcher',\n",
       " 'Limnodromus scolopaceus': 'Long_billed_Dowitcher',\n",
       " 'Limosa fedoa': 'Marbled_Godwit',\n",
       " 'Numenius americanus': 'Long_billed_Curlew',\n",
       " 'Numenius phaeopus': 'Whimbrel',\n",
       " 'Scolopax minor': 'American_Woodcock',\n",
       " 'Tringa flavipes': 'Lesser_Yellowlegs',\n",
       " 'Tringa incana': 'Wandering_Tattler',\n",
       " 'Tringa melanoleuca': 'Greater_Yellowlegs',\n",
       " 'Tringa semipalmata': 'Willet',\n",
       " 'Tringa solitaria': 'Solitary_Sandpiper',\n",
       " 'Sitta canadensis': 'Red_breasted_Nuthatch',\n",
       " 'Sitta carolinensis': 'White_breasted_Nuthatch',\n",
       " 'Sitta pusilla': 'Brown_Headed_Nuthatch',\n",
       " 'Sitta pygmaea': 'Pygmy_Nuthatch',\n",
       " 'Aegolius acadicus': 'Northern_Saw_Whet_Owl',\n",
       " 'Asio flammeus': 'Short_eared_Owl',\n",
       " 'Asio otus': 'Long_eared_Owl',\n",
       " 'Athene cunicularia': 'Burrowing_Owl',\n",
       " 'Bubo scandiacus': 'Snowy_Owl',\n",
       " 'Bubo virginianus': 'Great_Horned_Owl',\n",
       " 'Glaucidium brasilianum': 'Ferruginous_Pygmy_Owl',\n",
       " 'Megascops asio': 'Eastern_Screech_Owl',\n",
       " 'Megascops kennicottii': 'Western_Screech_Owl',\n",
       " 'Micrathene whitneyi': 'Elf_Owl',\n",
       " 'Strix nebulosa': 'Great_Gray_Owl',\n",
       " 'Strix occidentalis': 'Spotted_Owl',\n",
       " 'Strix varia': 'Barred_Owl',\n",
       " 'Surnia ulula': 'Northern_Hawk_Owl',\n",
       " 'Sturnus vulgaris': 'European_Starling',\n",
       " 'Morus bassanus': 'Northern_Gannet',\n",
       " 'Chamaea fasciata': 'Wrentit',\n",
       " 'Eudocimus albus': 'White_Ibis',\n",
       " 'Plegadis chihi': 'White_Faced_Ibis',\n",
       " 'Plegadis falcinellus': 'Glossy_Ibis',\n",
       " 'Archilochus alexandri': 'Black_Chinned_Hummingbird',\n",
       " 'Archilochus colubris': 'Ruby_throated_Hummingbird',\n",
       " 'Calypte anna': 'Annas_Hummingbird',\n",
       " 'Calypte costae': 'Costas_Hummingbird',\n",
       " 'Cynanthus latirostris': 'Broad_billed_Hummingbird',\n",
       " 'Selasphorus calliope': 'Calliope_Hummingbird',\n",
       " 'Selasphorus platycercus': 'Broad_tailed_Hummingbird',\n",
       " 'Selasphorus rufus': 'Rufous_Hummingbird',\n",
       " 'Selasphorus sasin': 'Allens_Hummingbird',\n",
       " 'Campylorhynchus brunneicapillus': 'Cactus_Wren',\n",
       " 'Catherpes mexicanus': 'Canyon_Wren',\n",
       " 'Cistothorus palustris': 'Marsh_Wren',\n",
       " 'Cistothorus platensis': 'Sedge_Wren',\n",
       " 'Salpinctes obsoletus': 'Rock_Wren',\n",
       " 'Thryomanes bewickii': 'Bewicks_Wren',\n",
       " 'Thryothorus ludovicianus': 'Carolina_Wren',\n",
       " 'Troglodytes aedon': 'House_Wren',\n",
       " 'Troglodytes hiemalis': 'Winter_Wren',\n",
       " 'Troglodytes pacificus': 'Pacific_Wren',\n",
       " 'Trogon elegans': 'Elegant_Trogon',\n",
       " 'Catharus fuscescens': 'Veery',\n",
       " 'Catharus guttatus': 'Hermit_Thrush',\n",
       " 'Catharus minimus': 'Gray_Cheeked_Thrush',\n",
       " 'Catharus ustulatus': 'Swainsons_Thrush',\n",
       " 'Hylocichla mustelina': 'Wood_Thrush',\n",
       " 'Ixoreus naevius': 'Varied_Thrush',\n",
       " 'Myadestes townsendi': 'Townsends_Solitaire',\n",
       " 'Sialia currucoides': 'Mountain_Bluebird',\n",
       " 'Sialia mexicana': 'Western_Bluebird',\n",
       " 'Sialia sialis': 'Eastern_Bluebird',\n",
       " 'Turdus migratorius': 'American_Robin',\n",
       " 'Contopus cooperi': 'Olive_Sided_Flycatcher',\n",
       " 'Contopus sordidulus': 'Western_Wood_Pewee',\n",
       " 'Contopus virens': 'Eastern_Wood_Pewee',\n",
       " 'Empidonax alnorum': 'Alder_Flycatcher',\n",
       " 'Empidonax difficilis': 'Pacific_Slope_Flycatcher',\n",
       " 'Empidonax flaviventris': 'Yellow_bellied_Flycatcher',\n",
       " 'Empidonax hammondii': 'Hammonds_Flycatcher',\n",
       " 'Empidonax minimus': 'Least_Flycatcher',\n",
       " 'Empidonax oberholseri': 'Dusky_Flycatcher',\n",
       " 'Empidonax occidentalis': 'Cordilleran_Flycatcher',\n",
       " 'Empidonax traillii': 'Willow_Flycatcher',\n",
       " 'Empidonax virescens': 'Acadian_Flycatcher',\n",
       " 'Empidonax wrightii': 'Gray_Flycatcher',\n",
       " 'Pyrocephalus rubinus': 'Vermilion_Flycatcher',\n",
       " 'Sayornis nigricans': 'Black_Phoebe',\n",
       " 'Sayornis phoebe': 'Eastern_Phoebe',\n",
       " 'Sayornis saya': 'Says_Phoebe',\n",
       " 'Myiarchus cinerascens': 'Ash_throated_Flycatcher',\n",
       " 'Myiarchus crinitus': 'Great_Crested_Flycatcher',\n",
       " 'Myiarchus tyrannulus': 'Brown_Crested_Flycatcher',\n",
       " 'Pitangus sulphuratus': 'Great_Kiskadee',\n",
       " 'Tyrannus couchii': 'Couchs_Kingbird',\n",
       " 'Tyrannus dominicensis': 'Gray_Kingbird',\n",
       " 'Tyrannus forficatus': 'Scissor_tailed_Flycatcher',\n",
       " 'Tyrannus melancholicus': 'Tropical_Kingbird',\n",
       " 'Tyrannus tyrannus': 'Eastern_Kingbird',\n",
       " 'Tyrannus verticalis': 'Western_Kingbird',\n",
       " 'Tyrannus vociferans': 'Cassins_Kingbird',\n",
       " 'Vireo bellii': 'Bells_Vireo',\n",
       " 'Vireo cassinii': 'Cassins_Vireo',\n",
       " 'Vireo flavifrons': 'Yellow_throated_Vireo',\n",
       " 'Vireo gilvus': 'Warbling_Vireo',\n",
       " 'Vireo griseus': 'White_eyed_Vireo',\n",
       " 'Vireo huttoni': 'Huttons_Vireo',\n",
       " 'Vireo olivaceus': 'Red_eyed_Vireo',\n",
       " 'Vireo philadelphicus': 'Philadelphia_Vireo',\n",
       " 'Vireo plumbeus': 'Plumbeous_Vireo',\n",
       " 'Vireo solitarius': 'Blue_Headed_Vireo'}"
      ]
     },
     "execution_count": 4,
     "metadata": {},
     "output_type": "execute_result"
    }
   ],
   "execution_count": 4
  },
  {
   "metadata": {},
   "cell_type": "markdown",
   "source": [
    "## 1.b - Most commonly spottable birds in Italy\n",
    "#### Now let's define a list of most commonly spotted birds in Italy, since the final app is meant to be use by Italian birdwatchers.\n",
    "#### The list is scraped from the Wikipedia [link](https://en.wikipedia.org/wiki/List_of_birds_of_Italy)"
   ],
   "id": "adb1df4603694a6f"
  },
  {
   "metadata": {
    "ExecuteTime": {
     "end_time": "2025-05-26T15:31:32.901692Z",
     "start_time": "2025-05-26T15:31:32.899266Z"
    }
   },
   "cell_type": "code",
   "source": [
    "def create_italian_birds_list():\n",
    "    \n",
    "    #if a file has been already written from the scrape function in the past, then the function collects it back and return its content\n",
    "    if pathlib.Path('./birds_of_italy.txt').exists():\n",
    "        print(f'The list already exists in memory...retrieving {pathlib.Path('./birds_of_italy.txt')}')\n",
    "        with open('./birds_of_italy.txt', 'r') as f:\n",
    "            return f.read().splitlines()\n",
    "            \n",
    "    #extracting a list of birds most likely to be spotted in Italy from wikipedia\n",
    "    import requests\n",
    "    from bs4 import BeautifulSoup\n",
    "\n",
    "    url = \"https://en.wikipedia.org/wiki/List_of_birds_of_Italy\" #the web page from witch we will basically scrap the info\n",
    "    response = requests.get(url)\n",
    "    soup = BeautifulSoup(response.content, \"html.parser\")\n",
    "\n",
    "    birds = []\n",
    "\n",
    "    for bird in soup.select(\"div div div main div div div div ul li i\"):\n",
    "        bird_name = bird.get_text(strip=True)\n",
    "        birds.append(bird_name)\n",
    "\n",
    "    #adding the birds of the orders represented by fewer species, which are formatted differently in the webpage\n",
    "    for bird in soup.select(\"div div div main div div div ul li i\"):\n",
    "        bird_name = bird.get_text(strip=True)\n",
    "        birds.append(bird_name)\n",
    "\n",
    "    # Save to file\n",
    "    with open(\"birds_of_italy.txt\", \"w\", encoding=\"utf-8\") as f:\n",
    "        for bird in sorted(set(birds)):\n",
    "            f.write(bird + \"\\n\")\n",
    "        print(f'A list of the italian birds has been exported in: {os.getcwd()}/birds_of_italy.txt')\n",
    "    \n",
    "    print('The variable now holds a list of the scientific names for the birds most likely to spot in Italy...')\n",
    "    return birds"
   ],
   "id": "4fb8f1d576db1604",
   "outputs": [],
   "execution_count": 5
  },
  {
   "metadata": {
    "ExecuteTime": {
     "end_time": "2025-05-26T15:31:32.904424Z",
     "start_time": "2025-05-26T15:31:32.902245Z"
    }
   },
   "cell_type": "code",
   "source": [
    "italian_birds_list = create_italian_birds_list() #this will be a list loaded in memory with all the italian birds. A *.txt file is available as well.\n",
    "print(f'Found a list of {len(italian_birds_list)} italian birds')\n",
    "print('First 10 samples:')\n",
    "print('\\t', italian_birds_list[:10], '....')\n"
   ],
   "id": "daeb306a0b3be1b6",
   "outputs": [
    {
     "name": "stdout",
     "output_type": "stream",
     "text": [
      "The list already exists in memory...retrieving birds_of_italy.txt\n",
      "Found a list of 559 italian birds\n",
      "First 10 samples:\n",
      "\t ['Acanthis cabaret', 'Acanthis flammea', 'Accipiter brevipes', 'Accipiter gentilis', 'Accipiter nisus', 'Acrocephalus agricola', 'Acrocephalus arundinaceus', 'Acrocephalus dumetorum', 'Acrocephalus melanopogon', 'Acrocephalus paludicola'] ....\n"
     ]
    }
   ],
   "execution_count": 6
  },
  {
   "metadata": {},
   "cell_type": "markdown",
   "source": [
    "## 2. Matching the Birsdnap content with the 'Italian' birds list\n",
    "#### Now we have to match what we have in our dataset and whose scientific name is available, with the list of the most common birds of Italy. First off, let's push the list of the scientific names just collected, into our dataframe"
   ],
   "id": "fb1fa9303a40990f"
  },
  {
   "metadata": {
    "ExecuteTime": {
     "end_time": "2025-05-26T15:31:32.915532Z",
     "start_time": "2025-05-26T15:31:32.904866Z"
    }
   },
   "cell_type": "code",
   "source": [
    "birds_for_training = [bird for bird in birdsnap_species if bird.replace('_', ' ').lower() in [bird.lower() for bird in italian_birds_list]]\n",
    "print(f'Found {len(birds_for_training)} classes for training which are both in the \\'italian birds\\' and in the \\'Birdsnap\\' dataset...')"
   ],
   "id": "396f6fc7f7eab232",
   "outputs": [
    {
     "name": "stdout",
     "output_type": "stream",
     "text": [
      "Found 101 classes for training which are both in the 'italian birds' and in the 'Birdsnap' dataset...\n"
     ]
    }
   ],
   "execution_count": 7
  },
  {
   "metadata": {},
   "cell_type": "markdown",
   "source": "#### The result is quite disappointing. Only 101 birds match the fact of being in the Birdsnap and being commonly spottable in Italy.",
   "id": "5716a675dbffdddf"
  },
  {
   "metadata": {},
   "cell_type": "markdown",
   "source": "## 2. Downloading the dataset content for italian species",
   "id": "a49e9977103a2d85"
  },
  {
   "metadata": {
    "ExecuteTime": {
     "end_time": "2025-05-26T15:31:32.918193Z",
     "start_time": "2025-05-26T15:31:32.916129Z"
    }
   },
   "cell_type": "code",
   "source": "birds_for_training[0]",
   "id": "4b26be2b325787c2",
   "outputs": [
    {
     "data": {
      "text/plain": [
       "'Accipiter gentilis'"
      ]
     },
     "execution_count": 8,
     "metadata": {},
     "output_type": "execute_result"
    }
   ],
   "execution_count": 8
  },
  {
   "metadata": {
    "ExecuteTime": {
     "end_time": "2025-05-26T15:31:32.921010Z",
     "start_time": "2025-05-26T15:31:32.918701Z"
    }
   },
   "cell_type": "code",
   "source": "birdsnap_species[birds_for_training[0]]",
   "id": "68b300e77b38ce17",
   "outputs": [
    {
     "data": {
      "text/plain": [
       "'Northern_Goshawk'"
      ]
     },
     "execution_count": 9,
     "metadata": {},
     "output_type": "execute_result"
    }
   ],
   "execution_count": 9
  },
  {
   "metadata": {
    "ExecuteTime": {
     "end_time": "2025-05-26T15:37:04.317184Z",
     "start_time": "2025-05-26T15:31:32.921626Z"
    }
   },
   "cell_type": "code",
   "source": [
    "#let's import hugging face hub. a library to manage hugging_face repos\n",
    "from huggingface_hub import hf_hub_download\n",
    "\n",
    "paths = [] #local paths of files\n",
    "\n",
    "for class_for_training in birds_for_training:\n",
    "    try:\n",
    "        class_for_training = birdsnap_species[class_for_training]\n",
    "        local_path = hf_hub_download(\n",
    "            repo_id='HuggingFaceM4/Birdsnap',\n",
    "            filename=f'images/{class_for_training}.tar',\n",
    "            repo_type='dataset',\n",
    "            local_dir=BIRDSNAP_DATASET_PATH / 'download',\n",
    "        )\n",
    "        paths.append(local_path)\n",
    "    except Exception as exception:\n",
    "        print(f'An exception occurred: {exception.__class__} for {class_for_training}')\n",
    "print(f'Downloaded {len(paths)} images')"
   ],
   "id": "4e7aa99f876f2d67",
   "outputs": [
    {
     "data": {
      "text/plain": [
       "Northern_Goshawk.tar:   0%|          | 0.00/198M [00:00<?, ?B/s]"
      ],
      "application/vnd.jupyter.widget-view+json": {
       "version_major": 2,
       "version_minor": 0,
       "model_id": "8542111ae0f2435cb7af855276cd6926"
      }
     },
     "metadata": {},
     "output_type": "display_data"
    },
    {
     "data": {
      "text/plain": [
       "Golden_Eagle.tar:   0%|          | 0.00/260M [00:00<?, ?B/s]"
      ],
      "application/vnd.jupyter.widget-view+json": {
       "version_major": 2,
       "version_minor": 0,
       "model_id": "44ee2881783e4dc3b7e77f6143913a91"
      }
     },
     "metadata": {},
     "output_type": "display_data"
    },
    {
     "data": {
      "text/plain": [
       "Rough_legged_Hawk.tar:   0%|          | 0.00/214M [00:00<?, ?B/s]"
      ],
      "application/vnd.jupyter.widget-view+json": {
       "version_major": 2,
       "version_minor": 0,
       "model_id": "eab9a492245147e5a7e6878c9c56e1e2"
      }
     },
     "metadata": {},
     "output_type": "display_data"
    },
    {
     "data": {
      "text/plain": [
       "Northern_Harrier.tar:   0%|          | 0.00/172M [00:00<?, ?B/s]"
      ],
      "application/vnd.jupyter.widget-view+json": {
       "version_major": 2,
       "version_minor": 0,
       "model_id": "c199258a236e45c383932e6b32773efd"
      }
     },
     "metadata": {},
     "output_type": "display_data"
    },
    {
     "data": {
      "text/plain": [
       "Horned_Lark.tar:   0%|          | 0.00/159M [00:00<?, ?B/s]"
      ],
      "application/vnd.jupyter.widget-view+json": {
       "version_major": 2,
       "version_minor": 0,
       "model_id": "c4aecd875ae546a5bed60944337ea50c"
      }
     },
     "metadata": {},
     "output_type": "display_data"
    },
    {
     "data": {
      "text/plain": [
       "Common_Murre.tar:   0%|          | 0.00/94.5M [00:00<?, ?B/s]"
      ],
      "application/vnd.jupyter.widget-view+json": {
       "version_major": 2,
       "version_minor": 0,
       "model_id": "0f63c64a67c34499bcb52dea39f50b1a"
      }
     },
     "metadata": {},
     "output_type": "display_data"
    },
    {
     "data": {
      "text/plain": [
       "Northern_Pintail.tar:   0%|          | 0.00/264M [00:00<?, ?B/s]"
      ],
      "application/vnd.jupyter.widget-view+json": {
       "version_major": 2,
       "version_minor": 0,
       "model_id": "fdf8cecc9d554b3fa2f574495cf36a75"
      }
     },
     "metadata": {},
     "output_type": "display_data"
    },
    {
     "data": {
      "text/plain": [
       "Green_winged_Teal.tar:   0%|          | 0.00/105M [00:00<?, ?B/s]"
      ],
      "application/vnd.jupyter.widget-view+json": {
       "version_major": 2,
       "version_minor": 0,
       "model_id": "0e32c23da7274f1fb2dea2f6f1455068"
      }
     },
     "metadata": {},
     "output_type": "display_data"
    },
    {
     "data": {
      "text/plain": [
       "Mallard.tar:   0%|          | 0.00/169M [00:00<?, ?B/s]"
      ],
      "application/vnd.jupyter.widget-view+json": {
       "version_major": 2,
       "version_minor": 0,
       "model_id": "68727894172640e6acda0415143766f6"
      }
     },
     "metadata": {},
     "output_type": "display_data"
    },
    {
     "data": {
      "text/plain": [
       "Ring_necked_Duck.tar:   0%|          | 0.00/135M [00:00<?, ?B/s]"
      ],
      "application/vnd.jupyter.widget-view+json": {
       "version_major": 2,
       "version_minor": 0,
       "model_id": "7499422b31044f9ab4ca370a8c5beb23"
      }
     },
     "metadata": {},
     "output_type": "display_data"
    },
    {
     "data": {
      "text/plain": [
       "Greater_Scaup.tar:   0%|          | 0.00/121M [00:00<?, ?B/s]"
      ],
      "application/vnd.jupyter.widget-view+json": {
       "version_major": 2,
       "version_minor": 0,
       "model_id": "294efe708d6841dfa268dbbf7813697a"
      }
     },
     "metadata": {},
     "output_type": "display_data"
    },
    {
     "data": {
      "text/plain": [
       "Common_Goldeneye.tar:   0%|          | 0.00/131M [00:00<?, ?B/s]"
      ],
      "application/vnd.jupyter.widget-view+json": {
       "version_major": 2,
       "version_minor": 0,
       "model_id": "cfb5b562d5df4382921138de662ca817"
      }
     },
     "metadata": {},
     "output_type": "display_data"
    },
    {
     "data": {
      "text/plain": [
       "Long_tailed_Duck.tar:   0%|          | 0.00/104M [00:00<?, ?B/s]"
      ],
      "application/vnd.jupyter.widget-view+json": {
       "version_major": 2,
       "version_minor": 0,
       "model_id": "ce9a051837d84ca3b53d82ffd40483ae"
      }
     },
     "metadata": {},
     "output_type": "display_data"
    },
    {
     "data": {
      "text/plain": [
       "Harlequin_Duck.tar:   0%|          | 0.00/129M [00:00<?, ?B/s]"
      ],
      "application/vnd.jupyter.widget-view+json": {
       "version_major": 2,
       "version_minor": 0,
       "model_id": "794a77089d0443968a31a7eab84f8659"
      }
     },
     "metadata": {},
     "output_type": "display_data"
    },
    {
     "data": {
      "text/plain": [
       "White_winged_Scoter.tar:   0%|          | 0.00/93.8M [00:00<?, ?B/s]"
      ],
      "application/vnd.jupyter.widget-view+json": {
       "version_major": 2,
       "version_minor": 0,
       "model_id": "9db1c13e9d2a45f69ccf4b72585b5c75"
      }
     },
     "metadata": {},
     "output_type": "display_data"
    },
    {
     "data": {
      "text/plain": [
       "Common_Merganser.tar:   0%|          | 0.00/146M [00:00<?, ?B/s]"
      ],
      "application/vnd.jupyter.widget-view+json": {
       "version_major": 2,
       "version_minor": 0,
       "model_id": "6abe5978ef434866a1cfdd97fdf26e96"
      }
     },
     "metadata": {},
     "output_type": "display_data"
    },
    {
     "data": {
      "text/plain": [
       "Red_breasted_Merganser.tar:   0%|          | 0.00/118M [00:00<?, ?B/s]"
      ],
      "application/vnd.jupyter.widget-view+json": {
       "version_major": 2,
       "version_minor": 0,
       "model_id": "c86362983e244bd8bf8c6be311aece3f"
      }
     },
     "metadata": {},
     "output_type": "display_data"
    },
    {
     "data": {
      "text/plain": [
       "Ruddy_Duck.tar:   0%|          | 0.00/161M [00:00<?, ?B/s]"
      ],
      "application/vnd.jupyter.widget-view+json": {
       "version_major": 2,
       "version_minor": 0,
       "model_id": "4b3d5a9cf3164937b6f5d73b8d3e1e40"
      }
     },
     "metadata": {},
     "output_type": "display_data"
    },
    {
     "data": {
      "text/plain": [
       "Common_Eider.tar:   0%|          | 0.00/205M [00:00<?, ?B/s]"
      ],
      "application/vnd.jupyter.widget-view+json": {
       "version_major": 2,
       "version_minor": 0,
       "model_id": "9f1da73a7b664e20a3f387cd5e76382f"
      }
     },
     "metadata": {},
     "output_type": "display_data"
    },
    {
     "data": {
      "text/plain": [
       "Greater_White_fronted_Goose.tar:   0%|          | 0.00/113M [00:00<?, ?B/s]"
      ],
      "application/vnd.jupyter.widget-view+json": {
       "version_major": 2,
       "version_minor": 0,
       "model_id": "35297a8c31c74e1593ee6f06b1227722"
      }
     },
     "metadata": {},
     "output_type": "display_data"
    },
    {
     "data": {
      "text/plain": [
       "Brant.tar:   0%|          | 0.00/136M [00:00<?, ?B/s]"
      ],
      "application/vnd.jupyter.widget-view+json": {
       "version_major": 2,
       "version_minor": 0,
       "model_id": "d1c732707c9042f8a5d17ceea785e122"
      }
     },
     "metadata": {},
     "output_type": "display_data"
    },
    {
     "data": {
      "text/plain": [
       "Canada_Goose.tar:   0%|          | 0.00/219M [00:00<?, ?B/s]"
      ],
      "application/vnd.jupyter.widget-view+json": {
       "version_major": 2,
       "version_minor": 0,
       "model_id": "457f83bcb017488a99e892483f55d2e1"
      }
     },
     "metadata": {},
     "output_type": "display_data"
    },
    {
     "data": {
      "text/plain": [
       "Tundra_Swan.tar:   0%|          | 0.00/107M [00:00<?, ?B/s]"
      ],
      "application/vnd.jupyter.widget-view+json": {
       "version_major": 2,
       "version_minor": 0,
       "model_id": "ec25c011a26243c5bfa722b8ab3f200c"
      }
     },
     "metadata": {},
     "output_type": "display_data"
    },
    {
     "data": {
      "text/plain": [
       "Mute_Swan.tar:   0%|          | 0.00/155M [00:00<?, ?B/s]"
      ],
      "application/vnd.jupyter.widget-view+json": {
       "version_major": 2,
       "version_minor": 0,
       "model_id": "dd2be9968f7c4e1492266a8d75e94d2e"
      }
     },
     "metadata": {},
     "output_type": "display_data"
    },
    {
     "data": {
      "text/plain": [
       "Great_Egret.tar:   0%|          | 0.00/217M [00:00<?, ?B/s]"
      ],
      "application/vnd.jupyter.widget-view+json": {
       "version_major": 2,
       "version_minor": 0,
       "model_id": "27b5ff298de84c11b860f097f5f4be24"
      }
     },
     "metadata": {},
     "output_type": "display_data"
    },
    {
     "data": {
      "text/plain": [
       "Cattle_Egret.tar:   0%|          | 0.00/169M [00:00<?, ?B/s]"
      ],
      "application/vnd.jupyter.widget-view+json": {
       "version_major": 2,
       "version_minor": 0,
       "model_id": "0e138d25927247d68738ea01a869a249"
      }
     },
     "metadata": {},
     "output_type": "display_data"
    },
    {
     "data": {
      "text/plain": [
       "Black_crowned_Night_Heron.tar:   0%|          | 0.00/226M [00:00<?, ?B/s]"
      ],
      "application/vnd.jupyter.widget-view+json": {
       "version_major": 2,
       "version_minor": 0,
       "model_id": "48e9f894781648bdb2594b54ad7d8c49"
      }
     },
     "metadata": {},
     "output_type": "display_data"
    },
    {
     "data": {
      "text/plain": [
       "Bohemian_Waxwing.tar:   0%|          | 0.00/123M [00:00<?, ?B/s]"
      ],
      "application/vnd.jupyter.widget-view+json": {
       "version_major": 2,
       "version_minor": 0,
       "model_id": "e7abb50997e543b38f6b738067d031ca"
      }
     },
     "metadata": {},
     "output_type": "display_data"
    },
    {
     "data": {
      "text/plain": [
       "Lapland_Longspur.tar:   0%|          | 0.00/160M [00:00<?, ?B/s]"
      ],
      "application/vnd.jupyter.widget-view+json": {
       "version_major": 2,
       "version_minor": 0,
       "model_id": "66d745fedb3e4065adca7d2a9f92eaab"
      }
     },
     "metadata": {},
     "output_type": "display_data"
    },
    {
     "data": {
      "text/plain": [
       "Snow_Bunting.tar:   0%|          | 0.00/118M [00:00<?, ?B/s]"
      ],
      "application/vnd.jupyter.widget-view+json": {
       "version_major": 2,
       "version_minor": 0,
       "model_id": "30e736be72b04a5ab2ad42a472a45581"
      }
     },
     "metadata": {},
     "output_type": "display_data"
    },
    {
     "data": {
      "text/plain": [
       "American_Golden_Plover.tar:   0%|          | 0.00/82.4M [00:00<?, ?B/s]"
      ],
      "application/vnd.jupyter.widget-view+json": {
       "version_major": 2,
       "version_minor": 0,
       "model_id": "dd650274076e4927859156e63a4ce044"
      }
     },
     "metadata": {},
     "output_type": "display_data"
    },
    {
     "data": {
      "text/plain": [
       "Pacific_Golden_Plover.tar:   0%|          | 0.00/142M [00:00<?, ?B/s]"
      ],
      "application/vnd.jupyter.widget-view+json": {
       "version_major": 2,
       "version_minor": 0,
       "model_id": "bdba413b22434460ac6dad90b9e629ee"
      }
     },
     "metadata": {},
     "output_type": "display_data"
    },
    {
     "data": {
      "text/plain": [
       "Black_bellied_Plover.tar:   0%|          | 0.00/125M [00:00<?, ?B/s]"
      ],
      "application/vnd.jupyter.widget-view+json": {
       "version_major": 2,
       "version_minor": 0,
       "model_id": "de92a951635b4bb698a63019038dac12"
      }
     },
     "metadata": {},
     "output_type": "display_data"
    },
    {
     "data": {
      "text/plain": [
       "Rock_Pigeon.tar:   0%|          | 0.00/209M [00:00<?, ?B/s]"
      ],
      "application/vnd.jupyter.widget-view+json": {
       "version_major": 2,
       "version_minor": 0,
       "model_id": "c6ce60f2281d4308acd8d1c02968e888"
      }
     },
     "metadata": {},
     "output_type": "display_data"
    },
    {
     "data": {
      "text/plain": [
       "Eurasian_Collared_Dove.tar:   0%|          | 0.00/156M [00:00<?, ?B/s]"
      ],
      "application/vnd.jupyter.widget-view+json": {
       "version_major": 2,
       "version_minor": 0,
       "model_id": "4fb7dcfdf1fa43f4919c2d4f7051638f"
      }
     },
     "metadata": {},
     "output_type": "display_data"
    },
    {
     "data": {
      "text/plain": [
       "Common_Raven.tar:   0%|          | 0.00/168M [00:00<?, ?B/s]"
      ],
      "application/vnd.jupyter.widget-view+json": {
       "version_major": 2,
       "version_minor": 0,
       "model_id": "19c9def34fdd4e2fafe77ed5da911546"
      }
     },
     "metadata": {},
     "output_type": "display_data"
    },
    {
     "data": {
      "text/plain": [
       "Yellow_billed_Cuckoo.tar:   0%|          | 0.00/109M [00:00<?, ?B/s]"
      ],
      "application/vnd.jupyter.widget-view+json": {
       "version_major": 2,
       "version_minor": 0,
       "model_id": "440bd35a30b940f6a24c92da6d614b4a"
      }
     },
     "metadata": {},
     "output_type": "display_data"
    },
    {
     "data": {
      "text/plain": [
       "Black_billed_Cuckoo.tar:   0%|          | 0.00/84.5M [00:00<?, ?B/s]"
      ],
      "application/vnd.jupyter.widget-view+json": {
       "version_major": 2,
       "version_minor": 0,
       "model_id": "e4cbdaa2812d406daa83749a6bd32e0a"
      }
     },
     "metadata": {},
     "output_type": "display_data"
    },
    {
     "data": {
      "text/plain": [
       "Merlin.tar:   0%|          | 0.00/146M [00:00<?, ?B/s]"
      ],
      "application/vnd.jupyter.widget-view+json": {
       "version_major": 2,
       "version_minor": 0,
       "model_id": "be2d4658df46428b865ff77e347f56f3"
      }
     },
     "metadata": {},
     "output_type": "display_data"
    },
    {
     "data": {
      "text/plain": [
       "Peregrine_Falcon.tar:   0%|          | 0.00/65.3M [00:00<?, ?B/s]"
      ],
      "application/vnd.jupyter.widget-view+json": {
       "version_major": 2,
       "version_minor": 0,
       "model_id": "49b4dfdb5e704e8eb8aaf7a45cf9d267"
      }
     },
     "metadata": {},
     "output_type": "display_data"
    },
    {
     "data": {
      "text/plain": [
       "Common_Redpoll.tar:   0%|          | 0.00/124M [00:00<?, ?B/s]"
      ],
      "application/vnd.jupyter.widget-view+json": {
       "version_major": 2,
       "version_minor": 0,
       "model_id": "a07c07f7892e4a5bb3bd3fc0b0858ea5"
      }
     },
     "metadata": {},
     "output_type": "display_data"
    },
    {
     "data": {
      "text/plain": [
       "Red_Crossbill.tar:   0%|          | 0.00/85.1M [00:00<?, ?B/s]"
      ],
      "application/vnd.jupyter.widget-view+json": {
       "version_major": 2,
       "version_minor": 0,
       "model_id": "8b8ca698fed7443997fd864e66a9621e"
      }
     },
     "metadata": {},
     "output_type": "display_data"
    },
    {
     "data": {
      "text/plain": [
       "White_winged_Crossbill.tar:   0%|          | 0.00/89.4M [00:00<?, ?B/s]"
      ],
      "application/vnd.jupyter.widget-view+json": {
       "version_major": 2,
       "version_minor": 0,
       "model_id": "fde8b09d38ca4c72b9a72a9b2de3a57c"
      }
     },
     "metadata": {},
     "output_type": "display_data"
    },
    {
     "data": {
      "text/plain": [
       "Pine_Grosbeak.tar:   0%|          | 0.00/233M [00:00<?, ?B/s]"
      ],
      "application/vnd.jupyter.widget-view+json": {
       "version_major": 2,
       "version_minor": 0,
       "model_id": "2cd31bc904c94c80ab06ca81afc93366"
      }
     },
     "metadata": {},
     "output_type": "display_data"
    },
    {
     "data": {
      "text/plain": [
       "Common_Loon.tar:   0%|          | 0.00/194M [00:00<?, ?B/s]"
      ],
      "application/vnd.jupyter.widget-view+json": {
       "version_major": 2,
       "version_minor": 0,
       "model_id": "11b5a976c6424ab3b07f5dcd3994392f"
      }
     },
     "metadata": {},
     "output_type": "display_data"
    },
    {
     "data": {
      "text/plain": [
       "Red_throated_Loon.tar:   0%|          | 0.00/122M [00:00<?, ?B/s]"
      ],
      "application/vnd.jupyter.widget-view+json": {
       "version_major": 2,
       "version_minor": 0,
       "model_id": "8a34c8d03bdc4c3a871db1d00f7cf676"
      }
     },
     "metadata": {},
     "output_type": "display_data"
    },
    {
     "data": {
      "text/plain": [
       "Barn_Swallow.tar:   0%|          | 0.00/95.7M [00:00<?, ?B/s]"
      ],
      "application/vnd.jupyter.widget-view+json": {
       "version_major": 2,
       "version_minor": 0,
       "model_id": "daea2c780d824c8893006e5ccdae822c"
      }
     },
     "metadata": {},
     "output_type": "display_data"
    },
    {
     "data": {
      "text/plain": [
       "Bobolink.tar:   0%|          | 0.00/129M [00:00<?, ?B/s]"
      ],
      "application/vnd.jupyter.widget-view+json": {
       "version_major": 2,
       "version_minor": 0,
       "model_id": "2d278a763eac4dcaa964f9dd7bbd6f36"
      }
     },
     "metadata": {},
     "output_type": "display_data"
    },
    {
     "data": {
      "text/plain": [
       "Northern_Shrike.tar:   0%|          | 0.00/95.4M [00:00<?, ?B/s]"
      ],
      "application/vnd.jupyter.widget-view+json": {
       "version_major": 2,
       "version_minor": 0,
       "model_id": "bf29202f7d8345f188e2aa2705925045"
      }
     },
     "metadata": {},
     "output_type": "display_data"
    },
    {
     "data": {
      "text/plain": [
       "Herring_Gull.tar:   0%|          | 0.00/204M [00:00<?, ?B/s]"
      ],
      "application/vnd.jupyter.widget-view+json": {
       "version_major": 2,
       "version_minor": 0,
       "model_id": "e6866c0200a94b3eb766409205d4ac4c"
      }
     },
     "metadata": {},
     "output_type": "display_data"
    },
    {
     "data": {
      "text/plain": [
       "Mew_Gull.tar:   0%|          | 0.00/205M [00:00<?, ?B/s]"
      ],
      "application/vnd.jupyter.widget-view+json": {
       "version_major": 2,
       "version_minor": 0,
       "model_id": "cb1b732056ca4b228d21e216e7b8fdc0"
      }
     },
     "metadata": {},
     "output_type": "display_data"
    },
    {
     "data": {
      "text/plain": [
       "Ring_billed_Gull.tar:   0%|          | 0.00/148M [00:00<?, ?B/s]"
      ],
      "application/vnd.jupyter.widget-view+json": {
       "version_major": 2,
       "version_minor": 0,
       "model_id": "f726352e01c847eb88e2f6379601fb09"
      }
     },
     "metadata": {},
     "output_type": "display_data"
    },
    {
     "data": {
      "text/plain": [
       "Iceland_Gull.tar:   0%|          | 0.00/89.8M [00:00<?, ?B/s]"
      ],
      "application/vnd.jupyter.widget-view+json": {
       "version_major": 2,
       "version_minor": 0,
       "model_id": "25ae02c4abea4e95b4d252dfca392dc2"
      }
     },
     "metadata": {},
     "output_type": "display_data"
    },
    {
     "data": {
      "text/plain": [
       "Glaucous_Gull.tar:   0%|          | 0.00/163M [00:00<?, ?B/s]"
      ],
      "application/vnd.jupyter.widget-view+json": {
       "version_major": 2,
       "version_minor": 0,
       "model_id": "80d040c60d364fdf95b17d6daac7df1c"
      }
     },
     "metadata": {},
     "output_type": "display_data"
    },
    {
     "data": {
      "text/plain": [
       "Great_Black_backed_Gull.tar:   0%|          | 0.00/136M [00:00<?, ?B/s]"
      ],
      "application/vnd.jupyter.widget-view+json": {
       "version_major": 2,
       "version_minor": 0,
       "model_id": "8673b9769d0d4e45a73bf0e4e34132a0"
      }
     },
     "metadata": {},
     "output_type": "display_data"
    },
    {
     "data": {
      "text/plain": [
       "Laughing_Gull.tar:   0%|          | 0.00/186M [00:00<?, ?B/s]"
      ],
      "application/vnd.jupyter.widget-view+json": {
       "version_major": 2,
       "version_minor": 0,
       "model_id": "6d03031d5c67462eb3083bf1369dd54b"
      }
     },
     "metadata": {},
     "output_type": "display_data"
    },
    {
     "data": {
      "text/plain": [
       "Franklins_Gull.tar:   0%|          | 0.00/94.9M [00:00<?, ?B/s]"
      ],
      "application/vnd.jupyter.widget-view+json": {
       "version_major": 2,
       "version_minor": 0,
       "model_id": "405925c7ca774c7faf8931ce260c0689"
      }
     },
     "metadata": {},
     "output_type": "display_data"
    },
    {
     "data": {
      "text/plain": [
       "Black_legged_Kittiwake.tar:   0%|          | 0.00/102M [00:00<?, ?B/s]"
      ],
      "application/vnd.jupyter.widget-view+json": {
       "version_major": 2,
       "version_minor": 0,
       "model_id": "954ddcc5065943f8b7577af6161f4522"
      }
     },
     "metadata": {},
     "output_type": "display_data"
    },
    {
     "data": {
      "text/plain": [
       "Black_Tern.tar:   0%|          | 0.00/65.9M [00:00<?, ?B/s]"
      ],
      "application/vnd.jupyter.widget-view+json": {
       "version_major": 2,
       "version_minor": 0,
       "model_id": "cec1fbd3de4d46368efa67bb5c8a1573"
      }
     },
     "metadata": {},
     "output_type": "display_data"
    },
    {
     "data": {
      "text/plain": [
       "Gull_billed_Tern.tar:   0%|          | 0.00/58.2M [00:00<?, ?B/s]"
      ],
      "application/vnd.jupyter.widget-view+json": {
       "version_major": 2,
       "version_minor": 0,
       "model_id": "60566eaa4c304c849aa3fde0854596e5"
      }
     },
     "metadata": {},
     "output_type": "display_data"
    },
    {
     "data": {
      "text/plain": [
       "Caspian_Tern.tar:   0%|          | 0.00/106M [00:00<?, ?B/s]"
      ],
      "application/vnd.jupyter.widget-view+json": {
       "version_major": 2,
       "version_minor": 0,
       "model_id": "47d3a6a25f814f93924808476013f870"
      }
     },
     "metadata": {},
     "output_type": "display_data"
    },
    {
     "data": {
      "text/plain": [
       "Roseate_Tern.tar:   0%|          | 0.00/84.5M [00:00<?, ?B/s]"
      ],
      "application/vnd.jupyter.widget-view+json": {
       "version_major": 2,
       "version_minor": 0,
       "model_id": "50a216b68d1241fb8dd7ce6032381460"
      }
     },
     "metadata": {},
     "output_type": "display_data"
    },
    {
     "data": {
      "text/plain": [
       "Common_Tern.tar:   0%|          | 0.00/98.1M [00:00<?, ?B/s]"
      ],
      "application/vnd.jupyter.widget-view+json": {
       "version_major": 2,
       "version_minor": 0,
       "model_id": "5a4cdb9a41ee40dca2f57b6d6990903d"
      }
     },
     "metadata": {},
     "output_type": "display_data"
    },
    {
     "data": {
      "text/plain": [
       "Arctic_Tern.tar:   0%|          | 0.00/224M [00:00<?, ?B/s]"
      ],
      "application/vnd.jupyter.widget-view+json": {
       "version_major": 2,
       "version_minor": 0,
       "model_id": "2177521c6cc041febf36ce00f0e06080"
      }
     },
     "metadata": {},
     "output_type": "display_data"
    },
    {
     "data": {
      "text/plain": [
       "Sandwich_Tern.tar:   0%|          | 0.00/115M [00:00<?, ?B/s]"
      ],
      "application/vnd.jupyter.widget-view+json": {
       "version_major": 2,
       "version_minor": 0,
       "model_id": "6de0e09e4d4047df9737e14b63ac3e70"
      }
     },
     "metadata": {},
     "output_type": "display_data"
    },
    {
     "data": {
      "text/plain": [
       "American_Pipit.tar:   0%|          | 0.00/162M [00:00<?, ?B/s]"
      ],
      "application/vnd.jupyter.widget-view+json": {
       "version_major": 2,
       "version_minor": 0,
       "model_id": "8639bad4f0be485dace562a64f3e9180"
      }
     },
     "metadata": {},
     "output_type": "display_data"
    },
    {
     "data": {
      "text/plain": [
       "Northern_Bobwhite.tar:   0%|          | 0.00/101M [00:00<?, ?B/s]"
      ],
      "application/vnd.jupyter.widget-view+json": {
       "version_major": 2,
       "version_minor": 0,
       "model_id": "128297f96c3e4fafac93d4e2864c9227"
      }
     },
     "metadata": {},
     "output_type": "display_data"
    },
    {
     "data": {
      "text/plain": [
       "Osprey.tar:   0%|          | 0.00/146M [00:00<?, ?B/s]"
      ],
      "application/vnd.jupyter.widget-view+json": {
       "version_major": 2,
       "version_minor": 0,
       "model_id": "7f2d997f185c4f9694426187d0dbd404"
      }
     },
     "metadata": {},
     "output_type": "display_data"
    },
    {
     "data": {
      "text/plain": [
       "House_Sparrow.tar:   0%|          | 0.00/124M [00:00<?, ?B/s]"
      ],
      "application/vnd.jupyter.widget-view+json": {
       "version_major": 2,
       "version_minor": 0,
       "model_id": "d56a4f3c43484581b46e87248db6c8fe"
      }
     },
     "metadata": {},
     "output_type": "display_data"
    },
    {
     "data": {
      "text/plain": [
       "Great_Cormorant.tar:   0%|          | 0.00/98.9M [00:00<?, ?B/s]"
      ],
      "application/vnd.jupyter.widget-view+json": {
       "version_major": 2,
       "version_minor": 0,
       "model_id": "df3a1b8d4eea4dfbaf2765546707853d"
      }
     },
     "metadata": {},
     "output_type": "display_data"
    },
    {
     "data": {
      "text/plain": [
       "Ring_necked_Pheasant.tar:   0%|          | 0.00/171M [00:00<?, ?B/s]"
      ],
      "application/vnd.jupyter.widget-view+json": {
       "version_major": 2,
       "version_minor": 0,
       "model_id": "1651615b9d38423eb2622e5619e0fb73"
      }
     },
     "metadata": {},
     "output_type": "display_data"
    },
    {
     "data": {
      "text/plain": [
       "Rock_Ptarmigan.tar:   0%|          | 0.00/150M [00:00<?, ?B/s]"
      ],
      "application/vnd.jupyter.widget-view+json": {
       "version_major": 2,
       "version_minor": 0,
       "model_id": "81b263459aaf4946bbf58fef286b2f60"
      }
     },
     "metadata": {},
     "output_type": "display_data"
    },
    {
     "data": {
      "text/plain": [
       "Horned_Grebe.tar:   0%|          | 0.00/90.0M [00:00<?, ?B/s]"
      ],
      "application/vnd.jupyter.widget-view+json": {
       "version_major": 2,
       "version_minor": 0,
       "model_id": "edacb5794e7e449b89e6f30fd29bff64"
      }
     },
     "metadata": {},
     "output_type": "display_data"
    },
    {
     "data": {
      "text/plain": [
       "Red_necked_Grebe.tar:   0%|          | 0.00/118M [00:00<?, ?B/s]"
      ],
      "application/vnd.jupyter.widget-view+json": {
       "version_major": 2,
       "version_minor": 0,
       "model_id": "4c962f3065ff4d7783c9ba779a051e1d"
      }
     },
     "metadata": {},
     "output_type": "display_data"
    },
    {
     "name": "stdout",
     "output_type": "stream",
     "text": [
      "An exception occurred: <class 'huggingface_hub.errors.EntryNotFoundError'> for eared_Grebe\n"
     ]
    },
    {
     "data": {
      "text/plain": [
       "Monk_Parakeet.tar:   0%|          | 0.00/208M [00:00<?, ?B/s]"
      ],
      "application/vnd.jupyter.widget-view+json": {
       "version_major": 2,
       "version_minor": 0,
       "model_id": "e1ecdb9cbf6247c1b33dae7055c8bd7c"
      }
     },
     "metadata": {},
     "output_type": "display_data"
    },
    {
     "data": {
      "text/plain": [
       "Red_Phalarope.tar:   0%|          | 0.00/117M [00:00<?, ?B/s]"
      ],
      "application/vnd.jupyter.widget-view+json": {
       "version_major": 2,
       "version_minor": 0,
       "model_id": "336ffb3b88b241deb087adb770d5b632"
      }
     },
     "metadata": {},
     "output_type": "display_data"
    },
    {
     "data": {
      "text/plain": [
       "Red_necked_Phalarope.tar:   0%|          | 0.00/139M [00:00<?, ?B/s]"
      ],
      "application/vnd.jupyter.widget-view+json": {
       "version_major": 2,
       "version_minor": 0,
       "model_id": "65ab3d32008d40aab79dbdea5c950e2c"
      }
     },
     "metadata": {},
     "output_type": "display_data"
    },
    {
     "data": {
      "text/plain": [
       "Wilsons_Phalarope.tar:   0%|          | 0.00/130M [00:00<?, ?B/s]"
      ],
      "application/vnd.jupyter.widget-view+json": {
       "version_major": 2,
       "version_minor": 0,
       "model_id": "6904ffb73e98406e8a915ac3160cbc30"
      }
     },
     "metadata": {},
     "output_type": "display_data"
    },
    {
     "data": {
      "text/plain": [
       "Ruddy_Turnstone.tar:   0%|          | 0.00/176M [00:00<?, ?B/s]"
      ],
      "application/vnd.jupyter.widget-view+json": {
       "version_major": 2,
       "version_minor": 0,
       "model_id": "3b7fb96efb174df5a622883861d7fa2e"
      }
     },
     "metadata": {},
     "output_type": "display_data"
    },
    {
     "data": {
      "text/plain": [
       "Upland_Sandpiper.tar:   0%|          | 0.00/80.8M [00:00<?, ?B/s]"
      ],
      "application/vnd.jupyter.widget-view+json": {
       "version_major": 2,
       "version_minor": 0,
       "model_id": "b5603766f0394f0c9a43df175834c2d3"
      }
     },
     "metadata": {},
     "output_type": "display_data"
    },
    {
     "data": {
      "text/plain": [
       "Sanderling.tar:   0%|          | 0.00/103M [00:00<?, ?B/s]"
      ],
      "application/vnd.jupyter.widget-view+json": {
       "version_major": 2,
       "version_minor": 0,
       "model_id": "6a533a51b45f4b0392ea6d5475f25d20"
      }
     },
     "metadata": {},
     "output_type": "display_data"
    },
    {
     "data": {
      "text/plain": [
       "Dunlin.tar:   0%|          | 0.00/92.7M [00:00<?, ?B/s]"
      ],
      "application/vnd.jupyter.widget-view+json": {
       "version_major": 2,
       "version_minor": 0,
       "model_id": "6e73c5b707c0425e9b5b0e8560f5d50f"
      }
     },
     "metadata": {},
     "output_type": "display_data"
    },
    {
     "data": {
      "text/plain": [
       "Bairds_Sandpiper.tar:   0%|          | 0.00/106M [00:00<?, ?B/s]"
      ],
      "application/vnd.jupyter.widget-view+json": {
       "version_major": 2,
       "version_minor": 0,
       "model_id": "d70178b34e8545d6b1c5aa7ee721a36d"
      }
     },
     "metadata": {},
     "output_type": "display_data"
    },
    {
     "data": {
      "text/plain": [
       "Red_Knot.tar:   0%|          | 0.00/86.8M [00:00<?, ?B/s]"
      ],
      "application/vnd.jupyter.widget-view+json": {
       "version_major": 2,
       "version_minor": 0,
       "model_id": "6682985bb3804b40ace1f1870c60eb22"
      }
     },
     "metadata": {},
     "output_type": "display_data"
    },
    {
     "data": {
      "text/plain": [
       "White_rumped_Sandpiper.tar:   0%|          | 0.00/67.4M [00:00<?, ?B/s]"
      ],
      "application/vnd.jupyter.widget-view+json": {
       "version_major": 2,
       "version_minor": 0,
       "model_id": "f96ceb2a8dd345d28c36de55299d78a2"
      }
     },
     "metadata": {},
     "output_type": "display_data"
    },
    {
     "data": {
      "text/plain": [
       "Purple_Sandpiper.tar:   0%|          | 0.00/216M [00:00<?, ?B/s]"
      ],
      "application/vnd.jupyter.widget-view+json": {
       "version_major": 2,
       "version_minor": 0,
       "model_id": "c687971c6a934f54a7a17a9583bde00b"
      }
     },
     "metadata": {},
     "output_type": "display_data"
    },
    {
     "data": {
      "text/plain": [
       "Pectoral_Sandpiper.tar:   0%|          | 0.00/117M [00:00<?, ?B/s]"
      ],
      "application/vnd.jupyter.widget-view+json": {
       "version_major": 2,
       "version_minor": 0,
       "model_id": "a0709f47b3b54a78bb67cbd4cfd8872b"
      }
     },
     "metadata": {},
     "output_type": "display_data"
    },
    {
     "data": {
      "text/plain": [
       "Least_Sandpiper.tar:   0%|          | 0.00/165M [00:00<?, ?B/s]"
      ],
      "application/vnd.jupyter.widget-view+json": {
       "version_major": 2,
       "version_minor": 0,
       "model_id": "584d4a2243d6456e9b6b483844917341"
      }
     },
     "metadata": {},
     "output_type": "display_data"
    },
    {
     "data": {
      "text/plain": [
       "Long_billed_Dowitcher.tar:   0%|          | 0.00/147M [00:00<?, ?B/s]"
      ],
      "application/vnd.jupyter.widget-view+json": {
       "version_major": 2,
       "version_minor": 0,
       "model_id": "766d169eed554e7b8aa6d97d1a3651df"
      }
     },
     "metadata": {},
     "output_type": "display_data"
    },
    {
     "data": {
      "text/plain": [
       "Whimbrel.tar:   0%|          | 0.00/162M [00:00<?, ?B/s]"
      ],
      "application/vnd.jupyter.widget-view+json": {
       "version_major": 2,
       "version_minor": 0,
       "model_id": "77f57a664b4d4e36a7ddc9e9296162a5"
      }
     },
     "metadata": {},
     "output_type": "display_data"
    },
    {
     "data": {
      "text/plain": [
       "Lesser_Yellowlegs.tar:   0%|          | 0.00/211M [00:00<?, ?B/s]"
      ],
      "application/vnd.jupyter.widget-view+json": {
       "version_major": 2,
       "version_minor": 0,
       "model_id": "6d4ad953edd44cc596930ffee7c2b3cf"
      }
     },
     "metadata": {},
     "output_type": "display_data"
    },
    {
     "data": {
      "text/plain": [
       "Willet.tar:   0%|          | 0.00/223M [00:00<?, ?B/s]"
      ],
      "application/vnd.jupyter.widget-view+json": {
       "version_major": 2,
       "version_minor": 0,
       "model_id": "10ae2ccfb7d341a4aed3c13f06fe48ee"
      }
     },
     "metadata": {},
     "output_type": "display_data"
    },
    {
     "data": {
      "text/plain": [
       "Short_eared_Owl.tar:   0%|          | 0.00/128M [00:00<?, ?B/s]"
      ],
      "application/vnd.jupyter.widget-view+json": {
       "version_major": 2,
       "version_minor": 0,
       "model_id": "8e2e6b17f63b4ba59fd887b5323dde18"
      }
     },
     "metadata": {},
     "output_type": "display_data"
    },
    {
     "data": {
      "text/plain": [
       "Long_eared_Owl.tar:   0%|          | 0.00/185M [00:00<?, ?B/s]"
      ],
      "application/vnd.jupyter.widget-view+json": {
       "version_major": 2,
       "version_minor": 0,
       "model_id": "baa198ca709c42a0b7e949e64edc6a3f"
      }
     },
     "metadata": {},
     "output_type": "display_data"
    },
    {
     "data": {
      "text/plain": [
       "European_Starling.tar:   0%|          | 0.00/176M [00:00<?, ?B/s]"
      ],
      "application/vnd.jupyter.widget-view+json": {
       "version_major": 2,
       "version_minor": 0,
       "model_id": "6d31b5af571d4b08a1e04dd60c0c9ef0"
      }
     },
     "metadata": {},
     "output_type": "display_data"
    },
    {
     "data": {
      "text/plain": [
       "Northern_Gannet.tar:   0%|          | 0.00/158M [00:00<?, ?B/s]"
      ],
      "application/vnd.jupyter.widget-view+json": {
       "version_major": 2,
       "version_minor": 0,
       "model_id": "afa251f1361148b88a1ecd43ec75a2bd"
      }
     },
     "metadata": {},
     "output_type": "display_data"
    },
    {
     "data": {
      "text/plain": [
       "Glossy_Ibis.tar:   0%|          | 0.00/167M [00:00<?, ?B/s]"
      ],
      "application/vnd.jupyter.widget-view+json": {
       "version_major": 2,
       "version_minor": 0,
       "model_id": "2522ebf4f47447099fc0d56859ed9a4d"
      }
     },
     "metadata": {},
     "output_type": "display_data"
    },
    {
     "data": {
      "text/plain": [
       "Hermit_Thrush.tar:   0%|          | 0.00/183M [00:00<?, ?B/s]"
      ],
      "application/vnd.jupyter.widget-view+json": {
       "version_major": 2,
       "version_minor": 0,
       "model_id": "638b8b432caa412a978491d2e9bbda47"
      }
     },
     "metadata": {},
     "output_type": "display_data"
    },
    {
     "name": "stdout",
     "output_type": "stream",
     "text": [
      "An exception occurred: <class 'huggingface_hub.errors.EntryNotFoundError'> for Gray_Cheeked_Thrush\n"
     ]
    },
    {
     "data": {
      "text/plain": [
       "Red_eyed_Vireo.tar:   0%|          | 0.00/147M [00:00<?, ?B/s]"
      ],
      "application/vnd.jupyter.widget-view+json": {
       "version_major": 2,
       "version_minor": 0,
       "model_id": "57a9a4af3dab4342999199f137d67c81"
      }
     },
     "metadata": {},
     "output_type": "display_data"
    },
    {
     "name": "stdout",
     "output_type": "stream",
     "text": [
      "Downloaded 99 images\n"
     ]
    }
   ],
   "execution_count": 10
  },
  {
   "metadata": {
    "ExecuteTime": {
     "end_time": "2025-05-26T15:37:13.346816Z",
     "start_time": "2025-05-26T15:37:04.318499Z"
    }
   },
   "cell_type": "code",
   "source": [
    "import tarfile\n",
    "\n",
    "for dirpath, dirnames, filenames in os.walk(BIRDSNAP_DATASET_PATH / 'download/images'):\n",
    "    for tar_file in filenames:\n",
    "        with tarfile.open(os.path.join(dirpath, tar_file)) as tar_file_opened:\n",
    "            tar_file_opened.extractall(path=BIRDSNAP_DATASET_PATH / 'download/images')\n",
    "        os.remove(os.path.join(dirpath, tar_file))"
   ],
   "id": "edb1392b7f660fb7",
   "outputs": [],
   "execution_count": 11
  },
  {
   "metadata": {
    "ExecuteTime": {
     "end_time": "2025-05-26T15:37:14.561207Z",
     "start_time": "2025-05-26T15:37:13.347492Z"
    }
   },
   "cell_type": "code",
   "source": [
    "utilities.create_train_cv_from_folder(\n",
    "    root=BIRDSNAP_DATASET_PATH/'download/images',\n",
    "    train_cv_perc=0.9,\n",
    "    train_folder=DATASET_TRAIN_FOLDER,\n",
    "    cv_folder=DATASET_TEST_FOLDER,\n",
    "    \n",
    ")"
   ],
   "id": "92be9d46eb1e6260",
   "outputs": [
    {
     "name": "stdout",
     "output_type": "stream",
     "text": [
      "Working on images | Moving 0 pictures\n",
      "Working on Pectoral_Sandpiper | Moving 78 pictures\n",
      "Working on Pacific_Golden_Plover | Moving 91 pictures\n",
      "Working on Bairds_Sandpiper | Moving 84 pictures\n",
      "Working on Herring_Gull | Moving 82 pictures\n",
      "Working on Greater_Scaup | Moving 85 pictures\n",
      "Working on Pine_Grosbeak | Moving 86 pictures\n",
      "Working on Short_eared_Owl | Moving 72 pictures\n",
      "Working on Black_Tern | Moving 74 pictures\n",
      "Working on Barn_Swallow | Moving 84 pictures\n",
      "Working on Lesser_Yellowlegs | Moving 90 pictures\n",
      "Working on Wilsons_Phalarope | Moving 88 pictures\n",
      "Working on Franklins_Gull | Moving 71 pictures\n",
      "Working on Mute_Swan | Moving 74 pictures\n",
      "Working on Merlin | Moving 94 pictures\n",
      "Working on Ring_necked_Pheasant | Moving 90 pictures\n",
      "Working on Laughing_Gull | Moving 88 pictures\n",
      "Working on Harlequin_Duck | Moving 64 pictures\n",
      "Working on White_winged_Scoter | Moving 84 pictures\n",
      "Working on Long_tailed_Duck | Moving 89 pictures\n",
      "Working on Green_winged_Teal | Moving 77 pictures\n",
      "Working on Greater_White_fronted_Goose | Moving 79 pictures\n",
      "Working on Hermit_Thrush | Moving 94 pictures\n",
      "Working on Bohemian_Waxwing | Moving 69 pictures\n",
      "Working on Northern_Pintail | Moving 91 pictures\n",
      "Working on Sanderling | Moving 77 pictures\n",
      "Working on Monk_Parakeet | Moving 91 pictures\n",
      "Working on White_rumped_Sandpiper | Moving 68 pictures\n",
      "Working on Great_Black_backed_Gull | Moving 69 pictures\n",
      "Working on Common_Eider | Moving 87 pictures\n",
      "Working on Lapland_Longspur | Moving 80 pictures\n",
      "Working on Rough_legged_Hawk | Moving 89 pictures\n",
      "Working on Arctic_Tern | Moving 84 pictures\n",
      "Working on Ruddy_Duck | Moving 89 pictures\n",
      "Working on Canada_Goose | Moving 81 pictures\n",
      "Working on Northern_Harrier | Moving 88 pictures\n",
      "Working on Mew_Gull | Moving 89 pictures\n",
      "Working on Common_Redpoll | Moving 76 pictures\n",
      "Working on Cattle_Egret | Moving 87 pictures\n",
      "Working on Red_eyed_Vireo | Moving 95 pictures\n",
      "Working on Tundra_Swan | Moving 67 pictures\n",
      "Working on Great_Cormorant | Moving 73 pictures\n",
      "Working on Peregrine_Falcon | Moving 61 pictures\n",
      "Working on Rock_Pigeon | Moving 90 pictures\n",
      "Working on Common_Tern | Moving 86 pictures\n",
      "Working on Willet | Moving 90 pictures\n",
      "Working on House_Sparrow | Moving 87 pictures\n",
      "Working on Whimbrel | Moving 91 pictures\n",
      "Working on Roseate_Tern | Moving 67 pictures\n",
      "Working on Upland_Sandpiper | Moving 73 pictures\n",
      "Working on Red_Knot | Moving 67 pictures\n",
      "Working on Northern_Shrike | Moving 83 pictures\n",
      "Working on Osprey | Moving 85 pictures\n",
      "Working on Black_legged_Kittiwake | Moving 77 pictures\n",
      "Working on Mallard | Moving 80 pictures\n",
      "Working on Great_Egret | Moving 89 pictures\n",
      "Working on Ring_billed_Gull | Moving 91 pictures\n",
      "Working on Common_Murre | Moving 74 pictures\n",
      "Working on Long_billed_Dowitcher | Moving 81 pictures\n",
      "Working on Red_Crossbill | Moving 70 pictures\n",
      "Working on Glossy_Ibis | Moving 88 pictures\n",
      "Working on Ring_necked_Duck | Moving 83 pictures\n",
      "Working on Red_necked_Phalarope | Moving 88 pictures\n",
      "Working on Dunlin | Moving 94 pictures\n",
      "Working on American_Pipit | Moving 92 pictures\n",
      "Working on Red_necked_Grebe | Moving 87 pictures\n",
      "Working on Horned_Lark | Moving 92 pictures\n",
      "Working on Common_Merganser | Moving 91 pictures\n",
      "Working on Sandwich_Tern | Moving 83 pictures\n",
      "Working on Horned_Grebe | Moving 92 pictures\n",
      "Working on White_winged_Crossbill | Moving 76 pictures\n",
      "Working on Northern_Gannet | Moving 83 pictures\n",
      "Working on Red_throated_Loon | Moving 84 pictures\n",
      "Working on Brant | Moving 81 pictures\n",
      "Working on Eurasian_Collared_Dove | Moving 91 pictures\n",
      "Working on Common_Loon | Moving 92 pictures\n",
      "Working on Black_crowned_Night_Heron | Moving 88 pictures\n",
      "Working on Bobolink | Moving 87 pictures\n",
      "Working on Yellow_billed_Cuckoo | Moving 89 pictures\n",
      "Working on American_Golden_Plover | Moving 85 pictures\n",
      "Working on Purple_Sandpiper | Moving 86 pictures\n",
      "Working on Golden_Eagle | Moving 88 pictures\n",
      "Working on Northern_Bobwhite | Moving 74 pictures\n",
      "Working on Gull_billed_Tern | Moving 71 pictures\n",
      "Working on Ruddy_Turnstone | Moving 88 pictures\n",
      "Working on Red_breasted_Merganser | Moving 87 pictures\n",
      "Working on European_Starling | Moving 87 pictures\n",
      "Working on Red_Phalarope | Moving 81 pictures\n",
      "Working on Rock_Ptarmigan | Moving 79 pictures\n",
      "Working on Common_Raven | Moving 81 pictures\n",
      "Working on Black_billed_Cuckoo | Moving 69 pictures\n",
      "Working on Common_Goldeneye | Moving 88 pictures\n",
      "Working on Iceland_Gull | Moving 73 pictures\n",
      "Working on Glaucous_Gull | Moving 85 pictures\n",
      "Working on Snow_Bunting | Moving 78 pictures\n",
      "Working on Black_bellied_Plover | Moving 90 pictures\n",
      "Working on Long_eared_Owl | Moving 86 pictures\n",
      "Working on Least_Sandpiper | Moving 97 pictures\n",
      "Working on Northern_Goshawk | Moving 91 pictures\n",
      "Working on Caspian_Tern | Moving 73 pictures\n"
     ]
    }
   ],
   "execution_count": 12
  }
 ],
 "metadata": {
  "kernelspec": {
   "display_name": "Python 3",
   "language": "python",
   "name": "python3"
  },
  "language_info": {
   "codemirror_mode": {
    "name": "ipython",
    "version": 2
   },
   "file_extension": ".py",
   "mimetype": "text/x-python",
   "name": "python",
   "nbconvert_exporter": "python",
   "pygments_lexer": "ipython2",
   "version": "2.7.6"
  }
 },
 "nbformat": 4,
 "nbformat_minor": 5
}
